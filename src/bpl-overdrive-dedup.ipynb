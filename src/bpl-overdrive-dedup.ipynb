{
 "cells": [
  {
   "cell_type": "code",
   "execution_count": 19,
   "metadata": {},
   "outputs": [],
   "source": [
    "import pandas as pd"
   ]
  },
  {
   "cell_type": "code",
   "execution_count": 20,
   "metadata": {},
   "outputs": [],
   "source": [
    "data_in = \"./reports/BPL/bpl-dedup-data.csv\""
   ]
  },
  {
   "cell_type": "code",
   "execution_count": 21,
   "metadata": {},
   "outputs": [],
   "source": [
    "df = pd.read_csv(data_in, header=None, names=[\"overdriveNo\", \"bibNo\", \"controlNo\", \"format\", \"status\"])"
   ]
  },
  {
   "cell_type": "code",
   "execution_count": 22,
   "metadata": {},
   "outputs": [
    {
     "data": {
      "text/plain": [
       "(224460, 5)"
      ]
     },
     "execution_count": 22,
     "metadata": {},
     "output_type": "execute_result"
    }
   ],
   "source": [
    "df.shape"
   ]
  },
  {
   "cell_type": "code",
   "execution_count": 23,
   "metadata": {},
   "outputs": [
    {
     "data": {
      "text/plain": [
       "223614"
      ]
     },
     "execution_count": 23,
     "metadata": {},
     "output_type": "execute_result"
    }
   ],
   "source": [
    "# multiple controlNos?\n",
    "df[\"bibNo\"].nunique()"
   ]
  },
  {
   "cell_type": "code",
   "execution_count": 24,
   "metadata": {},
   "outputs": [
    {
     "data": {
      "text/plain": [
       "221071"
      ]
     },
     "execution_count": 24,
     "metadata": {},
     "output_type": "execute_result"
    }
   ],
   "source": [
    "# multiple Reserve#?\n",
    "df[\"overdriveNo\"].nunique()"
   ]
  },
  {
   "cell_type": "markdown",
   "metadata": {},
   "source": [
    "## OverdriveNo duplicates"
   ]
  },
  {
   "cell_type": "code",
   "execution_count": 25,
   "metadata": {},
   "outputs": [],
   "source": [
    "overdriveNo_dups = df.duplicated(subset=[\"overdriveNo\"], keep=False)"
   ]
  },
  {
   "cell_type": "code",
   "execution_count": 26,
   "metadata": {},
   "outputs": [
    {
     "data": {
      "text/plain": [
       "(224460,)"
      ]
     },
     "execution_count": 26,
     "metadata": {},
     "output_type": "execute_result"
    }
   ],
   "source": [
    "overdriveNo_dups.shape"
   ]
  },
  {
   "cell_type": "code",
   "execution_count": 27,
   "metadata": {},
   "outputs": [
    {
     "data": {
      "text/plain": [
       "0    False\n",
       "1    False\n",
       "2    False\n",
       "3    False\n",
       "4    False\n",
       "dtype: bool"
      ]
     },
     "execution_count": 27,
     "metadata": {},
     "output_type": "execute_result"
    }
   ],
   "source": [
    "overdriveNo_dups.head()"
   ]
  },
  {
   "cell_type": "code",
   "execution_count": 28,
   "metadata": {},
   "outputs": [
    {
     "data": {
      "text/html": [
       "<div>\n",
       "<style scoped>\n",
       "    .dataframe tbody tr th:only-of-type {\n",
       "        vertical-align: middle;\n",
       "    }\n",
       "\n",
       "    .dataframe tbody tr th {\n",
       "        vertical-align: top;\n",
       "    }\n",
       "\n",
       "    .dataframe thead th {\n",
       "        text-align: right;\n",
       "    }\n",
       "</style>\n",
       "<table border=\"1\" class=\"dataframe\">\n",
       "  <thead>\n",
       "    <tr style=\"text-align: right;\">\n",
       "      <th></th>\n",
       "      <th>overdriveNo</th>\n",
       "      <th>bibNo</th>\n",
       "      <th>controlNo</th>\n",
       "      <th>format</th>\n",
       "      <th>status</th>\n",
       "    </tr>\n",
       "  </thead>\n",
       "  <tbody>\n",
       "    <tr>\n",
       "      <th>23</th>\n",
       "      <td>AF58A013-045C-4ED6-A954-68CBD505649D</td>\n",
       "      <td>b112411241</td>\n",
       "      <td>ocm57496923</td>\n",
       "      <td>z</td>\n",
       "      <td>-</td>\n",
       "    </tr>\n",
       "    <tr>\n",
       "      <th>24</th>\n",
       "      <td>A6A563AB-6D0F-4F5F-86CD-49952F4B3963</td>\n",
       "      <td>b112411253</td>\n",
       "      <td>ocm57497004</td>\n",
       "      <td>z</td>\n",
       "      <td>-</td>\n",
       "    </tr>\n",
       "    <tr>\n",
       "      <th>25</th>\n",
       "      <td>B1DA5A7A-2394-483C-B473-6177D7CECC7D</td>\n",
       "      <td>b112411265</td>\n",
       "      <td>ocm57497174</td>\n",
       "      <td>z</td>\n",
       "      <td>-</td>\n",
       "    </tr>\n",
       "    <tr>\n",
       "      <th>26</th>\n",
       "      <td>7780D9B9-7C22-44AF-8CED-CDEB04A4D69E</td>\n",
       "      <td>b112411289</td>\n",
       "      <td>ocm57506160</td>\n",
       "      <td>z</td>\n",
       "      <td>-</td>\n",
       "    </tr>\n",
       "    <tr>\n",
       "      <th>29</th>\n",
       "      <td>D6B5F7A4-F92D-41FE-8692-27A64F56C7BE</td>\n",
       "      <td>b112411320</td>\n",
       "      <td>ocm57682901</td>\n",
       "      <td>z</td>\n",
       "      <td>-</td>\n",
       "    </tr>\n",
       "    <tr>\n",
       "      <th>...</th>\n",
       "      <td>...</td>\n",
       "      <td>...</td>\n",
       "      <td>...</td>\n",
       "      <td>...</td>\n",
       "      <td>...</td>\n",
       "    </tr>\n",
       "    <tr>\n",
       "      <th>222393</th>\n",
       "      <td>C073935C-2D00-4410-AAE8-1FBB9452AE59</td>\n",
       "      <td>b123508125</td>\n",
       "      <td>ODN0005152857</td>\n",
       "      <td>x</td>\n",
       "      <td>-</td>\n",
       "    </tr>\n",
       "    <tr>\n",
       "      <th>222394</th>\n",
       "      <td>C08681FE-339A-4976-8447-D89FB91EDF13</td>\n",
       "      <td>b123508137</td>\n",
       "      <td>ODN0005274943</td>\n",
       "      <td>x</td>\n",
       "      <td>-</td>\n",
       "    </tr>\n",
       "    <tr>\n",
       "      <th>222395</th>\n",
       "      <td>F764A835-C5AA-48EA-A3ED-144901703011</td>\n",
       "      <td>b123508149</td>\n",
       "      <td>ODN0005057245</td>\n",
       "      <td>x</td>\n",
       "      <td>-</td>\n",
       "    </tr>\n",
       "    <tr>\n",
       "      <th>222507</th>\n",
       "      <td>91DE4428-4167-4206-9F1A-1184095E93E8</td>\n",
       "      <td>b123509269</td>\n",
       "      <td>ODN0005015369</td>\n",
       "      <td>x</td>\n",
       "      <td>-</td>\n",
       "    </tr>\n",
       "    <tr>\n",
       "      <th>222678</th>\n",
       "      <td>91DE4428-4167-4206-9F1A-1184095E93E8</td>\n",
       "      <td>b123510971</td>\n",
       "      <td>ODN0005015369</td>\n",
       "      <td>x</td>\n",
       "      <td>-</td>\n",
       "    </tr>\n",
       "  </tbody>\n",
       "</table>\n",
       "<p>6761 rows × 5 columns</p>\n",
       "</div>"
      ],
      "text/plain": [
       "                                 overdriveNo       bibNo      controlNo  \\\n",
       "23      AF58A013-045C-4ED6-A954-68CBD505649D  b112411241    ocm57496923   \n",
       "24      A6A563AB-6D0F-4F5F-86CD-49952F4B3963  b112411253    ocm57497004   \n",
       "25      B1DA5A7A-2394-483C-B473-6177D7CECC7D  b112411265    ocm57497174   \n",
       "26      7780D9B9-7C22-44AF-8CED-CDEB04A4D69E  b112411289    ocm57506160   \n",
       "29      D6B5F7A4-F92D-41FE-8692-27A64F56C7BE  b112411320    ocm57682901   \n",
       "...                                      ...         ...            ...   \n",
       "222393  C073935C-2D00-4410-AAE8-1FBB9452AE59  b123508125  ODN0005152857   \n",
       "222394  C08681FE-339A-4976-8447-D89FB91EDF13  b123508137  ODN0005274943   \n",
       "222395  F764A835-C5AA-48EA-A3ED-144901703011  b123508149  ODN0005057245   \n",
       "222507  91DE4428-4167-4206-9F1A-1184095E93E8  b123509269  ODN0005015369   \n",
       "222678  91DE4428-4167-4206-9F1A-1184095E93E8  b123510971  ODN0005015369   \n",
       "\n",
       "       format status  \n",
       "23          z      -  \n",
       "24          z      -  \n",
       "25          z      -  \n",
       "26          z      -  \n",
       "29          z      -  \n",
       "...       ...    ...  \n",
       "222393      x      -  \n",
       "222394      x      -  \n",
       "222395      x      -  \n",
       "222507      x      -  \n",
       "222678      x      -  \n",
       "\n",
       "[6761 rows x 5 columns]"
      ]
     },
     "execution_count": 28,
     "metadata": {},
     "output_type": "execute_result"
    }
   ],
   "source": [
    "df[overdriveNo_dups]"
   ]
  },
  {
   "cell_type": "code",
   "execution_count": 29,
   "metadata": {},
   "outputs": [],
   "source": [
    "df[overdriveNo_dups].to_csv(\"./reports/BPL/overdriveNo-dups.csv\", index=False)"
   ]
  },
  {
   "cell_type": "markdown",
   "metadata": {},
   "source": [
    "## ControlNO duplicates"
   ]
  },
  {
   "cell_type": "code",
   "execution_count": 30,
   "metadata": {},
   "outputs": [],
   "source": [
    "controlNo_dups = df.duplicated(subset=[\"controlNo\"], keep=False)"
   ]
  },
  {
   "cell_type": "code",
   "execution_count": 31,
   "metadata": {},
   "outputs": [
    {
     "data": {
      "text/plain": [
       "(224460,)"
      ]
     },
     "execution_count": 31,
     "metadata": {},
     "output_type": "execute_result"
    }
   ],
   "source": [
    "controlNo_dups.shape"
   ]
  },
  {
   "cell_type": "code",
   "execution_count": 32,
   "metadata": {},
   "outputs": [
    {
     "data": {
      "text/plain": [
       "0    False\n",
       "1    False\n",
       "2    False\n",
       "3    False\n",
       "4    False\n",
       "dtype: bool"
      ]
     },
     "execution_count": 32,
     "metadata": {},
     "output_type": "execute_result"
    }
   ],
   "source": [
    "controlNo_dups.head()"
   ]
  },
  {
   "cell_type": "code",
   "execution_count": 34,
   "metadata": {},
   "outputs": [],
   "source": [
    "df[controlNo_dups].to_csv(\"./reports/BPL/controlNo-dups.csv\", index=False)"
   ]
  },
  {
   "cell_type": "code",
   "execution_count": null,
   "metadata": {},
   "outputs": [],
   "source": []
  }
 ],
 "metadata": {
  "kernelspec": {
   "display_name": "Python 3",
   "language": "python",
   "name": "python3"
  },
  "language_info": {
   "codemirror_mode": {
    "name": "ipython",
    "version": 3
   },
   "file_extension": ".py",
   "mimetype": "text/x-python",
   "name": "python",
   "nbconvert_exporter": "python",
   "pygments_lexer": "ipython3",
   "version": "3.7.3"
  }
 },
 "nbformat": 4,
 "nbformat_minor": 4
}
