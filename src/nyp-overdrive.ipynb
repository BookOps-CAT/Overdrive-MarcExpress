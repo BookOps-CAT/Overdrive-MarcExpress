{
 "cells": [
  {
   "cell_type": "code",
   "execution_count": 1,
   "metadata": {},
   "outputs": [],
   "source": [
    "import pandas as pd"
   ]
  },
  {
   "cell_type": "code",
   "execution_count": 2,
   "metadata": {},
   "outputs": [],
   "source": [
    "overdrive_fh = \"./reports/NYPL/od-nyp-all.csv\""
   ]
  },
  {
   "cell_type": "markdown",
   "metadata": {},
   "source": [
    "## Overdrive bulk MarcExpress dataframe"
   ]
  },
  {
   "cell_type": "code",
   "execution_count": 3,
   "metadata": {},
   "outputs": [],
   "source": [
    "odf = pd.read_csv(overdrive_fh, header=None, names=[\"overdriveNo\", \"overdriveControlNo\", \"sierraFormat_ext\"])"
   ]
  },
  {
   "cell_type": "code",
   "execution_count": 4,
   "metadata": {},
   "outputs": [
    {
     "data": {
      "text/plain": [
       "(246474, 3)"
      ]
     },
     "execution_count": 4,
     "metadata": {},
     "output_type": "execute_result"
    }
   ],
   "source": [
    "odf.shape"
   ]
  },
  {
   "cell_type": "code",
   "execution_count": 5,
   "metadata": {},
   "outputs": [
    {
     "data": {
      "text/html": [
       "<div>\n",
       "<style scoped>\n",
       "    .dataframe tbody tr th:only-of-type {\n",
       "        vertical-align: middle;\n",
       "    }\n",
       "\n",
       "    .dataframe tbody tr th {\n",
       "        vertical-align: top;\n",
       "    }\n",
       "\n",
       "    .dataframe thead th {\n",
       "        text-align: right;\n",
       "    }\n",
       "</style>\n",
       "<table border=\"1\" class=\"dataframe\">\n",
       "  <thead>\n",
       "    <tr style=\"text-align: right;\">\n",
       "      <th></th>\n",
       "      <th>overdriveNo</th>\n",
       "      <th>overdriveControlNo</th>\n",
       "      <th>sierraFormat_ext</th>\n",
       "    </tr>\n",
       "  </thead>\n",
       "  <tbody>\n",
       "    <tr>\n",
       "      <th>0</th>\n",
       "      <td>C2E25112-2EC8-4088-9D18-160AD882917F</td>\n",
       "      <td>ODN0000149034</td>\n",
       "      <td>3</td>\n",
       "    </tr>\n",
       "    <tr>\n",
       "      <th>1</th>\n",
       "      <td>D42B7FB1-F40F-4D43-A77E-35A63B028A19</td>\n",
       "      <td>ODN0000149045</td>\n",
       "      <td>3</td>\n",
       "    </tr>\n",
       "    <tr>\n",
       "      <th>2</th>\n",
       "      <td>2AA05401-0C51-4E57-BDB5-81007BF87C97</td>\n",
       "      <td>ODN0000149054</td>\n",
       "      <td>3</td>\n",
       "    </tr>\n",
       "    <tr>\n",
       "      <th>3</th>\n",
       "      <td>5D74233B-39AE-4D57-A5DE-D07C1FAD0647</td>\n",
       "      <td>ODN0000149055</td>\n",
       "      <td>3</td>\n",
       "    </tr>\n",
       "    <tr>\n",
       "      <th>4</th>\n",
       "      <td>FADF579F-E299-4780-8BDD-CA9E1142743D</td>\n",
       "      <td>ODN0000149056</td>\n",
       "      <td>3</td>\n",
       "    </tr>\n",
       "  </tbody>\n",
       "</table>\n",
       "</div>"
      ],
      "text/plain": [
       "                            overdriveNo overdriveControlNo sierraFormat_ext\n",
       "0  C2E25112-2EC8-4088-9D18-160AD882917F      ODN0000149034                3\n",
       "1  D42B7FB1-F40F-4D43-A77E-35A63B028A19      ODN0000149045                3\n",
       "2  2AA05401-0C51-4E57-BDB5-81007BF87C97      ODN0000149054                3\n",
       "3  5D74233B-39AE-4D57-A5DE-D07C1FAD0647      ODN0000149055                3\n",
       "4  FADF579F-E299-4780-8BDD-CA9E1142743D      ODN0000149056                3"
      ]
     },
     "execution_count": 5,
     "metadata": {},
     "output_type": "execute_result"
    }
   ],
   "source": [
    "odf.head()"
   ]
  },
  {
   "cell_type": "code",
   "execution_count": 6,
   "metadata": {},
   "outputs": [],
   "source": [
    "# find if any missing IDs\n",
    "odf_missing_ids = odf[odf[\"overdriveNo\"].isnull()]"
   ]
  },
  {
   "cell_type": "code",
   "execution_count": 7,
   "metadata": {},
   "outputs": [
    {
     "data": {
      "text/plain": [
       "(0, 3)"
      ]
     },
     "execution_count": 7,
     "metadata": {},
     "output_type": "execute_result"
    }
   ],
   "source": [
    "odf_missing_ids.shape"
   ]
  },
  {
   "cell_type": "code",
   "execution_count": 8,
   "metadata": {},
   "outputs": [
    {
     "data": {
      "text/plain": [
       "z    192561\n",
       "n     51953\n",
       "3      1960\n",
       "Name: sierraFormat_ext, dtype: int64"
      ]
     },
     "execution_count": 8,
     "metadata": {},
     "output_type": "execute_result"
    }
   ],
   "source": [
    "odf[\"sierraFormat_ext\"].value_counts()"
   ]
  },
  {
   "cell_type": "markdown",
   "metadata": {},
   "source": [
    "## Sierra Overdrive bibs dataframe"
   ]
  },
  {
   "cell_type": "code",
   "execution_count": 9,
   "metadata": {},
   "outputs": [],
   "source": [
    "sierra_fh = \"./reports/NYPL/sierra-nyp-all.csv\""
   ]
  },
  {
   "cell_type": "code",
   "execution_count": 10,
   "metadata": {},
   "outputs": [],
   "source": [
    "sdf = pd.read_csv(\n",
    "    sierra_fh,\n",
    "    header=None,\n",
    "    names=[\"overdriveNo\", \"overdriveNoSrc\", \"bibNo\", \"sierraControlNo\", \"sierraControlNoSrc\", \"sierraFormat_int\", \"sierra_status\"],\n",
    "    low_memory=False\n",
    ")"
   ]
  },
  {
   "cell_type": "code",
   "execution_count": 11,
   "metadata": {},
   "outputs": [
    {
     "data": {
      "text/plain": [
       "(229930, 7)"
      ]
     },
     "execution_count": 11,
     "metadata": {},
     "output_type": "execute_result"
    }
   ],
   "source": [
    "sdf.shape"
   ]
  },
  {
   "cell_type": "code",
   "execution_count": 12,
   "metadata": {},
   "outputs": [
    {
     "data": {
      "text/html": [
       "<div>\n",
       "<style scoped>\n",
       "    .dataframe tbody tr th:only-of-type {\n",
       "        vertical-align: middle;\n",
       "    }\n",
       "\n",
       "    .dataframe tbody tr th {\n",
       "        vertical-align: top;\n",
       "    }\n",
       "\n",
       "    .dataframe thead th {\n",
       "        text-align: right;\n",
       "    }\n",
       "</style>\n",
       "<table border=\"1\" class=\"dataframe\">\n",
       "  <thead>\n",
       "    <tr style=\"text-align: right;\">\n",
       "      <th></th>\n",
       "      <th>overdriveNo</th>\n",
       "      <th>overdriveNoSrc</th>\n",
       "      <th>bibNo</th>\n",
       "      <th>sierraControlNo</th>\n",
       "      <th>sierraControlNoSrc</th>\n",
       "      <th>sierraFormat_int</th>\n",
       "      <th>sierra_status</th>\n",
       "    </tr>\n",
       "  </thead>\n",
       "  <tbody>\n",
       "    <tr>\n",
       "      <th>0</th>\n",
       "      <td>5E7A6766-4D4A-4564-86F2-481DE9473CD0</td>\n",
       "      <td>37</td>\n",
       "      <td>b170902584</td>\n",
       "      <td>61227205</td>\n",
       "      <td>OCoLC</td>\n",
       "      <td>z</td>\n",
       "      <td>-</td>\n",
       "    </tr>\n",
       "    <tr>\n",
       "      <th>1</th>\n",
       "      <td>5E5DDBB5-7855-4F28-B893-7F6611E8CEE1</td>\n",
       "      <td>37</td>\n",
       "      <td>b17094783x</td>\n",
       "      <td>69187499</td>\n",
       "      <td>OCoLC</td>\n",
       "      <td>z</td>\n",
       "      <td>-</td>\n",
       "    </tr>\n",
       "    <tr>\n",
       "      <th>2</th>\n",
       "      <td>5F813F22-EA16-4ED2-BEB9-B1825812B29A</td>\n",
       "      <td>37</td>\n",
       "      <td>b17101876x</td>\n",
       "      <td>52514399</td>\n",
       "      <td>OCoLC</td>\n",
       "      <td>z</td>\n",
       "      <td>-</td>\n",
       "    </tr>\n",
       "    <tr>\n",
       "      <th>3</th>\n",
       "      <td>9912837E-54CA-49B7-AC94-4C7E6B63056C</td>\n",
       "      <td>37</td>\n",
       "      <td>b171018825</td>\n",
       "      <td>52515141</td>\n",
       "      <td>OCoLC</td>\n",
       "      <td>z</td>\n",
       "      <td>-</td>\n",
       "    </tr>\n",
       "    <tr>\n",
       "      <th>4</th>\n",
       "      <td>57471296-F6D1-4A55-BF96-40095428284F</td>\n",
       "      <td>37</td>\n",
       "      <td>b171018850</td>\n",
       "      <td>52515457</td>\n",
       "      <td>OCoLC</td>\n",
       "      <td>z</td>\n",
       "      <td>-</td>\n",
       "    </tr>\n",
       "  </tbody>\n",
       "</table>\n",
       "</div>"
      ],
      "text/plain": [
       "                            overdriveNo  overdriveNoSrc       bibNo  \\\n",
       "0  5E7A6766-4D4A-4564-86F2-481DE9473CD0              37  b170902584   \n",
       "1  5E5DDBB5-7855-4F28-B893-7F6611E8CEE1              37  b17094783x   \n",
       "2  5F813F22-EA16-4ED2-BEB9-B1825812B29A              37  b17101876x   \n",
       "3  9912837E-54CA-49B7-AC94-4C7E6B63056C              37  b171018825   \n",
       "4  57471296-F6D1-4A55-BF96-40095428284F              37  b171018850   \n",
       "\n",
       "  sierraControlNo sierraControlNoSrc sierraFormat_int sierra_status  \n",
       "0        61227205              OCoLC                z             -  \n",
       "1        69187499              OCoLC                z             -  \n",
       "2        52514399              OCoLC                z             -  \n",
       "3        52515141              OCoLC                z             -  \n",
       "4        52515457              OCoLC                z             -  "
      ]
     },
     "execution_count": 12,
     "metadata": {},
     "output_type": "execute_result"
    }
   ],
   "source": [
    "sdf.head()"
   ]
  },
  {
   "cell_type": "code",
   "execution_count": 13,
   "metadata": {},
   "outputs": [
    {
     "data": {
      "text/plain": [
       "37    229930\n",
       "Name: overdriveNoSrc, dtype: int64"
      ]
     },
     "execution_count": 13,
     "metadata": {},
     "output_type": "execute_result"
    }
   ],
   "source": [
    "sdf[\"overdriveNoSrc\"].value_counts()"
   ]
  },
  {
   "cell_type": "code",
   "execution_count": 14,
   "metadata": {},
   "outputs": [
    {
     "data": {
      "text/plain": [
       "z    182514\n",
       "n     47250\n",
       "3       166\n",
       "Name: sierraFormat_int, dtype: int64"
      ]
     },
     "execution_count": 14,
     "metadata": {},
     "output_type": "execute_result"
    }
   ],
   "source": [
    "sdf[\"sierraFormat_int\"].value_counts()"
   ]
  },
  {
   "cell_type": "markdown",
   "metadata": {},
   "source": [
    "### Sierra bibs missing proper Overdrive ID"
   ]
  },
  {
   "cell_type": "code",
   "execution_count": 15,
   "metadata": {},
   "outputs": [],
   "source": [
    "sdf_no_overdriveNo = sdf[(sdf[\"overdriveNo\"].isnull())|(sdf[\"overdriveNo\"] == \"\")]"
   ]
  },
  {
   "cell_type": "code",
   "execution_count": 16,
   "metadata": {},
   "outputs": [
    {
     "data": {
      "text/plain": [
       "(0, 7)"
      ]
     },
     "execution_count": 16,
     "metadata": {},
     "output_type": "execute_result"
    }
   ],
   "source": [
    "sdf_no_overdriveNo.shape"
   ]
  },
  {
   "cell_type": "code",
   "execution_count": 17,
   "metadata": {},
   "outputs": [],
   "source": [
    "sdf_invalid_overdriveNo = sdf[(sdf[\"overdriveNo\"].isnull())|(sdf[\"overdriveNo\"].str.match(\"(?!.*-.*-.*.*)\"))]"
   ]
  },
  {
   "cell_type": "code",
   "execution_count": 18,
   "metadata": {},
   "outputs": [
    {
     "data": {
      "text/plain": [
       "(0, 7)"
      ]
     },
     "execution_count": 18,
     "metadata": {},
     "output_type": "execute_result"
    }
   ],
   "source": [
    "sdf_invalid_overdriveNo.shape"
   ]
  },
  {
   "cell_type": "markdown",
   "metadata": {},
   "source": [
    "## Inner join between Sierra and bulk MarcExpress - records already in the catalog"
   ]
  },
  {
   "cell_type": "code",
   "execution_count": 19,
   "metadata": {},
   "outputs": [],
   "source": [
    "df_available = pd.merge(sdf, odf, on=\"overdriveNo\", how=\"inner\")"
   ]
  },
  {
   "cell_type": "code",
   "execution_count": 20,
   "metadata": {},
   "outputs": [
    {
     "data": {
      "text/html": [
       "<div>\n",
       "<style scoped>\n",
       "    .dataframe tbody tr th:only-of-type {\n",
       "        vertical-align: middle;\n",
       "    }\n",
       "\n",
       "    .dataframe tbody tr th {\n",
       "        vertical-align: top;\n",
       "    }\n",
       "\n",
       "    .dataframe thead th {\n",
       "        text-align: right;\n",
       "    }\n",
       "</style>\n",
       "<table border=\"1\" class=\"dataframe\">\n",
       "  <thead>\n",
       "    <tr style=\"text-align: right;\">\n",
       "      <th></th>\n",
       "      <th>overdriveNo</th>\n",
       "      <th>overdriveNoSrc</th>\n",
       "      <th>bibNo</th>\n",
       "      <th>sierraControlNo</th>\n",
       "      <th>sierraControlNoSrc</th>\n",
       "      <th>sierraFormat_int</th>\n",
       "      <th>sierra_status</th>\n",
       "      <th>overdriveControlNo</th>\n",
       "      <th>sierraFormat_ext</th>\n",
       "    </tr>\n",
       "  </thead>\n",
       "  <tbody>\n",
       "    <tr>\n",
       "      <th>0</th>\n",
       "      <td>5E7A6766-4D4A-4564-86F2-481DE9473CD0</td>\n",
       "      <td>37</td>\n",
       "      <td>b170902584</td>\n",
       "      <td>61227205</td>\n",
       "      <td>OCoLC</td>\n",
       "      <td>z</td>\n",
       "      <td>-</td>\n",
       "      <td>ODN0000074679</td>\n",
       "      <td>z</td>\n",
       "    </tr>\n",
       "    <tr>\n",
       "      <th>1</th>\n",
       "      <td>5E5DDBB5-7855-4F28-B893-7F6611E8CEE1</td>\n",
       "      <td>37</td>\n",
       "      <td>b17094783x</td>\n",
       "      <td>69187499</td>\n",
       "      <td>OCoLC</td>\n",
       "      <td>z</td>\n",
       "      <td>-</td>\n",
       "      <td>ODN0000094989</td>\n",
       "      <td>z</td>\n",
       "    </tr>\n",
       "    <tr>\n",
       "      <th>2</th>\n",
       "      <td>5F813F22-EA16-4ED2-BEB9-B1825812B29A</td>\n",
       "      <td>37</td>\n",
       "      <td>b17101876x</td>\n",
       "      <td>52514399</td>\n",
       "      <td>OCoLC</td>\n",
       "      <td>z</td>\n",
       "      <td>-</td>\n",
       "      <td>ODN0000015898</td>\n",
       "      <td>z</td>\n",
       "    </tr>\n",
       "    <tr>\n",
       "      <th>3</th>\n",
       "      <td>9912837E-54CA-49B7-AC94-4C7E6B63056C</td>\n",
       "      <td>37</td>\n",
       "      <td>b171018825</td>\n",
       "      <td>52515141</td>\n",
       "      <td>OCoLC</td>\n",
       "      <td>z</td>\n",
       "      <td>-</td>\n",
       "      <td>ODN0000006985</td>\n",
       "      <td>z</td>\n",
       "    </tr>\n",
       "    <tr>\n",
       "      <th>4</th>\n",
       "      <td>57471296-F6D1-4A55-BF96-40095428284F</td>\n",
       "      <td>37</td>\n",
       "      <td>b171018850</td>\n",
       "      <td>52515457</td>\n",
       "      <td>OCoLC</td>\n",
       "      <td>z</td>\n",
       "      <td>-</td>\n",
       "      <td>ODN0000000555</td>\n",
       "      <td>z</td>\n",
       "    </tr>\n",
       "  </tbody>\n",
       "</table>\n",
       "</div>"
      ],
      "text/plain": [
       "                            overdriveNo  overdriveNoSrc       bibNo  \\\n",
       "0  5E7A6766-4D4A-4564-86F2-481DE9473CD0              37  b170902584   \n",
       "1  5E5DDBB5-7855-4F28-B893-7F6611E8CEE1              37  b17094783x   \n",
       "2  5F813F22-EA16-4ED2-BEB9-B1825812B29A              37  b17101876x   \n",
       "3  9912837E-54CA-49B7-AC94-4C7E6B63056C              37  b171018825   \n",
       "4  57471296-F6D1-4A55-BF96-40095428284F              37  b171018850   \n",
       "\n",
       "  sierraControlNo sierraControlNoSrc sierraFormat_int sierra_status  \\\n",
       "0        61227205              OCoLC                z             -   \n",
       "1        69187499              OCoLC                z             -   \n",
       "2        52514399              OCoLC                z             -   \n",
       "3        52515141              OCoLC                z             -   \n",
       "4        52515457              OCoLC                z             -   \n",
       "\n",
       "  overdriveControlNo sierraFormat_ext  \n",
       "0      ODN0000074679                z  \n",
       "1      ODN0000094989                z  \n",
       "2      ODN0000015898                z  \n",
       "3      ODN0000006985                z  \n",
       "4      ODN0000000555                z  "
      ]
     },
     "execution_count": 20,
     "metadata": {},
     "output_type": "execute_result"
    }
   ],
   "source": [
    "df_available.head()"
   ]
  },
  {
   "cell_type": "code",
   "execution_count": 21,
   "metadata": {},
   "outputs": [
    {
     "data": {
      "text/plain": [
       "(214147, 9)"
      ]
     },
     "execution_count": 21,
     "metadata": {},
     "output_type": "execute_result"
    }
   ],
   "source": [
    "df_available.shape"
   ]
  },
  {
   "cell_type": "code",
   "execution_count": 22,
   "metadata": {},
   "outputs": [],
   "source": [
    "# but the results above includes duplicate bibs (multi overdriveNo!); need to dedup to get correct count"
   ]
  },
  {
   "cell_type": "code",
   "execution_count": 23,
   "metadata": {},
   "outputs": [],
   "source": [
    "df_found_deduped_on_bibNo = df_available.drop_duplicates(subset=\"bibNo\", keep=\"first\").copy()"
   ]
  },
  {
   "cell_type": "code",
   "execution_count": 24,
   "metadata": {},
   "outputs": [
    {
     "data": {
      "text/plain": [
       "(213899, 9)"
      ]
     },
     "execution_count": 24,
     "metadata": {},
     "output_type": "execute_result"
    }
   ],
   "source": [
    "df_found_deduped_on_bibNo.shape"
   ]
  },
  {
   "cell_type": "code",
   "execution_count": 25,
   "metadata": {},
   "outputs": [],
   "source": [
    "df_found_deduped_on_overdriveNo = df_available.drop_duplicates(subset=\"overdriveNo\", keep=\"first\").copy()"
   ]
  },
  {
   "cell_type": "code",
   "execution_count": 26,
   "metadata": {},
   "outputs": [
    {
     "data": {
      "text/plain": [
       "(212389, 9)"
      ]
     },
     "execution_count": 26,
     "metadata": {},
     "output_type": "execute_result"
    }
   ],
   "source": [
    "df_found_deduped_on_overdriveNo.shape"
   ]
  },
  {
   "cell_type": "code",
   "execution_count": 27,
   "metadata": {},
   "outputs": [],
   "source": [
    "# why discrepancy in numbers?\n",
    "# only logical explanation is because we have duplicates in Sierra!"
   ]
  },
  {
   "cell_type": "code",
   "execution_count": 29,
   "metadata": {},
   "outputs": [],
   "source": [
    "df_found_deduped_on_bibNo.to_csv(\"./reports/NYPL/found-in-catalog.csv\", index=False)"
   ]
  },
  {
   "cell_type": "code",
   "execution_count": 30,
   "metadata": {},
   "outputs": [],
   "source": [
    "df_found_deduped_on_overdriveNo.to_csv(\"./reports/NYPL/found-in-catalog-unique-overdriveNos.csv\", index=False)"
   ]
  },
  {
   "cell_type": "markdown",
   "metadata": {},
   "source": [
    "### Suppressed/marked for deletion bibs in Sierra to be reinstated"
   ]
  },
  {
   "cell_type": "code",
   "execution_count": 31,
   "metadata": {},
   "outputs": [
    {
     "data": {
      "text/plain": [
       "-    116684\n",
       "a     95981\n",
       "d      1229\n",
       "n         3\n",
       "h         1\n",
       "t         1\n",
       "Name: sierra_status, dtype: int64"
      ]
     },
     "execution_count": 31,
     "metadata": {},
     "output_type": "execute_result"
    }
   ],
   "source": [
    "# find records that are in the catalog, users have access to, but are suppressed\n",
    "df_found_deduped_on_bibNo[\"sierra_status\"].value_counts()"
   ]
  },
  {
   "cell_type": "code",
   "execution_count": 32,
   "metadata": {},
   "outputs": [],
   "source": [
    "df_reinstate_access = df_found_deduped_on_bibNo[(df_found_deduped_on_bibNo[\"sierra_status\"]==\"n\")|(df_found_deduped_on_bibNo[\"sierra_status\"]==\"d\")]"
   ]
  },
  {
   "cell_type": "code",
   "execution_count": 33,
   "metadata": {},
   "outputs": [],
   "source": [
    "df_reinstate_access.to_csv(\"./reports/NYPL/reinstate_access-alldata.csv\", index=False)"
   ]
  },
  {
   "cell_type": "code",
   "execution_count": 35,
   "metadata": {},
   "outputs": [],
   "source": [
    "df_reinstate_access[\"bibNo\"].to_csv(\"./reports/NYPL/reinstate_access-bibNos\", index=False)"
   ]
  },
  {
   "cell_type": "code",
   "execution_count": 36,
   "metadata": {},
   "outputs": [],
   "source": [
    "# access should be verified because the backdated file is not accurate - found multiple instances where there is no actual access given/resource is \n",
    "# removed from the Overdrive platform\n"
   ]
  },
  {
   "cell_type": "markdown",
   "metadata": {},
   "source": [
    "## Missing from Sierra bibs / Sierra and MarcExpress right anti join"
   ]
  },
  {
   "cell_type": "code",
   "execution_count": 37,
   "metadata": {},
   "outputs": [],
   "source": [
    "mdf_join = pd.merge(sdf, odf, how=\"outer\", on=\"overdriveNo\", indicator=True)"
   ]
  },
  {
   "cell_type": "code",
   "execution_count": 38,
   "metadata": {},
   "outputs": [
    {
     "data": {
      "text/html": [
       "<div>\n",
       "<style scoped>\n",
       "    .dataframe tbody tr th:only-of-type {\n",
       "        vertical-align: middle;\n",
       "    }\n",
       "\n",
       "    .dataframe tbody tr th {\n",
       "        vertical-align: top;\n",
       "    }\n",
       "\n",
       "    .dataframe thead th {\n",
       "        text-align: right;\n",
       "    }\n",
       "</style>\n",
       "<table border=\"1\" class=\"dataframe\">\n",
       "  <thead>\n",
       "    <tr style=\"text-align: right;\">\n",
       "      <th></th>\n",
       "      <th>overdriveNo</th>\n",
       "      <th>overdriveNoSrc</th>\n",
       "      <th>bibNo</th>\n",
       "      <th>sierraControlNo</th>\n",
       "      <th>sierraControlNoSrc</th>\n",
       "      <th>sierraFormat_int</th>\n",
       "      <th>sierra_status</th>\n",
       "      <th>overdriveControlNo</th>\n",
       "      <th>sierraFormat_ext</th>\n",
       "      <th>_merge</th>\n",
       "    </tr>\n",
       "  </thead>\n",
       "  <tbody>\n",
       "    <tr>\n",
       "      <th>0</th>\n",
       "      <td>5E7A6766-4D4A-4564-86F2-481DE9473CD0</td>\n",
       "      <td>37.0</td>\n",
       "      <td>b170902584</td>\n",
       "      <td>61227205</td>\n",
       "      <td>OCoLC</td>\n",
       "      <td>z</td>\n",
       "      <td>-</td>\n",
       "      <td>ODN0000074679</td>\n",
       "      <td>z</td>\n",
       "      <td>both</td>\n",
       "    </tr>\n",
       "    <tr>\n",
       "      <th>1</th>\n",
       "      <td>5E5DDBB5-7855-4F28-B893-7F6611E8CEE1</td>\n",
       "      <td>37.0</td>\n",
       "      <td>b17094783x</td>\n",
       "      <td>69187499</td>\n",
       "      <td>OCoLC</td>\n",
       "      <td>z</td>\n",
       "      <td>-</td>\n",
       "      <td>ODN0000094989</td>\n",
       "      <td>z</td>\n",
       "      <td>both</td>\n",
       "    </tr>\n",
       "    <tr>\n",
       "      <th>2</th>\n",
       "      <td>5F813F22-EA16-4ED2-BEB9-B1825812B29A</td>\n",
       "      <td>37.0</td>\n",
       "      <td>b17101876x</td>\n",
       "      <td>52514399</td>\n",
       "      <td>OCoLC</td>\n",
       "      <td>z</td>\n",
       "      <td>-</td>\n",
       "      <td>ODN0000015898</td>\n",
       "      <td>z</td>\n",
       "      <td>both</td>\n",
       "    </tr>\n",
       "    <tr>\n",
       "      <th>3</th>\n",
       "      <td>9912837E-54CA-49B7-AC94-4C7E6B63056C</td>\n",
       "      <td>37.0</td>\n",
       "      <td>b171018825</td>\n",
       "      <td>52515141</td>\n",
       "      <td>OCoLC</td>\n",
       "      <td>z</td>\n",
       "      <td>-</td>\n",
       "      <td>ODN0000006985</td>\n",
       "      <td>z</td>\n",
       "      <td>both</td>\n",
       "    </tr>\n",
       "    <tr>\n",
       "      <th>4</th>\n",
       "      <td>57471296-F6D1-4A55-BF96-40095428284F</td>\n",
       "      <td>37.0</td>\n",
       "      <td>b171018850</td>\n",
       "      <td>52515457</td>\n",
       "      <td>OCoLC</td>\n",
       "      <td>z</td>\n",
       "      <td>-</td>\n",
       "      <td>ODN0000000555</td>\n",
       "      <td>z</td>\n",
       "      <td>both</td>\n",
       "    </tr>\n",
       "  </tbody>\n",
       "</table>\n",
       "</div>"
      ],
      "text/plain": [
       "                            overdriveNo  overdriveNoSrc       bibNo  \\\n",
       "0  5E7A6766-4D4A-4564-86F2-481DE9473CD0            37.0  b170902584   \n",
       "1  5E5DDBB5-7855-4F28-B893-7F6611E8CEE1            37.0  b17094783x   \n",
       "2  5F813F22-EA16-4ED2-BEB9-B1825812B29A            37.0  b17101876x   \n",
       "3  9912837E-54CA-49B7-AC94-4C7E6B63056C            37.0  b171018825   \n",
       "4  57471296-F6D1-4A55-BF96-40095428284F            37.0  b171018850   \n",
       "\n",
       "  sierraControlNo sierraControlNoSrc sierraFormat_int sierra_status  \\\n",
       "0        61227205              OCoLC                z             -   \n",
       "1        69187499              OCoLC                z             -   \n",
       "2        52514399              OCoLC                z             -   \n",
       "3        52515141              OCoLC                z             -   \n",
       "4        52515457              OCoLC                z             -   \n",
       "\n",
       "  overdriveControlNo sierraFormat_ext _merge  \n",
       "0      ODN0000074679                z   both  \n",
       "1      ODN0000094989                z   both  \n",
       "2      ODN0000015898                z   both  \n",
       "3      ODN0000006985                z   both  \n",
       "4      ODN0000000555                z   both  "
      ]
     },
     "execution_count": 38,
     "metadata": {},
     "output_type": "execute_result"
    }
   ],
   "source": [
    "mdf_join.head()"
   ]
  },
  {
   "cell_type": "code",
   "execution_count": 39,
   "metadata": {},
   "outputs": [
    {
     "data": {
      "text/plain": [
       "(264015, 10)"
      ]
     },
     "execution_count": 39,
     "metadata": {},
     "output_type": "execute_result"
    }
   ],
   "source": [
    "mdf_join.shape"
   ]
  },
  {
   "cell_type": "code",
   "execution_count": 40,
   "metadata": {},
   "outputs": [],
   "source": [
    "df_missing = mdf_join[mdf_join[\"_merge\"] == \"right_only\"]"
   ]
  },
  {
   "cell_type": "code",
   "execution_count": 41,
   "metadata": {},
   "outputs": [
    {
     "data": {
      "text/plain": [
       "(34085, 10)"
      ]
     },
     "execution_count": 41,
     "metadata": {},
     "output_type": "execute_result"
    }
   ],
   "source": [
    "df_missing.shape"
   ]
  },
  {
   "cell_type": "code",
   "execution_count": 42,
   "metadata": {},
   "outputs": [
    {
     "data": {
      "text/html": [
       "<div>\n",
       "<style scoped>\n",
       "    .dataframe tbody tr th:only-of-type {\n",
       "        vertical-align: middle;\n",
       "    }\n",
       "\n",
       "    .dataframe tbody tr th {\n",
       "        vertical-align: top;\n",
       "    }\n",
       "\n",
       "    .dataframe thead th {\n",
       "        text-align: right;\n",
       "    }\n",
       "</style>\n",
       "<table border=\"1\" class=\"dataframe\">\n",
       "  <thead>\n",
       "    <tr style=\"text-align: right;\">\n",
       "      <th></th>\n",
       "      <th>overdriveNo</th>\n",
       "      <th>overdriveNoSrc</th>\n",
       "      <th>bibNo</th>\n",
       "      <th>sierraControlNo</th>\n",
       "      <th>sierraControlNoSrc</th>\n",
       "      <th>sierraFormat_int</th>\n",
       "      <th>sierra_status</th>\n",
       "      <th>overdriveControlNo</th>\n",
       "      <th>sierraFormat_ext</th>\n",
       "      <th>_merge</th>\n",
       "    </tr>\n",
       "  </thead>\n",
       "  <tbody>\n",
       "    <tr>\n",
       "      <th>229930</th>\n",
       "      <td>C2E25112-2EC8-4088-9D18-160AD882917F</td>\n",
       "      <td>NaN</td>\n",
       "      <td>NaN</td>\n",
       "      <td>NaN</td>\n",
       "      <td>NaN</td>\n",
       "      <td>NaN</td>\n",
       "      <td>NaN</td>\n",
       "      <td>ODN0000149034</td>\n",
       "      <td>3</td>\n",
       "      <td>right_only</td>\n",
       "    </tr>\n",
       "    <tr>\n",
       "      <th>229931</th>\n",
       "      <td>D42B7FB1-F40F-4D43-A77E-35A63B028A19</td>\n",
       "      <td>NaN</td>\n",
       "      <td>NaN</td>\n",
       "      <td>NaN</td>\n",
       "      <td>NaN</td>\n",
       "      <td>NaN</td>\n",
       "      <td>NaN</td>\n",
       "      <td>ODN0000149045</td>\n",
       "      <td>3</td>\n",
       "      <td>right_only</td>\n",
       "    </tr>\n",
       "    <tr>\n",
       "      <th>229932</th>\n",
       "      <td>2AA05401-0C51-4E57-BDB5-81007BF87C97</td>\n",
       "      <td>NaN</td>\n",
       "      <td>NaN</td>\n",
       "      <td>NaN</td>\n",
       "      <td>NaN</td>\n",
       "      <td>NaN</td>\n",
       "      <td>NaN</td>\n",
       "      <td>ODN0000149054</td>\n",
       "      <td>3</td>\n",
       "      <td>right_only</td>\n",
       "    </tr>\n",
       "    <tr>\n",
       "      <th>229933</th>\n",
       "      <td>5D74233B-39AE-4D57-A5DE-D07C1FAD0647</td>\n",
       "      <td>NaN</td>\n",
       "      <td>NaN</td>\n",
       "      <td>NaN</td>\n",
       "      <td>NaN</td>\n",
       "      <td>NaN</td>\n",
       "      <td>NaN</td>\n",
       "      <td>ODN0000149055</td>\n",
       "      <td>3</td>\n",
       "      <td>right_only</td>\n",
       "    </tr>\n",
       "    <tr>\n",
       "      <th>229934</th>\n",
       "      <td>FADF579F-E299-4780-8BDD-CA9E1142743D</td>\n",
       "      <td>NaN</td>\n",
       "      <td>NaN</td>\n",
       "      <td>NaN</td>\n",
       "      <td>NaN</td>\n",
       "      <td>NaN</td>\n",
       "      <td>NaN</td>\n",
       "      <td>ODN0000149056</td>\n",
       "      <td>3</td>\n",
       "      <td>right_only</td>\n",
       "    </tr>\n",
       "  </tbody>\n",
       "</table>\n",
       "</div>"
      ],
      "text/plain": [
       "                                 overdriveNo  overdriveNoSrc bibNo  \\\n",
       "229930  C2E25112-2EC8-4088-9D18-160AD882917F             NaN   NaN   \n",
       "229931  D42B7FB1-F40F-4D43-A77E-35A63B028A19             NaN   NaN   \n",
       "229932  2AA05401-0C51-4E57-BDB5-81007BF87C97             NaN   NaN   \n",
       "229933  5D74233B-39AE-4D57-A5DE-D07C1FAD0647             NaN   NaN   \n",
       "229934  FADF579F-E299-4780-8BDD-CA9E1142743D             NaN   NaN   \n",
       "\n",
       "       sierraControlNo sierraControlNoSrc sierraFormat_int sierra_status  \\\n",
       "229930             NaN                NaN              NaN           NaN   \n",
       "229931             NaN                NaN              NaN           NaN   \n",
       "229932             NaN                NaN              NaN           NaN   \n",
       "229933             NaN                NaN              NaN           NaN   \n",
       "229934             NaN                NaN              NaN           NaN   \n",
       "\n",
       "       overdriveControlNo sierraFormat_ext      _merge  \n",
       "229930      ODN0000149034                3  right_only  \n",
       "229931      ODN0000149045                3  right_only  \n",
       "229932      ODN0000149054                3  right_only  \n",
       "229933      ODN0000149055                3  right_only  \n",
       "229934      ODN0000149056                3  right_only  "
      ]
     },
     "execution_count": 42,
     "metadata": {},
     "output_type": "execute_result"
    }
   ],
   "source": [
    "df_missing.head()"
   ]
  },
  {
   "cell_type": "code",
   "execution_count": 43,
   "metadata": {},
   "outputs": [
    {
     "data": {
      "text/plain": [
       "z    27072\n",
       "n     5219\n",
       "3     1794\n",
       "Name: sierraFormat_ext, dtype: int64"
      ]
     },
     "execution_count": 43,
     "metadata": {},
     "output_type": "execute_result"
    }
   ],
   "source": [
    "df_missing[\"sierraFormat_ext\"].value_counts()"
   ]
  },
  {
   "cell_type": "code",
   "execution_count": 44,
   "metadata": {},
   "outputs": [],
   "source": [
    "df_missing.to_csv(\"./reports/NYPL/missing.csv\", index=False)"
   ]
  },
  {
   "cell_type": "code",
   "execution_count": 45,
   "metadata": {},
   "outputs": [],
   "source": [
    "df_missing[\"overdriveNo\"].to_csv(\"./reports/NYPL/missing-overdriveNos.csv\", index=False)"
   ]
  },
  {
   "cell_type": "markdown",
   "metadata": {},
   "source": [
    "## overdriveNo not found in bulk MarcExpress records / left anti join"
   ]
  },
  {
   "cell_type": "code",
   "execution_count": 46,
   "metadata": {},
   "outputs": [],
   "source": [
    "# do not include bibs without proper overdrive #\n",
    "vsdf = sdf[(sdf[\"overdriveNo\"].notnull())|(sdf[\"overdriveNo\"].str.match(\"(.*-.*-.*-.*)\"))]"
   ]
  },
  {
   "cell_type": "code",
   "execution_count": 47,
   "metadata": {},
   "outputs": [
    {
     "data": {
      "text/plain": [
       "(229930, 7)"
      ]
     },
     "execution_count": 47,
     "metadata": {},
     "output_type": "execute_result"
    }
   ],
   "source": [
    "vsdf.shape"
   ]
  },
  {
   "cell_type": "code",
   "execution_count": 48,
   "metadata": {},
   "outputs": [
    {
     "data": {
      "text/html": [
       "<div>\n",
       "<style scoped>\n",
       "    .dataframe tbody tr th:only-of-type {\n",
       "        vertical-align: middle;\n",
       "    }\n",
       "\n",
       "    .dataframe tbody tr th {\n",
       "        vertical-align: top;\n",
       "    }\n",
       "\n",
       "    .dataframe thead th {\n",
       "        text-align: right;\n",
       "    }\n",
       "</style>\n",
       "<table border=\"1\" class=\"dataframe\">\n",
       "  <thead>\n",
       "    <tr style=\"text-align: right;\">\n",
       "      <th></th>\n",
       "      <th>overdriveNo</th>\n",
       "      <th>overdriveNoSrc</th>\n",
       "      <th>bibNo</th>\n",
       "      <th>sierraControlNo</th>\n",
       "      <th>sierraControlNoSrc</th>\n",
       "      <th>sierraFormat_int</th>\n",
       "      <th>sierra_status</th>\n",
       "    </tr>\n",
       "  </thead>\n",
       "  <tbody>\n",
       "    <tr>\n",
       "      <th>0</th>\n",
       "      <td>5E7A6766-4D4A-4564-86F2-481DE9473CD0</td>\n",
       "      <td>37</td>\n",
       "      <td>b170902584</td>\n",
       "      <td>61227205</td>\n",
       "      <td>OCoLC</td>\n",
       "      <td>z</td>\n",
       "      <td>-</td>\n",
       "    </tr>\n",
       "    <tr>\n",
       "      <th>1</th>\n",
       "      <td>5E5DDBB5-7855-4F28-B893-7F6611E8CEE1</td>\n",
       "      <td>37</td>\n",
       "      <td>b17094783x</td>\n",
       "      <td>69187499</td>\n",
       "      <td>OCoLC</td>\n",
       "      <td>z</td>\n",
       "      <td>-</td>\n",
       "    </tr>\n",
       "    <tr>\n",
       "      <th>2</th>\n",
       "      <td>5F813F22-EA16-4ED2-BEB9-B1825812B29A</td>\n",
       "      <td>37</td>\n",
       "      <td>b17101876x</td>\n",
       "      <td>52514399</td>\n",
       "      <td>OCoLC</td>\n",
       "      <td>z</td>\n",
       "      <td>-</td>\n",
       "    </tr>\n",
       "    <tr>\n",
       "      <th>3</th>\n",
       "      <td>9912837E-54CA-49B7-AC94-4C7E6B63056C</td>\n",
       "      <td>37</td>\n",
       "      <td>b171018825</td>\n",
       "      <td>52515141</td>\n",
       "      <td>OCoLC</td>\n",
       "      <td>z</td>\n",
       "      <td>-</td>\n",
       "    </tr>\n",
       "    <tr>\n",
       "      <th>4</th>\n",
       "      <td>57471296-F6D1-4A55-BF96-40095428284F</td>\n",
       "      <td>37</td>\n",
       "      <td>b171018850</td>\n",
       "      <td>52515457</td>\n",
       "      <td>OCoLC</td>\n",
       "      <td>z</td>\n",
       "      <td>-</td>\n",
       "    </tr>\n",
       "  </tbody>\n",
       "</table>\n",
       "</div>"
      ],
      "text/plain": [
       "                            overdriveNo  overdriveNoSrc       bibNo  \\\n",
       "0  5E7A6766-4D4A-4564-86F2-481DE9473CD0              37  b170902584   \n",
       "1  5E5DDBB5-7855-4F28-B893-7F6611E8CEE1              37  b17094783x   \n",
       "2  5F813F22-EA16-4ED2-BEB9-B1825812B29A              37  b17101876x   \n",
       "3  9912837E-54CA-49B7-AC94-4C7E6B63056C              37  b171018825   \n",
       "4  57471296-F6D1-4A55-BF96-40095428284F              37  b171018850   \n",
       "\n",
       "  sierraControlNo sierraControlNoSrc sierraFormat_int sierra_status  \n",
       "0        61227205              OCoLC                z             -  \n",
       "1        69187499              OCoLC                z             -  \n",
       "2        52514399              OCoLC                z             -  \n",
       "3        52515141              OCoLC                z             -  \n",
       "4        52515457              OCoLC                z             -  "
      ]
     },
     "execution_count": 48,
     "metadata": {},
     "output_type": "execute_result"
    }
   ],
   "source": [
    "vsdf.head()"
   ]
  },
  {
   "cell_type": "code",
   "execution_count": 49,
   "metadata": {},
   "outputs": [],
   "source": [
    "edf_join = pd.merge(vsdf, odf, how=\"outer\", on=\"overdriveNo\", indicator=True)"
   ]
  },
  {
   "cell_type": "code",
   "execution_count": 50,
   "metadata": {},
   "outputs": [
    {
     "data": {
      "text/html": [
       "<div>\n",
       "<style scoped>\n",
       "    .dataframe tbody tr th:only-of-type {\n",
       "        vertical-align: middle;\n",
       "    }\n",
       "\n",
       "    .dataframe tbody tr th {\n",
       "        vertical-align: top;\n",
       "    }\n",
       "\n",
       "    .dataframe thead th {\n",
       "        text-align: right;\n",
       "    }\n",
       "</style>\n",
       "<table border=\"1\" class=\"dataframe\">\n",
       "  <thead>\n",
       "    <tr style=\"text-align: right;\">\n",
       "      <th></th>\n",
       "      <th>overdriveNo</th>\n",
       "      <th>overdriveNoSrc</th>\n",
       "      <th>bibNo</th>\n",
       "      <th>sierraControlNo</th>\n",
       "      <th>sierraControlNoSrc</th>\n",
       "      <th>sierraFormat_int</th>\n",
       "      <th>sierra_status</th>\n",
       "      <th>overdriveControlNo</th>\n",
       "      <th>sierraFormat_ext</th>\n",
       "      <th>_merge</th>\n",
       "    </tr>\n",
       "  </thead>\n",
       "  <tbody>\n",
       "    <tr>\n",
       "      <th>0</th>\n",
       "      <td>5E7A6766-4D4A-4564-86F2-481DE9473CD0</td>\n",
       "      <td>37.0</td>\n",
       "      <td>b170902584</td>\n",
       "      <td>61227205</td>\n",
       "      <td>OCoLC</td>\n",
       "      <td>z</td>\n",
       "      <td>-</td>\n",
       "      <td>ODN0000074679</td>\n",
       "      <td>z</td>\n",
       "      <td>both</td>\n",
       "    </tr>\n",
       "    <tr>\n",
       "      <th>1</th>\n",
       "      <td>5E5DDBB5-7855-4F28-B893-7F6611E8CEE1</td>\n",
       "      <td>37.0</td>\n",
       "      <td>b17094783x</td>\n",
       "      <td>69187499</td>\n",
       "      <td>OCoLC</td>\n",
       "      <td>z</td>\n",
       "      <td>-</td>\n",
       "      <td>ODN0000094989</td>\n",
       "      <td>z</td>\n",
       "      <td>both</td>\n",
       "    </tr>\n",
       "    <tr>\n",
       "      <th>2</th>\n",
       "      <td>5F813F22-EA16-4ED2-BEB9-B1825812B29A</td>\n",
       "      <td>37.0</td>\n",
       "      <td>b17101876x</td>\n",
       "      <td>52514399</td>\n",
       "      <td>OCoLC</td>\n",
       "      <td>z</td>\n",
       "      <td>-</td>\n",
       "      <td>ODN0000015898</td>\n",
       "      <td>z</td>\n",
       "      <td>both</td>\n",
       "    </tr>\n",
       "    <tr>\n",
       "      <th>3</th>\n",
       "      <td>9912837E-54CA-49B7-AC94-4C7E6B63056C</td>\n",
       "      <td>37.0</td>\n",
       "      <td>b171018825</td>\n",
       "      <td>52515141</td>\n",
       "      <td>OCoLC</td>\n",
       "      <td>z</td>\n",
       "      <td>-</td>\n",
       "      <td>ODN0000006985</td>\n",
       "      <td>z</td>\n",
       "      <td>both</td>\n",
       "    </tr>\n",
       "    <tr>\n",
       "      <th>4</th>\n",
       "      <td>57471296-F6D1-4A55-BF96-40095428284F</td>\n",
       "      <td>37.0</td>\n",
       "      <td>b171018850</td>\n",
       "      <td>52515457</td>\n",
       "      <td>OCoLC</td>\n",
       "      <td>z</td>\n",
       "      <td>-</td>\n",
       "      <td>ODN0000000555</td>\n",
       "      <td>z</td>\n",
       "      <td>both</td>\n",
       "    </tr>\n",
       "  </tbody>\n",
       "</table>\n",
       "</div>"
      ],
      "text/plain": [
       "                            overdriveNo  overdriveNoSrc       bibNo  \\\n",
       "0  5E7A6766-4D4A-4564-86F2-481DE9473CD0            37.0  b170902584   \n",
       "1  5E5DDBB5-7855-4F28-B893-7F6611E8CEE1            37.0  b17094783x   \n",
       "2  5F813F22-EA16-4ED2-BEB9-B1825812B29A            37.0  b17101876x   \n",
       "3  9912837E-54CA-49B7-AC94-4C7E6B63056C            37.0  b171018825   \n",
       "4  57471296-F6D1-4A55-BF96-40095428284F            37.0  b171018850   \n",
       "\n",
       "  sierraControlNo sierraControlNoSrc sierraFormat_int sierra_status  \\\n",
       "0        61227205              OCoLC                z             -   \n",
       "1        69187499              OCoLC                z             -   \n",
       "2        52514399              OCoLC                z             -   \n",
       "3        52515141              OCoLC                z             -   \n",
       "4        52515457              OCoLC                z             -   \n",
       "\n",
       "  overdriveControlNo sierraFormat_ext _merge  \n",
       "0      ODN0000074679                z   both  \n",
       "1      ODN0000094989                z   both  \n",
       "2      ODN0000015898                z   both  \n",
       "3      ODN0000006985                z   both  \n",
       "4      ODN0000000555                z   both  "
      ]
     },
     "execution_count": 50,
     "metadata": {},
     "output_type": "execute_result"
    }
   ],
   "source": [
    "edf_join.head()"
   ]
  },
  {
   "cell_type": "code",
   "execution_count": 51,
   "metadata": {},
   "outputs": [],
   "source": [
    "edf = edf_join[edf_join[\"_merge\"] == \"left_only\"]"
   ]
  },
  {
   "cell_type": "code",
   "execution_count": 52,
   "metadata": {},
   "outputs": [
    {
     "data": {
      "text/html": [
       "<div>\n",
       "<style scoped>\n",
       "    .dataframe tbody tr th:only-of-type {\n",
       "        vertical-align: middle;\n",
       "    }\n",
       "\n",
       "    .dataframe tbody tr th {\n",
       "        vertical-align: top;\n",
       "    }\n",
       "\n",
       "    .dataframe thead th {\n",
       "        text-align: right;\n",
       "    }\n",
       "</style>\n",
       "<table border=\"1\" class=\"dataframe\">\n",
       "  <thead>\n",
       "    <tr style=\"text-align: right;\">\n",
       "      <th></th>\n",
       "      <th>overdriveNo</th>\n",
       "      <th>overdriveNoSrc</th>\n",
       "      <th>bibNo</th>\n",
       "      <th>sierraControlNo</th>\n",
       "      <th>sierraControlNoSrc</th>\n",
       "      <th>sierraFormat_int</th>\n",
       "      <th>sierra_status</th>\n",
       "      <th>overdriveControlNo</th>\n",
       "      <th>sierraFormat_ext</th>\n",
       "      <th>_merge</th>\n",
       "    </tr>\n",
       "  </thead>\n",
       "  <tbody>\n",
       "    <tr>\n",
       "      <th>480</th>\n",
       "      <td>9998F48A-D6AA-424F-8581-ECC0B5BA104F</td>\n",
       "      <td>37.0</td>\n",
       "      <td>b171032809</td>\n",
       "      <td>62381638</td>\n",
       "      <td>OCoLC</td>\n",
       "      <td>z</td>\n",
       "      <td>-</td>\n",
       "      <td>NaN</td>\n",
       "      <td>NaN</td>\n",
       "      <td>left_only</td>\n",
       "    </tr>\n",
       "    <tr>\n",
       "      <th>2147</th>\n",
       "      <td>2BB18901-645B-499E-A69E-A5854AAA94EB</td>\n",
       "      <td>37.0</td>\n",
       "      <td>b171847155</td>\n",
       "      <td>55955025</td>\n",
       "      <td>OCoLC</td>\n",
       "      <td>z</td>\n",
       "      <td>-</td>\n",
       "      <td>NaN</td>\n",
       "      <td>NaN</td>\n",
       "      <td>left_only</td>\n",
       "    </tr>\n",
       "    <tr>\n",
       "      <th>2179</th>\n",
       "      <td>8F63F9F7-AFD7-4398-AD69-22CEC5FD484D</td>\n",
       "      <td>37.0</td>\n",
       "      <td>b171848408</td>\n",
       "      <td>56019384</td>\n",
       "      <td>OCoLC</td>\n",
       "      <td>z</td>\n",
       "      <td>-</td>\n",
       "      <td>NaN</td>\n",
       "      <td>NaN</td>\n",
       "      <td>left_only</td>\n",
       "    </tr>\n",
       "    <tr>\n",
       "      <th>2633</th>\n",
       "      <td>1AC4120B-AF06-419F-BA9F-788D50CBBBD4</td>\n",
       "      <td>37.0</td>\n",
       "      <td>b172049295</td>\n",
       "      <td>123031686</td>\n",
       "      <td>OCoLC</td>\n",
       "      <td>z</td>\n",
       "      <td>-</td>\n",
       "      <td>NaN</td>\n",
       "      <td>NaN</td>\n",
       "      <td>left_only</td>\n",
       "    </tr>\n",
       "    <tr>\n",
       "      <th>3064</th>\n",
       "      <td>C077EBEE-FC30-4C03-B8E9-500FCCC805F7</td>\n",
       "      <td>37.0</td>\n",
       "      <td>b172142209</td>\n",
       "      <td>56906562</td>\n",
       "      <td>OCoLC</td>\n",
       "      <td>z</td>\n",
       "      <td>-</td>\n",
       "      <td>NaN</td>\n",
       "      <td>NaN</td>\n",
       "      <td>left_only</td>\n",
       "    </tr>\n",
       "  </tbody>\n",
       "</table>\n",
       "</div>"
      ],
      "text/plain": [
       "                               overdriveNo  overdriveNoSrc       bibNo  \\\n",
       "480   9998F48A-D6AA-424F-8581-ECC0B5BA104F            37.0  b171032809   \n",
       "2147  2BB18901-645B-499E-A69E-A5854AAA94EB            37.0  b171847155   \n",
       "2179  8F63F9F7-AFD7-4398-AD69-22CEC5FD484D            37.0  b171848408   \n",
       "2633  1AC4120B-AF06-419F-BA9F-788D50CBBBD4            37.0  b172049295   \n",
       "3064  C077EBEE-FC30-4C03-B8E9-500FCCC805F7            37.0  b172142209   \n",
       "\n",
       "     sierraControlNo sierraControlNoSrc sierraFormat_int sierra_status  \\\n",
       "480         62381638              OCoLC                z             -   \n",
       "2147        55955025              OCoLC                z             -   \n",
       "2179        56019384              OCoLC                z             -   \n",
       "2633       123031686              OCoLC                z             -   \n",
       "3064        56906562              OCoLC                z             -   \n",
       "\n",
       "     overdriveControlNo sierraFormat_ext     _merge  \n",
       "480                 NaN              NaN  left_only  \n",
       "2147                NaN              NaN  left_only  \n",
       "2179                NaN              NaN  left_only  \n",
       "2633                NaN              NaN  left_only  \n",
       "3064                NaN              NaN  left_only  "
      ]
     },
     "execution_count": 52,
     "metadata": {},
     "output_type": "execute_result"
    }
   ],
   "source": [
    "edf.head()"
   ]
  },
  {
   "cell_type": "code",
   "execution_count": 53,
   "metadata": {},
   "outputs": [
    {
     "data": {
      "text/plain": [
       "(15783, 10)"
      ]
     },
     "execution_count": 53,
     "metadata": {},
     "output_type": "execute_result"
    }
   ],
   "source": [
    "edf.shape"
   ]
  },
  {
   "cell_type": "code",
   "execution_count": 54,
   "metadata": {},
   "outputs": [],
   "source": [
    "# but these rows includes multi overdriveNo on bib, so it needs to be compared to what was found to be overlaping (inner join); overdriveNo are irrelevant here\n",
    "# lets dedup on bibNo this set"
   ]
  },
  {
   "cell_type": "code",
   "execution_count": 55,
   "metadata": {},
   "outputs": [],
   "source": [
    "edf_deduped = edf.drop_duplicates(subset=\"bibNo\", keep=\"first\")"
   ]
  },
  {
   "cell_type": "code",
   "execution_count": 56,
   "metadata": {},
   "outputs": [
    {
     "data": {
      "text/plain": [
       "(15455, 10)"
      ]
     },
     "execution_count": 56,
     "metadata": {},
     "output_type": "execute_result"
    }
   ],
   "source": [
    "edf_deduped.shape"
   ]
  },
  {
   "cell_type": "code",
   "execution_count": 57,
   "metadata": {},
   "outputs": [],
   "source": [
    "# lets see if any of these show up in the inner join; should be 0 overlap"
   ]
  },
  {
   "cell_type": "code",
   "execution_count": 58,
   "metadata": {},
   "outputs": [],
   "source": [
    "vedf = pd.merge(df_found_deduped_on_bibNo, edf_deduped, on=\"overdriveNo\", how=\"inner\")"
   ]
  },
  {
   "cell_type": "code",
   "execution_count": 59,
   "metadata": {},
   "outputs": [
    {
     "data": {
      "text/plain": [
       "(0, 18)"
      ]
     },
     "execution_count": 59,
     "metadata": {},
     "output_type": "execute_result"
    }
   ],
   "source": [
    "vedf.shape"
   ]
  },
  {
   "cell_type": "code",
   "execution_count": 60,
   "metadata": {},
   "outputs": [],
   "source": [
    "# Yay! but ...\n",
    "# this must be verfied again against Overdrive platform to confirm the library has no access and can be deleted"
   ]
  },
  {
   "cell_type": "code",
   "execution_count": 61,
   "metadata": {},
   "outputs": [],
   "source": [
    "edf_deduped.to_csv(\"./reports/NYPL/expired-before-verfication.csv\", index=False)"
   ]
  },
  {
   "cell_type": "code",
   "execution_count": 62,
   "metadata": {},
   "outputs": [],
   "source": [
    "edf_deduped[[\"overdriveNo\", \"bibNo\"]].to_csv(\"./reports/NYPL/expired-before-verification-idsonly.csv\", index=False)"
   ]
  },
  {
   "cell_type": "code",
   "execution_count": null,
   "metadata": {},
   "outputs": [],
   "source": []
  }
 ],
 "metadata": {
  "kernelspec": {
   "display_name": "Python 3",
   "language": "python",
   "name": "python3"
  },
  "language_info": {
   "codemirror_mode": {
    "name": "ipython",
    "version": 3
   },
   "file_extension": ".py",
   "mimetype": "text/x-python",
   "name": "python",
   "nbconvert_exporter": "python",
   "pygments_lexer": "ipython3",
   "version": "3.7.2"
  }
 },
 "nbformat": 4,
 "nbformat_minor": 4
}
