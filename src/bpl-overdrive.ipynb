{
 "cells": [
  {
   "cell_type": "code",
   "execution_count": 1,
   "metadata": {},
   "outputs": [],
   "source": [
    "import pandas as pd"
   ]
  },
  {
   "cell_type": "code",
   "execution_count": 2,
   "metadata": {},
   "outputs": [],
   "source": [
    "overdrive_fh  = \"./reports/BPL/od-bpl-all.csv\""
   ]
  },
  {
   "cell_type": "markdown",
   "metadata": {},
   "source": [
    "## Overdrive bulk MarcExpress dataframe"
   ]
  },
  {
   "cell_type": "code",
   "execution_count": 3,
   "metadata": {},
   "outputs": [],
   "source": [
    "odf = pd.read_csv(overdrive_fh, header=None, names=[\"overdriveNo\", \"overdriveControlNo\", \"sierraFormat_ext\"])"
   ]
  },
  {
   "cell_type": "code",
   "execution_count": 8,
   "metadata": {},
   "outputs": [
    {
     "data": {
      "text/plain": [
       "(217134, 3)"
      ]
     },
     "execution_count": 8,
     "metadata": {},
     "output_type": "execute_result"
    }
   ],
   "source": [
    "odf.shape"
   ]
  },
  {
   "cell_type": "code",
   "execution_count": 4,
   "metadata": {},
   "outputs": [
    {
     "data": {
      "text/html": [
       "<div>\n",
       "<style scoped>\n",
       "    .dataframe tbody tr th:only-of-type {\n",
       "        vertical-align: middle;\n",
       "    }\n",
       "\n",
       "    .dataframe tbody tr th {\n",
       "        vertical-align: top;\n",
       "    }\n",
       "\n",
       "    .dataframe thead th {\n",
       "        text-align: right;\n",
       "    }\n",
       "</style>\n",
       "<table border=\"1\" class=\"dataframe\">\n",
       "  <thead>\n",
       "    <tr style=\"text-align: right;\">\n",
       "      <th></th>\n",
       "      <th>overdriveNo</th>\n",
       "      <th>overdriveControlNo</th>\n",
       "      <th>sierraFormat_ext</th>\n",
       "    </tr>\n",
       "  </thead>\n",
       "  <tbody>\n",
       "    <tr>\n",
       "      <th>0</th>\n",
       "      <td>0E90D7A5-30B8-4D07-9D13-DF0E02EA631E</td>\n",
       "      <td>ODN0000082587</td>\n",
       "      <td>z</td>\n",
       "    </tr>\n",
       "    <tr>\n",
       "      <th>1</th>\n",
       "      <td>C449DE3C-A683-412A-8997-F0551A5DC576</td>\n",
       "      <td>ODN0000082663</td>\n",
       "      <td>z</td>\n",
       "    </tr>\n",
       "    <tr>\n",
       "      <th>2</th>\n",
       "      <td>765A1B6A-E978-4777-8DD1-9647D611A58B</td>\n",
       "      <td>ODN0000082589</td>\n",
       "      <td>z</td>\n",
       "    </tr>\n",
       "    <tr>\n",
       "      <th>3</th>\n",
       "      <td>0957DA4E-DD2F-469E-BDFF-B9B1A9422C21</td>\n",
       "      <td>ODN0000082590</td>\n",
       "      <td>z</td>\n",
       "    </tr>\n",
       "    <tr>\n",
       "      <th>4</th>\n",
       "      <td>E572EC2C-09F7-462D-8153-7C8A7493586F</td>\n",
       "      <td>ODN0000082591</td>\n",
       "      <td>z</td>\n",
       "    </tr>\n",
       "  </tbody>\n",
       "</table>\n",
       "</div>"
      ],
      "text/plain": [
       "                            overdriveNo overdriveControlNo sierraFormat_ext\n",
       "0  0E90D7A5-30B8-4D07-9D13-DF0E02EA631E      ODN0000082587                z\n",
       "1  C449DE3C-A683-412A-8997-F0551A5DC576      ODN0000082663                z\n",
       "2  765A1B6A-E978-4777-8DD1-9647D611A58B      ODN0000082589                z\n",
       "3  0957DA4E-DD2F-469E-BDFF-B9B1A9422C21      ODN0000082590                z\n",
       "4  E572EC2C-09F7-462D-8153-7C8A7493586F      ODN0000082591                z"
      ]
     },
     "execution_count": 4,
     "metadata": {},
     "output_type": "execute_result"
    }
   ],
   "source": [
    "odf.head()"
   ]
  },
  {
   "cell_type": "code",
   "execution_count": 5,
   "metadata": {},
   "outputs": [],
   "source": [
    "# find if any missing IDs\n",
    "odf_missing_ids = odf[odf[\"overdriveNo\"].isnull()]"
   ]
  },
  {
   "cell_type": "code",
   "execution_count": 6,
   "metadata": {},
   "outputs": [
    {
     "data": {
      "text/plain": [
       "(0, 3)"
      ]
     },
     "execution_count": 6,
     "metadata": {},
     "output_type": "execute_result"
    }
   ],
   "source": [
    "odf_missing_ids.shape"
   ]
  },
  {
   "cell_type": "code",
   "execution_count": 7,
   "metadata": {},
   "outputs": [
    {
     "data": {
      "text/plain": [
       "x    171343\n",
       "z     43806\n",
       "v      1985\n",
       "Name: sierraFormat_ext, dtype: int64"
      ]
     },
     "execution_count": 7,
     "metadata": {},
     "output_type": "execute_result"
    }
   ],
   "source": [
    "odf[\"sierraFormat_ext\"].value_counts()"
   ]
  },
  {
   "cell_type": "markdown",
   "metadata": {},
   "source": [
    "## Sierra Overdrive bibs dataframe"
   ]
  },
  {
   "cell_type": "code",
   "execution_count": 10,
   "metadata": {},
   "outputs": [],
   "source": [
    "sierra_fh = \"./reports/BPL/sierra-bpl-all.csv\""
   ]
  },
  {
   "cell_type": "code",
   "execution_count": 11,
   "metadata": {},
   "outputs": [],
   "source": [
    "sdf = pd.read_csv(\n",
    "    sierra_fh,\n",
    "    header=None,\n",
    "    names=[\"overdriveNo\", \"overdriveNoSrc\", \"bibNo\", \"sierraControlNo\", \"sierraControlNoSrc\", \"sierraFormat_int\", \"sierra_status\"],\n",
    "    low_memory=False\n",
    ")"
   ]
  },
  {
   "cell_type": "code",
   "execution_count": 15,
   "metadata": {},
   "outputs": [
    {
     "data": {
      "text/plain": [
       "(300410, 7)"
      ]
     },
     "execution_count": 15,
     "metadata": {},
     "output_type": "execute_result"
    }
   ],
   "source": [
    "# this will be larger than number of actual records since each instance of overdriveNo appearing on a bib is recorded in its own row, sometimes as duplicate one in 037, one in 856\n",
    "sdf.shape"
   ]
  },
  {
   "cell_type": "code",
   "execution_count": 16,
   "metadata": {},
   "outputs": [
    {
     "data": {
      "text/html": [
       "<div>\n",
       "<style scoped>\n",
       "    .dataframe tbody tr th:only-of-type {\n",
       "        vertical-align: middle;\n",
       "    }\n",
       "\n",
       "    .dataframe tbody tr th {\n",
       "        vertical-align: top;\n",
       "    }\n",
       "\n",
       "    .dataframe thead th {\n",
       "        text-align: right;\n",
       "    }\n",
       "</style>\n",
       "<table border=\"1\" class=\"dataframe\">\n",
       "  <thead>\n",
       "    <tr style=\"text-align: right;\">\n",
       "      <th></th>\n",
       "      <th>overdriveNo</th>\n",
       "      <th>overdriveNoSrc</th>\n",
       "      <th>bibNo</th>\n",
       "      <th>sierraControlNo</th>\n",
       "      <th>sierraControlNoSrc</th>\n",
       "      <th>sierraFormat_int</th>\n",
       "      <th>sierra_status</th>\n",
       "    </tr>\n",
       "  </thead>\n",
       "  <tbody>\n",
       "    <tr>\n",
       "      <th>0</th>\n",
       "      <td>27C3C666-343B-442B-A81C-2068E6D1A664</td>\n",
       "      <td>037</td>\n",
       "      <td>b112402306</td>\n",
       "      <td>ocm54908102</td>\n",
       "      <td>OCoLC</td>\n",
       "      <td>x</td>\n",
       "      <td>-</td>\n",
       "    </tr>\n",
       "    <tr>\n",
       "      <th>1</th>\n",
       "      <td>27C3C666-343B-442B-A81C-2068E6D1A664</td>\n",
       "      <td>url</td>\n",
       "      <td>b112402306</td>\n",
       "      <td>ocm54908102</td>\n",
       "      <td>OCoLC</td>\n",
       "      <td>x</td>\n",
       "      <td>-</td>\n",
       "    </tr>\n",
       "    <tr>\n",
       "      <th>2</th>\n",
       "      <td>C1AC2A72-58D4-4611-9F80-00CFE226CF2C</td>\n",
       "      <td>037</td>\n",
       "      <td>b112402318</td>\n",
       "      <td>ocm55680353</td>\n",
       "      <td>OCoLC</td>\n",
       "      <td>x</td>\n",
       "      <td>-</td>\n",
       "    </tr>\n",
       "    <tr>\n",
       "      <th>3</th>\n",
       "      <td>C1AC2A72-58D4-4611-9F80-00CFE226CF2C</td>\n",
       "      <td>url</td>\n",
       "      <td>b112402318</td>\n",
       "      <td>ocm55680353</td>\n",
       "      <td>OCoLC</td>\n",
       "      <td>x</td>\n",
       "      <td>-</td>\n",
       "    </tr>\n",
       "    <tr>\n",
       "      <th>4</th>\n",
       "      <td>8CD53ED9-CEBD-4F78-8BEF-20A58F6F3857</td>\n",
       "      <td>037</td>\n",
       "      <td>b11240232x</td>\n",
       "      <td>ocm56833247</td>\n",
       "      <td>OCoLC</td>\n",
       "      <td>x</td>\n",
       "      <td>-</td>\n",
       "    </tr>\n",
       "  </tbody>\n",
       "</table>\n",
       "</div>"
      ],
      "text/plain": [
       "                            overdriveNo overdriveNoSrc       bibNo  \\\n",
       "0  27C3C666-343B-442B-A81C-2068E6D1A664            037  b112402306   \n",
       "1  27C3C666-343B-442B-A81C-2068E6D1A664            url  b112402306   \n",
       "2  C1AC2A72-58D4-4611-9F80-00CFE226CF2C            037  b112402318   \n",
       "3  C1AC2A72-58D4-4611-9F80-00CFE226CF2C            url  b112402318   \n",
       "4  8CD53ED9-CEBD-4F78-8BEF-20A58F6F3857            037  b11240232x   \n",
       "\n",
       "  sierraControlNo sierraControlNoSrc sierraFormat_int sierra_status  \n",
       "0     ocm54908102              OCoLC                x             -  \n",
       "1     ocm54908102              OCoLC                x             -  \n",
       "2     ocm55680353              OCoLC                x             -  \n",
       "3     ocm55680353              OCoLC                x             -  \n",
       "4     ocm56833247              OCoLC                x             -  "
      ]
     },
     "execution_count": 16,
     "metadata": {},
     "output_type": "execute_result"
    }
   ],
   "source": [
    "sdf.head()"
   ]
  },
  {
   "cell_type": "code",
   "execution_count": 18,
   "metadata": {},
   "outputs": [
    {
     "data": {
      "text/plain": [
       "037    197866\n",
       "url    102544\n",
       "Name: overdriveNoSrc, dtype: int64"
      ]
     },
     "execution_count": 18,
     "metadata": {},
     "output_type": "execute_result"
    }
   ],
   "source": [
    "sdf[\"overdriveNoSrc\"].value_counts()"
   ]
  },
  {
   "cell_type": "code",
   "execution_count": 11,
   "metadata": {},
   "outputs": [
    {
     "data": {
      "text/plain": [
       "x    161347\n",
       "z     41264\n",
       "v       935\n",
       "s        45\n",
       "Name: sierraFormat_int, dtype: int64"
      ]
     },
     "execution_count": 11,
     "metadata": {},
     "output_type": "execute_result"
    }
   ],
   "source": [
    "sdf[\"sierraFormat_int\"].value_counts()"
   ]
  },
  {
   "cell_type": "code",
   "execution_count": 19,
   "metadata": {},
   "outputs": [],
   "source": [
    "# sierra fomat \"s\"?\n",
    "sdf_s_format = sdf[sdf[\"sierraFormat_int\"] == \"s\"]"
   ]
  },
  {
   "cell_type": "code",
   "execution_count": 20,
   "metadata": {},
   "outputs": [
    {
     "data": {
      "text/html": [
       "<div>\n",
       "<style scoped>\n",
       "    .dataframe tbody tr th:only-of-type {\n",
       "        vertical-align: middle;\n",
       "    }\n",
       "\n",
       "    .dataframe tbody tr th {\n",
       "        vertical-align: top;\n",
       "    }\n",
       "\n",
       "    .dataframe thead th {\n",
       "        text-align: right;\n",
       "    }\n",
       "</style>\n",
       "<table border=\"1\" class=\"dataframe\">\n",
       "  <thead>\n",
       "    <tr style=\"text-align: right;\">\n",
       "      <th></th>\n",
       "      <th>overdriveNo</th>\n",
       "      <th>overdriveNoSrc</th>\n",
       "      <th>bibNo</th>\n",
       "      <th>sierraControlNo</th>\n",
       "      <th>sierraControlNoSrc</th>\n",
       "      <th>sierraFormat_int</th>\n",
       "      <th>sierra_status</th>\n",
       "    </tr>\n",
       "  </thead>\n",
       "  <tbody>\n",
       "    <tr>\n",
       "      <th>1162</th>\n",
       "      <td>15B32E52-357A-4D74-A43E-18C673B0B0FC</td>\n",
       "      <td>url</td>\n",
       "      <td>b112467854</td>\n",
       "      <td>ocm57507474</td>\n",
       "      <td>OCoLC</td>\n",
       "      <td>s</td>\n",
       "      <td>-</td>\n",
       "    </tr>\n",
       "    <tr>\n",
       "      <th>1163</th>\n",
       "      <td>EBC278AA-D4EA-45FB-8B3B-DFDF2122ADA0</td>\n",
       "      <td>url</td>\n",
       "      <td>b112467866</td>\n",
       "      <td>ocm57507588</td>\n",
       "      <td>OCoLC</td>\n",
       "      <td>s</td>\n",
       "      <td>-</td>\n",
       "    </tr>\n",
       "    <tr>\n",
       "      <th>1164</th>\n",
       "      <td>35AC0D13-E37C-47E0-8DC9-DEEFC69D10DF</td>\n",
       "      <td>url</td>\n",
       "      <td>b112467878</td>\n",
       "      <td>ocm57507915</td>\n",
       "      <td>OCoLC</td>\n",
       "      <td>s</td>\n",
       "      <td>-</td>\n",
       "    </tr>\n",
       "    <tr>\n",
       "      <th>1166</th>\n",
       "      <td>7B5DF2A5-6C03-495A-B98B-4A6B49D7BF6A</td>\n",
       "      <td>url</td>\n",
       "      <td>b112467891</td>\n",
       "      <td>ocm57508902</td>\n",
       "      <td>OCoLC</td>\n",
       "      <td>s</td>\n",
       "      <td>-</td>\n",
       "    </tr>\n",
       "    <tr>\n",
       "      <th>1167</th>\n",
       "      <td>679C31DB-8F49-4A59-B697-C0CE35CDD490</td>\n",
       "      <td>url</td>\n",
       "      <td>b112467908</td>\n",
       "      <td>ocm57509118</td>\n",
       "      <td>OCoLC</td>\n",
       "      <td>s</td>\n",
       "      <td>-</td>\n",
       "    </tr>\n",
       "  </tbody>\n",
       "</table>\n",
       "</div>"
      ],
      "text/plain": [
       "                               overdriveNo overdriveNoSrc       bibNo  \\\n",
       "1162  15B32E52-357A-4D74-A43E-18C673B0B0FC            url  b112467854   \n",
       "1163  EBC278AA-D4EA-45FB-8B3B-DFDF2122ADA0            url  b112467866   \n",
       "1164  35AC0D13-E37C-47E0-8DC9-DEEFC69D10DF            url  b112467878   \n",
       "1166  7B5DF2A5-6C03-495A-B98B-4A6B49D7BF6A            url  b112467891   \n",
       "1167  679C31DB-8F49-4A59-B697-C0CE35CDD490            url  b112467908   \n",
       "\n",
       "     sierraControlNo sierraControlNoSrc sierraFormat_int sierra_status  \n",
       "1162     ocm57507474              OCoLC                s             -  \n",
       "1163     ocm57507588              OCoLC                s             -  \n",
       "1164     ocm57507915              OCoLC                s             -  \n",
       "1166     ocm57508902              OCoLC                s             -  \n",
       "1167     ocm57509118              OCoLC                s             -  "
      ]
     },
     "execution_count": 20,
     "metadata": {},
     "output_type": "execute_result"
    }
   ],
   "source": [
    "sdf_s_format.head()"
   ]
  },
  {
   "cell_type": "markdown",
   "metadata": {},
   "source": [
    "#### Sierra bibs missing proper Overdrive ID"
   ]
  },
  {
   "cell_type": "code",
   "execution_count": 23,
   "metadata": {},
   "outputs": [],
   "source": [
    "sdf_no_overdriveNo = sdf[(sdf[\"overdriveNo\"].isnull())|(sdf[\"overdriveNo\"] == \"\")]"
   ]
  },
  {
   "cell_type": "code",
   "execution_count": 24,
   "metadata": {},
   "outputs": [
    {
     "data": {
      "text/plain": [
       "(0, 7)"
      ]
     },
     "execution_count": 24,
     "metadata": {},
     "output_type": "execute_result"
    }
   ],
   "source": [
    "sdf_no_overdriveNo.shape"
   ]
  },
  {
   "cell_type": "code",
   "execution_count": null,
   "metadata": {},
   "outputs": [],
   "source": [
    "# the result above is unexpected - it seems my multi parsing found overdriveNo in each record"
   ]
  },
  {
   "cell_type": "code",
   "execution_count": 25,
   "metadata": {},
   "outputs": [],
   "source": [
    "sdf_invalid_overdriveNo = sdf[(sdf[\"overdriveNo\"].isnull())|(sdf[\"overdriveNo\"].str.match(\"(?!.*-.*-.*.*)\"))]"
   ]
  },
  {
   "cell_type": "code",
   "execution_count": 26,
   "metadata": {},
   "outputs": [
    {
     "data": {
      "text/plain": [
       "(0, 7)"
      ]
     },
     "execution_count": 26,
     "metadata": {},
     "output_type": "execute_result"
    }
   ],
   "source": [
    "sdf_invalid_overdriveNo.shape"
   ]
  },
  {
   "cell_type": "markdown",
   "metadata": {},
   "source": [
    "## Inner join between Sierra and bulk MarcExpress - records already in the catalog"
   ]
  },
  {
   "cell_type": "code",
   "execution_count": 37,
   "metadata": {},
   "outputs": [],
   "source": [
    "# this looks like legitimate bibs that are marked differently in Sierra than on Overload platform"
   ]
  },
  {
   "cell_type": "code",
   "execution_count": 38,
   "metadata": {},
   "outputs": [],
   "source": [
    "df_available = pd.merge(sdf, odf, on=\"overdriveNo\", how=\"inner\")"
   ]
  },
  {
   "cell_type": "code",
   "execution_count": 39,
   "metadata": {},
   "outputs": [
    {
     "data": {
      "text/html": [
       "<div>\n",
       "<style scoped>\n",
       "    .dataframe tbody tr th:only-of-type {\n",
       "        vertical-align: middle;\n",
       "    }\n",
       "\n",
       "    .dataframe tbody tr th {\n",
       "        vertical-align: top;\n",
       "    }\n",
       "\n",
       "    .dataframe thead th {\n",
       "        text-align: right;\n",
       "    }\n",
       "</style>\n",
       "<table border=\"1\" class=\"dataframe\">\n",
       "  <thead>\n",
       "    <tr style=\"text-align: right;\">\n",
       "      <th></th>\n",
       "      <th>overdriveNo</th>\n",
       "      <th>overdriveNoSrc</th>\n",
       "      <th>bibNo</th>\n",
       "      <th>sierraControlNo</th>\n",
       "      <th>sierraControlNoSrc</th>\n",
       "      <th>sierraFormat_int</th>\n",
       "      <th>sierra_status</th>\n",
       "      <th>overdriveControlNo</th>\n",
       "      <th>sierraFormat_ext</th>\n",
       "    </tr>\n",
       "  </thead>\n",
       "  <tbody>\n",
       "    <tr>\n",
       "      <th>0</th>\n",
       "      <td>27C3C666-343B-442B-A81C-2068E6D1A664</td>\n",
       "      <td>037</td>\n",
       "      <td>b112402306</td>\n",
       "      <td>ocm54908102</td>\n",
       "      <td>OCoLC</td>\n",
       "      <td>x</td>\n",
       "      <td>-</td>\n",
       "      <td>ODN0000052705</td>\n",
       "      <td>x</td>\n",
       "    </tr>\n",
       "    <tr>\n",
       "      <th>1</th>\n",
       "      <td>27C3C666-343B-442B-A81C-2068E6D1A664</td>\n",
       "      <td>url</td>\n",
       "      <td>b112402306</td>\n",
       "      <td>ocm54908102</td>\n",
       "      <td>OCoLC</td>\n",
       "      <td>x</td>\n",
       "      <td>-</td>\n",
       "      <td>ODN0000052705</td>\n",
       "      <td>x</td>\n",
       "    </tr>\n",
       "    <tr>\n",
       "      <th>2</th>\n",
       "      <td>C1AC2A72-58D4-4611-9F80-00CFE226CF2C</td>\n",
       "      <td>037</td>\n",
       "      <td>b112402318</td>\n",
       "      <td>ocm55680353</td>\n",
       "      <td>OCoLC</td>\n",
       "      <td>x</td>\n",
       "      <td>-</td>\n",
       "      <td>ODN0000055232</td>\n",
       "      <td>x</td>\n",
       "    </tr>\n",
       "    <tr>\n",
       "      <th>3</th>\n",
       "      <td>C1AC2A72-58D4-4611-9F80-00CFE226CF2C</td>\n",
       "      <td>url</td>\n",
       "      <td>b112402318</td>\n",
       "      <td>ocm55680353</td>\n",
       "      <td>OCoLC</td>\n",
       "      <td>x</td>\n",
       "      <td>-</td>\n",
       "      <td>ODN0000055232</td>\n",
       "      <td>x</td>\n",
       "    </tr>\n",
       "    <tr>\n",
       "      <th>4</th>\n",
       "      <td>8CD53ED9-CEBD-4F78-8BEF-20A58F6F3857</td>\n",
       "      <td>037</td>\n",
       "      <td>b11240232x</td>\n",
       "      <td>ocm56833247</td>\n",
       "      <td>OCoLC</td>\n",
       "      <td>x</td>\n",
       "      <td>-</td>\n",
       "      <td>ODN0000060618</td>\n",
       "      <td>x</td>\n",
       "    </tr>\n",
       "  </tbody>\n",
       "</table>\n",
       "</div>"
      ],
      "text/plain": [
       "                            overdriveNo overdriveNoSrc       bibNo  \\\n",
       "0  27C3C666-343B-442B-A81C-2068E6D1A664            037  b112402306   \n",
       "1  27C3C666-343B-442B-A81C-2068E6D1A664            url  b112402306   \n",
       "2  C1AC2A72-58D4-4611-9F80-00CFE226CF2C            037  b112402318   \n",
       "3  C1AC2A72-58D4-4611-9F80-00CFE226CF2C            url  b112402318   \n",
       "4  8CD53ED9-CEBD-4F78-8BEF-20A58F6F3857            037  b11240232x   \n",
       "\n",
       "  sierraControlNo sierraControlNoSrc sierraFormat_int sierra_status  \\\n",
       "0     ocm54908102              OCoLC                x             -   \n",
       "1     ocm54908102              OCoLC                x             -   \n",
       "2     ocm55680353              OCoLC                x             -   \n",
       "3     ocm55680353              OCoLC                x             -   \n",
       "4     ocm56833247              OCoLC                x             -   \n",
       "\n",
       "  overdriveControlNo sierraFormat_ext  \n",
       "0      ODN0000052705                x  \n",
       "1      ODN0000052705                x  \n",
       "2      ODN0000055232                x  \n",
       "3      ODN0000055232                x  \n",
       "4      ODN0000060618                x  "
      ]
     },
     "execution_count": 39,
     "metadata": {},
     "output_type": "execute_result"
    }
   ],
   "source": [
    "df_available.head()"
   ]
  },
  {
   "cell_type": "code",
   "execution_count": 40,
   "metadata": {},
   "outputs": [
    {
     "data": {
      "text/plain": [
       "(278211, 9)"
      ]
     },
     "execution_count": 40,
     "metadata": {},
     "output_type": "execute_result"
    }
   ],
   "source": [
    "df_available.shape"
   ]
  },
  {
   "cell_type": "code",
   "execution_count": 41,
   "metadata": {},
   "outputs": [],
   "source": [
    "# but the results above includes duplicate bibs (multi overdriveNo!); need to dedup to get correct count"
   ]
  },
  {
   "cell_type": "code",
   "execution_count": 42,
   "metadata": {},
   "outputs": [],
   "source": [
    "df_found_deduped_on_bibNo = df_available.drop_duplicates(subset=\"bibNo\", keep=\"first\").copy()"
   ]
  },
  {
   "cell_type": "code",
   "execution_count": 43,
   "metadata": {},
   "outputs": [
    {
     "data": {
      "text/plain": [
       "(189832, 9)"
      ]
     },
     "execution_count": 43,
     "metadata": {},
     "output_type": "execute_result"
    }
   ],
   "source": [
    "df_found_deduped_on_bibNo.shape"
   ]
  },
  {
   "cell_type": "code",
   "execution_count": 44,
   "metadata": {},
   "outputs": [],
   "source": [
    "df_found_deduped_on_overdriveNo = df_available.drop_duplicates(subset=\"overdriveNo\", keep=\"first\").copy()"
   ]
  },
  {
   "cell_type": "code",
   "execution_count": 45,
   "metadata": {},
   "outputs": [
    {
     "data": {
      "text/plain": [
       "(187539, 9)"
      ]
     },
     "execution_count": 45,
     "metadata": {},
     "output_type": "execute_result"
    }
   ],
   "source": [
    "df_found_deduped_on_overdriveNo.shape"
   ]
  },
  {
   "cell_type": "code",
   "execution_count": null,
   "metadata": {},
   "outputs": [],
   "source": [
    "# why discrepancy in numbers?\n",
    "# only logical explanation is because we have duplicates in Sierra!"
   ]
  },
  {
   "cell_type": "code",
   "execution_count": 46,
   "metadata": {},
   "outputs": [],
   "source": [
    "df_found_deduped_on_bibNo.to_csv(\"./reports/BPL/found-in-catalog.csv\", index=False)"
   ]
  },
  {
   "cell_type": "code",
   "execution_count": 47,
   "metadata": {},
   "outputs": [],
   "source": [
    "df_found_deduped_on_overdriveNo.to_csv(\"./reports/BPL/found-in-catalog-unique-overdriveNos.csv\", index=False)"
   ]
  },
  {
   "cell_type": "markdown",
   "metadata": {},
   "source": [
    "#### Suppressed/marked for deletion bibs in Sierra to be reinstated"
   ]
  },
  {
   "cell_type": "code",
   "execution_count": 48,
   "metadata": {},
   "outputs": [
    {
     "data": {
      "text/plain": [
       "-    189683\n",
       "n       127\n",
       "d        22\n",
       "Name: sierra_status, dtype: int64"
      ]
     },
     "execution_count": 48,
     "metadata": {},
     "output_type": "execute_result"
    }
   ],
   "source": [
    "# find records that are in the catalog, users have access to, but are suppressed\n",
    "df_found_deduped_on_bibNo[\"sierra_status\"].value_counts()"
   ]
  },
  {
   "cell_type": "code",
   "execution_count": 49,
   "metadata": {},
   "outputs": [],
   "source": [
    "df_reinstate_access = df_found_deduped_on_bibNo[(df_found_deduped_on_bibNo[\"sierra_status\"]==\"n\")|(df_found_deduped_on_bibNo[\"sierra_status\"]==\"d\")]"
   ]
  },
  {
   "cell_type": "code",
   "execution_count": 50,
   "metadata": {},
   "outputs": [
    {
     "data": {
      "text/plain": [
       "(149, 9)"
      ]
     },
     "execution_count": 50,
     "metadata": {},
     "output_type": "execute_result"
    }
   ],
   "source": [
    "df_reinstate_access.shape"
   ]
  },
  {
   "cell_type": "code",
   "execution_count": 51,
   "metadata": {},
   "outputs": [
    {
     "data": {
      "text/html": [
       "<div>\n",
       "<style scoped>\n",
       "    .dataframe tbody tr th:only-of-type {\n",
       "        vertical-align: middle;\n",
       "    }\n",
       "\n",
       "    .dataframe tbody tr th {\n",
       "        vertical-align: top;\n",
       "    }\n",
       "\n",
       "    .dataframe thead th {\n",
       "        text-align: right;\n",
       "    }\n",
       "</style>\n",
       "<table border=\"1\" class=\"dataframe\">\n",
       "  <thead>\n",
       "    <tr style=\"text-align: right;\">\n",
       "      <th></th>\n",
       "      <th>overdriveNo</th>\n",
       "      <th>overdriveNoSrc</th>\n",
       "      <th>bibNo</th>\n",
       "      <th>sierraControlNo</th>\n",
       "      <th>sierraControlNoSrc</th>\n",
       "      <th>sierraFormat_int</th>\n",
       "      <th>sierra_status</th>\n",
       "      <th>overdriveControlNo</th>\n",
       "      <th>sierraFormat_ext</th>\n",
       "    </tr>\n",
       "  </thead>\n",
       "  <tbody>\n",
       "    <tr>\n",
       "      <th>49</th>\n",
       "      <td>97ABE6CD-7D83-475B-8278-210FB71B35DC</td>\n",
       "      <td>url</td>\n",
       "      <td>b112411459</td>\n",
       "      <td>ocm57707762</td>\n",
       "      <td>OCoLC</td>\n",
       "      <td>z</td>\n",
       "      <td>n</td>\n",
       "      <td>ODN0000062189</td>\n",
       "      <td>z</td>\n",
       "    </tr>\n",
       "    <tr>\n",
       "      <th>651</th>\n",
       "      <td>E48D1C32-FDC5-4F77-BCF4-33A62F63B139</td>\n",
       "      <td>037</td>\n",
       "      <td>b112414916</td>\n",
       "      <td>ocm56554714</td>\n",
       "      <td>OCoLC</td>\n",
       "      <td>x</td>\n",
       "      <td>n</td>\n",
       "      <td>ODN0000056568</td>\n",
       "      <td>x</td>\n",
       "    </tr>\n",
       "    <tr>\n",
       "      <th>1069</th>\n",
       "      <td>1C0B9DC4-653A-49F7-9187-2176F6BA859D</td>\n",
       "      <td>url</td>\n",
       "      <td>b112467064</td>\n",
       "      <td>ocm57398773</td>\n",
       "      <td>OCoLC</td>\n",
       "      <td>z</td>\n",
       "      <td>n</td>\n",
       "      <td>ODN0000060795</td>\n",
       "      <td>z</td>\n",
       "    </tr>\n",
       "    <tr>\n",
       "      <th>2785</th>\n",
       "      <td>E9C9FF5A-3CB1-479A-846C-17CAA8097145</td>\n",
       "      <td>url</td>\n",
       "      <td>b113773043</td>\n",
       "      <td>ocm76747399</td>\n",
       "      <td>OCoLC</td>\n",
       "      <td>v</td>\n",
       "      <td>n</td>\n",
       "      <td>ODN0000108691</td>\n",
       "      <td>v</td>\n",
       "    </tr>\n",
       "    <tr>\n",
       "      <th>2887</th>\n",
       "      <td>3646A268-2CCF-4A88-B793-65CD7071C44F</td>\n",
       "      <td>url</td>\n",
       "      <td>b113790211</td>\n",
       "      <td>ocm81284258</td>\n",
       "      <td>OCoLC</td>\n",
       "      <td>z</td>\n",
       "      <td>n</td>\n",
       "      <td>ODN0000114416</td>\n",
       "      <td>z</td>\n",
       "    </tr>\n",
       "  </tbody>\n",
       "</table>\n",
       "</div>"
      ],
      "text/plain": [
       "                               overdriveNo overdriveNoSrc       bibNo  \\\n",
       "49    97ABE6CD-7D83-475B-8278-210FB71B35DC            url  b112411459   \n",
       "651   E48D1C32-FDC5-4F77-BCF4-33A62F63B139            037  b112414916   \n",
       "1069  1C0B9DC4-653A-49F7-9187-2176F6BA859D            url  b112467064   \n",
       "2785  E9C9FF5A-3CB1-479A-846C-17CAA8097145            url  b113773043   \n",
       "2887  3646A268-2CCF-4A88-B793-65CD7071C44F            url  b113790211   \n",
       "\n",
       "     sierraControlNo sierraControlNoSrc sierraFormat_int sierra_status  \\\n",
       "49       ocm57707762              OCoLC                z             n   \n",
       "651      ocm56554714              OCoLC                x             n   \n",
       "1069     ocm57398773              OCoLC                z             n   \n",
       "2785     ocm76747399              OCoLC                v             n   \n",
       "2887     ocm81284258              OCoLC                z             n   \n",
       "\n",
       "     overdriveControlNo sierraFormat_ext  \n",
       "49        ODN0000062189                z  \n",
       "651       ODN0000056568                x  \n",
       "1069      ODN0000060795                z  \n",
       "2785      ODN0000108691                v  \n",
       "2887      ODN0000114416                z  "
      ]
     },
     "execution_count": 51,
     "metadata": {},
     "output_type": "execute_result"
    }
   ],
   "source": [
    "df_reinstate_access.head()"
   ]
  },
  {
   "cell_type": "code",
   "execution_count": 52,
   "metadata": {},
   "outputs": [],
   "source": [
    "df_reinstate_access.to_csv(\"./reports/BPL/reinstate_access-alldata.csv\", index=False)"
   ]
  },
  {
   "cell_type": "code",
   "execution_count": 53,
   "metadata": {},
   "outputs": [],
   "source": [
    "df_reinstate_access[\"bibNo\"].to_csv(\"./reports/BPL/reinstate_access-bibNos\", index=False)"
   ]
  },
  {
   "cell_type": "markdown",
   "metadata": {},
   "source": [
    "## Missing from Sierra bibs / Sierra and MarcExpress right anti join"
   ]
  },
  {
   "cell_type": "code",
   "execution_count": 54,
   "metadata": {},
   "outputs": [],
   "source": [
    "mdf_join = pd.merge(sdf, odf, how=\"outer\", on=\"overdriveNo\", indicator=True)"
   ]
  },
  {
   "cell_type": "code",
   "execution_count": 55,
   "metadata": {},
   "outputs": [
    {
     "data": {
      "text/html": [
       "<div>\n",
       "<style scoped>\n",
       "    .dataframe tbody tr th:only-of-type {\n",
       "        vertical-align: middle;\n",
       "    }\n",
       "\n",
       "    .dataframe tbody tr th {\n",
       "        vertical-align: top;\n",
       "    }\n",
       "\n",
       "    .dataframe thead th {\n",
       "        text-align: right;\n",
       "    }\n",
       "</style>\n",
       "<table border=\"1\" class=\"dataframe\">\n",
       "  <thead>\n",
       "    <tr style=\"text-align: right;\">\n",
       "      <th></th>\n",
       "      <th>overdriveNo</th>\n",
       "      <th>overdriveNoSrc</th>\n",
       "      <th>bibNo</th>\n",
       "      <th>sierraControlNo</th>\n",
       "      <th>sierraControlNoSrc</th>\n",
       "      <th>sierraFormat_int</th>\n",
       "      <th>sierra_status</th>\n",
       "      <th>overdriveControlNo</th>\n",
       "      <th>sierraFormat_ext</th>\n",
       "      <th>_merge</th>\n",
       "    </tr>\n",
       "  </thead>\n",
       "  <tbody>\n",
       "    <tr>\n",
       "      <th>0</th>\n",
       "      <td>27C3C666-343B-442B-A81C-2068E6D1A664</td>\n",
       "      <td>037</td>\n",
       "      <td>b112402306</td>\n",
       "      <td>ocm54908102</td>\n",
       "      <td>OCoLC</td>\n",
       "      <td>x</td>\n",
       "      <td>-</td>\n",
       "      <td>ODN0000052705</td>\n",
       "      <td>x</td>\n",
       "      <td>both</td>\n",
       "    </tr>\n",
       "    <tr>\n",
       "      <th>1</th>\n",
       "      <td>27C3C666-343B-442B-A81C-2068E6D1A664</td>\n",
       "      <td>url</td>\n",
       "      <td>b112402306</td>\n",
       "      <td>ocm54908102</td>\n",
       "      <td>OCoLC</td>\n",
       "      <td>x</td>\n",
       "      <td>-</td>\n",
       "      <td>ODN0000052705</td>\n",
       "      <td>x</td>\n",
       "      <td>both</td>\n",
       "    </tr>\n",
       "    <tr>\n",
       "      <th>2</th>\n",
       "      <td>C1AC2A72-58D4-4611-9F80-00CFE226CF2C</td>\n",
       "      <td>037</td>\n",
       "      <td>b112402318</td>\n",
       "      <td>ocm55680353</td>\n",
       "      <td>OCoLC</td>\n",
       "      <td>x</td>\n",
       "      <td>-</td>\n",
       "      <td>ODN0000055232</td>\n",
       "      <td>x</td>\n",
       "      <td>both</td>\n",
       "    </tr>\n",
       "    <tr>\n",
       "      <th>3</th>\n",
       "      <td>C1AC2A72-58D4-4611-9F80-00CFE226CF2C</td>\n",
       "      <td>url</td>\n",
       "      <td>b112402318</td>\n",
       "      <td>ocm55680353</td>\n",
       "      <td>OCoLC</td>\n",
       "      <td>x</td>\n",
       "      <td>-</td>\n",
       "      <td>ODN0000055232</td>\n",
       "      <td>x</td>\n",
       "      <td>both</td>\n",
       "    </tr>\n",
       "    <tr>\n",
       "      <th>4</th>\n",
       "      <td>8CD53ED9-CEBD-4F78-8BEF-20A58F6F3857</td>\n",
       "      <td>037</td>\n",
       "      <td>b11240232x</td>\n",
       "      <td>ocm56833247</td>\n",
       "      <td>OCoLC</td>\n",
       "      <td>x</td>\n",
       "      <td>-</td>\n",
       "      <td>ODN0000060618</td>\n",
       "      <td>x</td>\n",
       "      <td>both</td>\n",
       "    </tr>\n",
       "  </tbody>\n",
       "</table>\n",
       "</div>"
      ],
      "text/plain": [
       "                            overdriveNo overdriveNoSrc       bibNo  \\\n",
       "0  27C3C666-343B-442B-A81C-2068E6D1A664            037  b112402306   \n",
       "1  27C3C666-343B-442B-A81C-2068E6D1A664            url  b112402306   \n",
       "2  C1AC2A72-58D4-4611-9F80-00CFE226CF2C            037  b112402318   \n",
       "3  C1AC2A72-58D4-4611-9F80-00CFE226CF2C            url  b112402318   \n",
       "4  8CD53ED9-CEBD-4F78-8BEF-20A58F6F3857            037  b11240232x   \n",
       "\n",
       "  sierraControlNo sierraControlNoSrc sierraFormat_int sierra_status  \\\n",
       "0     ocm54908102              OCoLC                x             -   \n",
       "1     ocm54908102              OCoLC                x             -   \n",
       "2     ocm55680353              OCoLC                x             -   \n",
       "3     ocm55680353              OCoLC                x             -   \n",
       "4     ocm56833247              OCoLC                x             -   \n",
       "\n",
       "  overdriveControlNo sierraFormat_ext _merge  \n",
       "0      ODN0000052705                x   both  \n",
       "1      ODN0000052705                x   both  \n",
       "2      ODN0000055232                x   both  \n",
       "3      ODN0000055232                x   both  \n",
       "4      ODN0000060618                x   both  "
      ]
     },
     "execution_count": 55,
     "metadata": {},
     "output_type": "execute_result"
    }
   ],
   "source": [
    "mdf_join.head()"
   ]
  },
  {
   "cell_type": "code",
   "execution_count": 56,
   "metadata": {},
   "outputs": [
    {
     "data": {
      "text/plain": [
       "(330005, 10)"
      ]
     },
     "execution_count": 56,
     "metadata": {},
     "output_type": "execute_result"
    }
   ],
   "source": [
    "mdf_join.shape"
   ]
  },
  {
   "cell_type": "code",
   "execution_count": 57,
   "metadata": {},
   "outputs": [],
   "source": [
    "df_missing = mdf_join[mdf_join[\"_merge\"] == \"right_only\"]"
   ]
  },
  {
   "cell_type": "code",
   "execution_count": 58,
   "metadata": {},
   "outputs": [
    {
     "data": {
      "text/plain": [
       "(29595, 10)"
      ]
     },
     "execution_count": 58,
     "metadata": {},
     "output_type": "execute_result"
    }
   ],
   "source": [
    "df_missing.shape"
   ]
  },
  {
   "cell_type": "code",
   "execution_count": 59,
   "metadata": {},
   "outputs": [
    {
     "data": {
      "text/html": [
       "<div>\n",
       "<style scoped>\n",
       "    .dataframe tbody tr th:only-of-type {\n",
       "        vertical-align: middle;\n",
       "    }\n",
       "\n",
       "    .dataframe tbody tr th {\n",
       "        vertical-align: top;\n",
       "    }\n",
       "\n",
       "    .dataframe thead th {\n",
       "        text-align: right;\n",
       "    }\n",
       "</style>\n",
       "<table border=\"1\" class=\"dataframe\">\n",
       "  <thead>\n",
       "    <tr style=\"text-align: right;\">\n",
       "      <th></th>\n",
       "      <th>overdriveNo</th>\n",
       "      <th>overdriveNoSrc</th>\n",
       "      <th>bibNo</th>\n",
       "      <th>sierraControlNo</th>\n",
       "      <th>sierraControlNoSrc</th>\n",
       "      <th>sierraFormat_int</th>\n",
       "      <th>sierra_status</th>\n",
       "      <th>overdriveControlNo</th>\n",
       "      <th>sierraFormat_ext</th>\n",
       "      <th>_merge</th>\n",
       "    </tr>\n",
       "  </thead>\n",
       "  <tbody>\n",
       "    <tr>\n",
       "      <th>300410</th>\n",
       "      <td>D4B34CBB-80AC-4B53-9CE1-7019929155BA</td>\n",
       "      <td>NaN</td>\n",
       "      <td>NaN</td>\n",
       "      <td>NaN</td>\n",
       "      <td>NaN</td>\n",
       "      <td>NaN</td>\n",
       "      <td>NaN</td>\n",
       "      <td>ODN0000637972</td>\n",
       "      <td>z</td>\n",
       "      <td>right_only</td>\n",
       "    </tr>\n",
       "    <tr>\n",
       "      <th>300411</th>\n",
       "      <td>35B73FE2-F9D9-463D-A41E-1EBF6C85F834</td>\n",
       "      <td>NaN</td>\n",
       "      <td>NaN</td>\n",
       "      <td>NaN</td>\n",
       "      <td>NaN</td>\n",
       "      <td>NaN</td>\n",
       "      <td>NaN</td>\n",
       "      <td>ODN0000213530</td>\n",
       "      <td>z</td>\n",
       "      <td>right_only</td>\n",
       "    </tr>\n",
       "    <tr>\n",
       "      <th>300412</th>\n",
       "      <td>A4324F25-7F12-4488-8378-BD26C1B2CD34</td>\n",
       "      <td>NaN</td>\n",
       "      <td>NaN</td>\n",
       "      <td>NaN</td>\n",
       "      <td>NaN</td>\n",
       "      <td>NaN</td>\n",
       "      <td>NaN</td>\n",
       "      <td>ODN0000644843</td>\n",
       "      <td>z</td>\n",
       "      <td>right_only</td>\n",
       "    </tr>\n",
       "    <tr>\n",
       "      <th>300413</th>\n",
       "      <td>E236C55B-D2F5-4E7F-B832-1B6E58205DA0</td>\n",
       "      <td>NaN</td>\n",
       "      <td>NaN</td>\n",
       "      <td>NaN</td>\n",
       "      <td>NaN</td>\n",
       "      <td>NaN</td>\n",
       "      <td>NaN</td>\n",
       "      <td>ODN0000637978</td>\n",
       "      <td>z</td>\n",
       "      <td>right_only</td>\n",
       "    </tr>\n",
       "    <tr>\n",
       "      <th>300414</th>\n",
       "      <td>722370E6-1A28-444E-B58F-A21D5AD05C8B</td>\n",
       "      <td>NaN</td>\n",
       "      <td>NaN</td>\n",
       "      <td>NaN</td>\n",
       "      <td>NaN</td>\n",
       "      <td>NaN</td>\n",
       "      <td>NaN</td>\n",
       "      <td>ODN0000644847</td>\n",
       "      <td>z</td>\n",
       "      <td>right_only</td>\n",
       "    </tr>\n",
       "  </tbody>\n",
       "</table>\n",
       "</div>"
      ],
      "text/plain": [
       "                                 overdriveNo overdriveNoSrc bibNo  \\\n",
       "300410  D4B34CBB-80AC-4B53-9CE1-7019929155BA            NaN   NaN   \n",
       "300411  35B73FE2-F9D9-463D-A41E-1EBF6C85F834            NaN   NaN   \n",
       "300412  A4324F25-7F12-4488-8378-BD26C1B2CD34            NaN   NaN   \n",
       "300413  E236C55B-D2F5-4E7F-B832-1B6E58205DA0            NaN   NaN   \n",
       "300414  722370E6-1A28-444E-B58F-A21D5AD05C8B            NaN   NaN   \n",
       "\n",
       "       sierraControlNo sierraControlNoSrc sierraFormat_int sierra_status  \\\n",
       "300410             NaN                NaN              NaN           NaN   \n",
       "300411             NaN                NaN              NaN           NaN   \n",
       "300412             NaN                NaN              NaN           NaN   \n",
       "300413             NaN                NaN              NaN           NaN   \n",
       "300414             NaN                NaN              NaN           NaN   \n",
       "\n",
       "       overdriveControlNo sierraFormat_ext      _merge  \n",
       "300410      ODN0000637972                z  right_only  \n",
       "300411      ODN0000213530                z  right_only  \n",
       "300412      ODN0000644843                z  right_only  \n",
       "300413      ODN0000637978                z  right_only  \n",
       "300414      ODN0000644847                z  right_only  "
      ]
     },
     "execution_count": 59,
     "metadata": {},
     "output_type": "execute_result"
    }
   ],
   "source": [
    "df_missing.head()"
   ]
  },
  {
   "cell_type": "code",
   "execution_count": 60,
   "metadata": {},
   "outputs": [
    {
     "data": {
      "text/plain": [
       "x    25582\n",
       "z     2927\n",
       "v     1086\n",
       "Name: sierraFormat_ext, dtype: int64"
      ]
     },
     "execution_count": 60,
     "metadata": {},
     "output_type": "execute_result"
    }
   ],
   "source": [
    "df_missing[\"sierraFormat_ext\"].value_counts()"
   ]
  },
  {
   "cell_type": "code",
   "execution_count": 61,
   "metadata": {},
   "outputs": [],
   "source": [
    "df_missing.to_csv(\"./reports/BPL/missing.csv\", index=False)"
   ]
  },
  {
   "cell_type": "code",
   "execution_count": 62,
   "metadata": {},
   "outputs": [],
   "source": [
    "df_missing[\"overdriveNo\"].to_csv(\"./reports/BPL/missing-overdriveNos.csv\", index=False)"
   ]
  },
  {
   "cell_type": "markdown",
   "metadata": {},
   "source": [
    "## overdriveNo not found in bulk MarcExpress records / left anti join"
   ]
  },
  {
   "cell_type": "code",
   "execution_count": 63,
   "metadata": {},
   "outputs": [],
   "source": [
    "# do not include bibs without proper overdrive #"
   ]
  },
  {
   "cell_type": "code",
   "execution_count": 65,
   "metadata": {},
   "outputs": [],
   "source": [
    "vsdf = sdf[(sdf[\"overdriveNo\"].notnull())|(sdf[\"overdriveNo\"].str.match(\"(.*-.*-.*-.*)\"))]"
   ]
  },
  {
   "cell_type": "code",
   "execution_count": 66,
   "metadata": {},
   "outputs": [
    {
     "data": {
      "text/plain": [
       "(300410, 7)"
      ]
     },
     "execution_count": 66,
     "metadata": {},
     "output_type": "execute_result"
    }
   ],
   "source": [
    "vsdf.shape"
   ]
  },
  {
   "cell_type": "code",
   "execution_count": 67,
   "metadata": {},
   "outputs": [
    {
     "data": {
      "text/html": [
       "<div>\n",
       "<style scoped>\n",
       "    .dataframe tbody tr th:only-of-type {\n",
       "        vertical-align: middle;\n",
       "    }\n",
       "\n",
       "    .dataframe tbody tr th {\n",
       "        vertical-align: top;\n",
       "    }\n",
       "\n",
       "    .dataframe thead th {\n",
       "        text-align: right;\n",
       "    }\n",
       "</style>\n",
       "<table border=\"1\" class=\"dataframe\">\n",
       "  <thead>\n",
       "    <tr style=\"text-align: right;\">\n",
       "      <th></th>\n",
       "      <th>overdriveNo</th>\n",
       "      <th>overdriveNoSrc</th>\n",
       "      <th>bibNo</th>\n",
       "      <th>sierraControlNo</th>\n",
       "      <th>sierraControlNoSrc</th>\n",
       "      <th>sierraFormat_int</th>\n",
       "      <th>sierra_status</th>\n",
       "    </tr>\n",
       "  </thead>\n",
       "  <tbody>\n",
       "    <tr>\n",
       "      <th>0</th>\n",
       "      <td>27C3C666-343B-442B-A81C-2068E6D1A664</td>\n",
       "      <td>037</td>\n",
       "      <td>b112402306</td>\n",
       "      <td>ocm54908102</td>\n",
       "      <td>OCoLC</td>\n",
       "      <td>x</td>\n",
       "      <td>-</td>\n",
       "    </tr>\n",
       "    <tr>\n",
       "      <th>1</th>\n",
       "      <td>27C3C666-343B-442B-A81C-2068E6D1A664</td>\n",
       "      <td>url</td>\n",
       "      <td>b112402306</td>\n",
       "      <td>ocm54908102</td>\n",
       "      <td>OCoLC</td>\n",
       "      <td>x</td>\n",
       "      <td>-</td>\n",
       "    </tr>\n",
       "    <tr>\n",
       "      <th>2</th>\n",
       "      <td>C1AC2A72-58D4-4611-9F80-00CFE226CF2C</td>\n",
       "      <td>037</td>\n",
       "      <td>b112402318</td>\n",
       "      <td>ocm55680353</td>\n",
       "      <td>OCoLC</td>\n",
       "      <td>x</td>\n",
       "      <td>-</td>\n",
       "    </tr>\n",
       "    <tr>\n",
       "      <th>3</th>\n",
       "      <td>C1AC2A72-58D4-4611-9F80-00CFE226CF2C</td>\n",
       "      <td>url</td>\n",
       "      <td>b112402318</td>\n",
       "      <td>ocm55680353</td>\n",
       "      <td>OCoLC</td>\n",
       "      <td>x</td>\n",
       "      <td>-</td>\n",
       "    </tr>\n",
       "    <tr>\n",
       "      <th>4</th>\n",
       "      <td>8CD53ED9-CEBD-4F78-8BEF-20A58F6F3857</td>\n",
       "      <td>037</td>\n",
       "      <td>b11240232x</td>\n",
       "      <td>ocm56833247</td>\n",
       "      <td>OCoLC</td>\n",
       "      <td>x</td>\n",
       "      <td>-</td>\n",
       "    </tr>\n",
       "  </tbody>\n",
       "</table>\n",
       "</div>"
      ],
      "text/plain": [
       "                            overdriveNo overdriveNoSrc       bibNo  \\\n",
       "0  27C3C666-343B-442B-A81C-2068E6D1A664            037  b112402306   \n",
       "1  27C3C666-343B-442B-A81C-2068E6D1A664            url  b112402306   \n",
       "2  C1AC2A72-58D4-4611-9F80-00CFE226CF2C            037  b112402318   \n",
       "3  C1AC2A72-58D4-4611-9F80-00CFE226CF2C            url  b112402318   \n",
       "4  8CD53ED9-CEBD-4F78-8BEF-20A58F6F3857            037  b11240232x   \n",
       "\n",
       "  sierraControlNo sierraControlNoSrc sierraFormat_int sierra_status  \n",
       "0     ocm54908102              OCoLC                x             -  \n",
       "1     ocm54908102              OCoLC                x             -  \n",
       "2     ocm55680353              OCoLC                x             -  \n",
       "3     ocm55680353              OCoLC                x             -  \n",
       "4     ocm56833247              OCoLC                x             -  "
      ]
     },
     "execution_count": 67,
     "metadata": {},
     "output_type": "execute_result"
    }
   ],
   "source": [
    "vsdf.head()"
   ]
  },
  {
   "cell_type": "code",
   "execution_count": 69,
   "metadata": {},
   "outputs": [],
   "source": [
    "edf_join = pd.merge(vsdf, odf, how=\"outer\", on=\"overdriveNo\", indicator=True)"
   ]
  },
  {
   "cell_type": "code",
   "execution_count": 70,
   "metadata": {},
   "outputs": [
    {
     "data": {
      "text/html": [
       "<div>\n",
       "<style scoped>\n",
       "    .dataframe tbody tr th:only-of-type {\n",
       "        vertical-align: middle;\n",
       "    }\n",
       "\n",
       "    .dataframe tbody tr th {\n",
       "        vertical-align: top;\n",
       "    }\n",
       "\n",
       "    .dataframe thead th {\n",
       "        text-align: right;\n",
       "    }\n",
       "</style>\n",
       "<table border=\"1\" class=\"dataframe\">\n",
       "  <thead>\n",
       "    <tr style=\"text-align: right;\">\n",
       "      <th></th>\n",
       "      <th>overdriveNo</th>\n",
       "      <th>overdriveNoSrc</th>\n",
       "      <th>bibNo</th>\n",
       "      <th>sierraControlNo</th>\n",
       "      <th>sierraControlNoSrc</th>\n",
       "      <th>sierraFormat_int</th>\n",
       "      <th>sierra_status</th>\n",
       "      <th>overdriveControlNo</th>\n",
       "      <th>sierraFormat_ext</th>\n",
       "      <th>_merge</th>\n",
       "    </tr>\n",
       "  </thead>\n",
       "  <tbody>\n",
       "    <tr>\n",
       "      <th>0</th>\n",
       "      <td>27C3C666-343B-442B-A81C-2068E6D1A664</td>\n",
       "      <td>037</td>\n",
       "      <td>b112402306</td>\n",
       "      <td>ocm54908102</td>\n",
       "      <td>OCoLC</td>\n",
       "      <td>x</td>\n",
       "      <td>-</td>\n",
       "      <td>ODN0000052705</td>\n",
       "      <td>x</td>\n",
       "      <td>both</td>\n",
       "    </tr>\n",
       "    <tr>\n",
       "      <th>1</th>\n",
       "      <td>27C3C666-343B-442B-A81C-2068E6D1A664</td>\n",
       "      <td>url</td>\n",
       "      <td>b112402306</td>\n",
       "      <td>ocm54908102</td>\n",
       "      <td>OCoLC</td>\n",
       "      <td>x</td>\n",
       "      <td>-</td>\n",
       "      <td>ODN0000052705</td>\n",
       "      <td>x</td>\n",
       "      <td>both</td>\n",
       "    </tr>\n",
       "    <tr>\n",
       "      <th>2</th>\n",
       "      <td>C1AC2A72-58D4-4611-9F80-00CFE226CF2C</td>\n",
       "      <td>037</td>\n",
       "      <td>b112402318</td>\n",
       "      <td>ocm55680353</td>\n",
       "      <td>OCoLC</td>\n",
       "      <td>x</td>\n",
       "      <td>-</td>\n",
       "      <td>ODN0000055232</td>\n",
       "      <td>x</td>\n",
       "      <td>both</td>\n",
       "    </tr>\n",
       "    <tr>\n",
       "      <th>3</th>\n",
       "      <td>C1AC2A72-58D4-4611-9F80-00CFE226CF2C</td>\n",
       "      <td>url</td>\n",
       "      <td>b112402318</td>\n",
       "      <td>ocm55680353</td>\n",
       "      <td>OCoLC</td>\n",
       "      <td>x</td>\n",
       "      <td>-</td>\n",
       "      <td>ODN0000055232</td>\n",
       "      <td>x</td>\n",
       "      <td>both</td>\n",
       "    </tr>\n",
       "    <tr>\n",
       "      <th>4</th>\n",
       "      <td>8CD53ED9-CEBD-4F78-8BEF-20A58F6F3857</td>\n",
       "      <td>037</td>\n",
       "      <td>b11240232x</td>\n",
       "      <td>ocm56833247</td>\n",
       "      <td>OCoLC</td>\n",
       "      <td>x</td>\n",
       "      <td>-</td>\n",
       "      <td>ODN0000060618</td>\n",
       "      <td>x</td>\n",
       "      <td>both</td>\n",
       "    </tr>\n",
       "  </tbody>\n",
       "</table>\n",
       "</div>"
      ],
      "text/plain": [
       "                            overdriveNo overdriveNoSrc       bibNo  \\\n",
       "0  27C3C666-343B-442B-A81C-2068E6D1A664            037  b112402306   \n",
       "1  27C3C666-343B-442B-A81C-2068E6D1A664            url  b112402306   \n",
       "2  C1AC2A72-58D4-4611-9F80-00CFE226CF2C            037  b112402318   \n",
       "3  C1AC2A72-58D4-4611-9F80-00CFE226CF2C            url  b112402318   \n",
       "4  8CD53ED9-CEBD-4F78-8BEF-20A58F6F3857            037  b11240232x   \n",
       "\n",
       "  sierraControlNo sierraControlNoSrc sierraFormat_int sierra_status  \\\n",
       "0     ocm54908102              OCoLC                x             -   \n",
       "1     ocm54908102              OCoLC                x             -   \n",
       "2     ocm55680353              OCoLC                x             -   \n",
       "3     ocm55680353              OCoLC                x             -   \n",
       "4     ocm56833247              OCoLC                x             -   \n",
       "\n",
       "  overdriveControlNo sierraFormat_ext _merge  \n",
       "0      ODN0000052705                x   both  \n",
       "1      ODN0000052705                x   both  \n",
       "2      ODN0000055232                x   both  \n",
       "3      ODN0000055232                x   both  \n",
       "4      ODN0000060618                x   both  "
      ]
     },
     "execution_count": 70,
     "metadata": {},
     "output_type": "execute_result"
    }
   ],
   "source": [
    "edf_join.head()"
   ]
  },
  {
   "cell_type": "code",
   "execution_count": 71,
   "metadata": {},
   "outputs": [],
   "source": [
    "edf = edf_join[edf_join[\"_merge\"] == \"left_only\"]"
   ]
  },
  {
   "cell_type": "code",
   "execution_count": 72,
   "metadata": {},
   "outputs": [
    {
     "data": {
      "text/html": [
       "<div>\n",
       "<style scoped>\n",
       "    .dataframe tbody tr th:only-of-type {\n",
       "        vertical-align: middle;\n",
       "    }\n",
       "\n",
       "    .dataframe tbody tr th {\n",
       "        vertical-align: top;\n",
       "    }\n",
       "\n",
       "    .dataframe thead th {\n",
       "        text-align: right;\n",
       "    }\n",
       "</style>\n",
       "<table border=\"1\" class=\"dataframe\">\n",
       "  <thead>\n",
       "    <tr style=\"text-align: right;\">\n",
       "      <th></th>\n",
       "      <th>overdriveNo</th>\n",
       "      <th>overdriveNoSrc</th>\n",
       "      <th>bibNo</th>\n",
       "      <th>sierraControlNo</th>\n",
       "      <th>sierraControlNoSrc</th>\n",
       "      <th>sierraFormat_int</th>\n",
       "      <th>sierra_status</th>\n",
       "      <th>overdriveControlNo</th>\n",
       "      <th>sierraFormat_ext</th>\n",
       "      <th>_merge</th>\n",
       "    </tr>\n",
       "  </thead>\n",
       "  <tbody>\n",
       "    <tr>\n",
       "      <th>34</th>\n",
       "      <td>07F268B6-EF5B-4953-BBB7-773FEE0C8176</td>\n",
       "      <td>url</td>\n",
       "      <td>b112411277</td>\n",
       "      <td>ocm57506094</td>\n",
       "      <td>OCoLC</td>\n",
       "      <td>z</td>\n",
       "      <td>-</td>\n",
       "      <td>NaN</td>\n",
       "      <td>NaN</td>\n",
       "      <td>left_only</td>\n",
       "    </tr>\n",
       "    <tr>\n",
       "      <th>38</th>\n",
       "      <td>AC7F7BAB-FB41-4C1B-8342-852CA2D05309</td>\n",
       "      <td>037</td>\n",
       "      <td>b112411307</td>\n",
       "      <td>ocm57675482</td>\n",
       "      <td>OCoLC</td>\n",
       "      <td>z</td>\n",
       "      <td>-</td>\n",
       "      <td>NaN</td>\n",
       "      <td>NaN</td>\n",
       "      <td>left_only</td>\n",
       "    </tr>\n",
       "    <tr>\n",
       "      <th>39</th>\n",
       "      <td>AC7F7BAB-FB41-4C1B-8342-852CA2D05309</td>\n",
       "      <td>url</td>\n",
       "      <td>b112411307</td>\n",
       "      <td>ocm57675482</td>\n",
       "      <td>OCoLC</td>\n",
       "      <td>z</td>\n",
       "      <td>-</td>\n",
       "      <td>NaN</td>\n",
       "      <td>NaN</td>\n",
       "      <td>left_only</td>\n",
       "    </tr>\n",
       "    <tr>\n",
       "      <th>43</th>\n",
       "      <td>72023498-8893-464A-B55A-F7CBF0917F22</td>\n",
       "      <td>url</td>\n",
       "      <td>b112411332</td>\n",
       "      <td>ocm57687593</td>\n",
       "      <td>OCoLC</td>\n",
       "      <td>z</td>\n",
       "      <td>-</td>\n",
       "      <td>NaN</td>\n",
       "      <td>NaN</td>\n",
       "      <td>left_only</td>\n",
       "    </tr>\n",
       "    <tr>\n",
       "      <th>45</th>\n",
       "      <td>D80763AA-CA4F-42BD-85DA-EB0E65552533</td>\n",
       "      <td>url</td>\n",
       "      <td>b112411356</td>\n",
       "      <td>ocm57696112</td>\n",
       "      <td>OCoLC</td>\n",
       "      <td>z</td>\n",
       "      <td>-</td>\n",
       "      <td>NaN</td>\n",
       "      <td>NaN</td>\n",
       "      <td>left_only</td>\n",
       "    </tr>\n",
       "  </tbody>\n",
       "</table>\n",
       "</div>"
      ],
      "text/plain": [
       "                             overdriveNo overdriveNoSrc       bibNo  \\\n",
       "34  07F268B6-EF5B-4953-BBB7-773FEE0C8176            url  b112411277   \n",
       "38  AC7F7BAB-FB41-4C1B-8342-852CA2D05309            037  b112411307   \n",
       "39  AC7F7BAB-FB41-4C1B-8342-852CA2D05309            url  b112411307   \n",
       "43  72023498-8893-464A-B55A-F7CBF0917F22            url  b112411332   \n",
       "45  D80763AA-CA4F-42BD-85DA-EB0E65552533            url  b112411356   \n",
       "\n",
       "   sierraControlNo sierraControlNoSrc sierraFormat_int sierra_status  \\\n",
       "34     ocm57506094              OCoLC                z             -   \n",
       "38     ocm57675482              OCoLC                z             -   \n",
       "39     ocm57675482              OCoLC                z             -   \n",
       "43     ocm57687593              OCoLC                z             -   \n",
       "45     ocm57696112              OCoLC                z             -   \n",
       "\n",
       "   overdriveControlNo sierraFormat_ext     _merge  \n",
       "34                NaN              NaN  left_only  \n",
       "38                NaN              NaN  left_only  \n",
       "39                NaN              NaN  left_only  \n",
       "43                NaN              NaN  left_only  \n",
       "45                NaN              NaN  left_only  "
      ]
     },
     "execution_count": 72,
     "metadata": {},
     "output_type": "execute_result"
    }
   ],
   "source": [
    "edf.head()"
   ]
  },
  {
   "cell_type": "code",
   "execution_count": 73,
   "metadata": {},
   "outputs": [
    {
     "data": {
      "text/plain": [
       "(22199, 10)"
      ]
     },
     "execution_count": 73,
     "metadata": {},
     "output_type": "execute_result"
    }
   ],
   "source": [
    "edf.shape"
   ]
  },
  {
   "cell_type": "code",
   "execution_count": 74,
   "metadata": {},
   "outputs": [],
   "source": [
    "# but these rows includes multi overdriveNo on bib, so it needs to be compared to what was found to be overlaping (inner join); overdriveNo are irrelevant here\n",
    "# lets dedup on bibNo this set"
   ]
  },
  {
   "cell_type": "code",
   "execution_count": 75,
   "metadata": {},
   "outputs": [],
   "source": [
    "edf_deduped = edf.drop_duplicates(subset=\"bibNo\", keep=\"first\")"
   ]
  },
  {
   "cell_type": "code",
   "execution_count": 76,
   "metadata": {},
   "outputs": [
    {
     "data": {
      "text/plain": [
       "(14624, 10)"
      ]
     },
     "execution_count": 76,
     "metadata": {},
     "output_type": "execute_result"
    }
   ],
   "source": [
    "edf_deduped.shape"
   ]
  },
  {
   "cell_type": "code",
   "execution_count": 79,
   "metadata": {},
   "outputs": [],
   "source": [
    "# lets see if any of these show up in the inner join; should be 0 overlap"
   ]
  },
  {
   "cell_type": "code",
   "execution_count": 81,
   "metadata": {},
   "outputs": [],
   "source": [
    "vedf = pd.merge(df_found_deduped_on_bibNo, edf_deduped, on=\"overdriveNo\", how=\"inner\")"
   ]
  },
  {
   "cell_type": "code",
   "execution_count": 82,
   "metadata": {},
   "outputs": [
    {
     "data": {
      "text/plain": [
       "(0, 18)"
      ]
     },
     "execution_count": 82,
     "metadata": {},
     "output_type": "execute_result"
    }
   ],
   "source": [
    "vedf.shape"
   ]
  },
  {
   "cell_type": "code",
   "execution_count": null,
   "metadata": {},
   "outputs": [],
   "source": [
    "# Yay! but ...\n",
    "# this must be verfied again against Overdrive platform to confirm the library has no access and can be deleted"
   ]
  },
  {
   "cell_type": "code",
   "execution_count": 77,
   "metadata": {},
   "outputs": [],
   "source": [
    "edf_deduped.to_csv(\"./reports/BPL/expired-before-verfication.csv\", index=False)"
   ]
  },
  {
   "cell_type": "code",
   "execution_count": 78,
   "metadata": {},
   "outputs": [],
   "source": [
    "edf_deduped[[\"overdriveNo\", \"bibNo\"]].to_csv(\"./reports/BPL/expired-before-verification-idsonly.csv\", index=False)"
   ]
  },
  {
   "cell_type": "markdown",
   "metadata": {},
   "source": [
    "## Missing (left anti join) ISBN/control number verification"
   ]
  },
  {
   "cell_type": "code",
   "execution_count": 86,
   "metadata": {},
   "outputs": [],
   "source": [
    "svdf = pd.read_csv(\"./reports/BPL/sierra-ids.csv\", header=None, names=[\"isbn\", \"controlNo_int\", \"bibNo\", \"sierraFormat_int\", \"sierra_status\"])"
   ]
  },
  {
   "cell_type": "code",
   "execution_count": 87,
   "metadata": {},
   "outputs": [
    {
     "data": {
      "text/plain": [
       "(439255, 5)"
      ]
     },
     "execution_count": 87,
     "metadata": {},
     "output_type": "execute_result"
    }
   ],
   "source": [
    "svdf.shape"
   ]
  },
  {
   "cell_type": "code",
   "execution_count": 88,
   "metadata": {},
   "outputs": [
    {
     "data": {
      "text/html": [
       "<div>\n",
       "<style scoped>\n",
       "    .dataframe tbody tr th:only-of-type {\n",
       "        vertical-align: middle;\n",
       "    }\n",
       "\n",
       "    .dataframe tbody tr th {\n",
       "        vertical-align: top;\n",
       "    }\n",
       "\n",
       "    .dataframe thead th {\n",
       "        text-align: right;\n",
       "    }\n",
       "</style>\n",
       "<table border=\"1\" class=\"dataframe\">\n",
       "  <thead>\n",
       "    <tr style=\"text-align: right;\">\n",
       "      <th></th>\n",
       "      <th>isbn</th>\n",
       "      <th>controlNo_int</th>\n",
       "      <th>bibNo</th>\n",
       "      <th>sierraFormat_int</th>\n",
       "      <th>sierra_status</th>\n",
       "    </tr>\n",
       "  </thead>\n",
       "  <tbody>\n",
       "    <tr>\n",
       "      <th>0</th>\n",
       "      <td>079532782x</td>\n",
       "      <td>ocm54908102</td>\n",
       "      <td>b112402306</td>\n",
       "      <td>x</td>\n",
       "      <td>-</td>\n",
       "    </tr>\n",
       "    <tr>\n",
       "      <th>1</th>\n",
       "      <td>0795328524</td>\n",
       "      <td>ocm54908102</td>\n",
       "      <td>b112402306</td>\n",
       "      <td>x</td>\n",
       "      <td>-</td>\n",
       "    </tr>\n",
       "    <tr>\n",
       "      <th>2</th>\n",
       "      <td>1595472797</td>\n",
       "      <td>ocm55680353</td>\n",
       "      <td>b112402318</td>\n",
       "      <td>x</td>\n",
       "      <td>-</td>\n",
       "    </tr>\n",
       "    <tr>\n",
       "      <th>3</th>\n",
       "      <td>0759513740</td>\n",
       "      <td>ocm60397130</td>\n",
       "      <td>b112402343</td>\n",
       "      <td>x</td>\n",
       "      <td>-</td>\n",
       "    </tr>\n",
       "    <tr>\n",
       "      <th>4</th>\n",
       "      <td>0060569743</td>\n",
       "      <td>ocm52513883</td>\n",
       "      <td>b112412221</td>\n",
       "      <td>x</td>\n",
       "      <td>-</td>\n",
       "    </tr>\n",
       "  </tbody>\n",
       "</table>\n",
       "</div>"
      ],
      "text/plain": [
       "         isbn controlNo_int       bibNo sierraFormat_int sierra_status\n",
       "0  079532782x   ocm54908102  b112402306                x             -\n",
       "1  0795328524   ocm54908102  b112402306                x             -\n",
       "2  1595472797   ocm55680353  b112402318                x             -\n",
       "3  0759513740   ocm60397130  b112402343                x             -\n",
       "4  0060569743   ocm52513883  b112412221                x             -"
      ]
     },
     "execution_count": 88,
     "metadata": {},
     "output_type": "execute_result"
    }
   ],
   "source": [
    "svdf.head()"
   ]
  },
  {
   "cell_type": "code",
   "execution_count": 92,
   "metadata": {},
   "outputs": [],
   "source": [
    "mvdf = pd.read_csv(\"./reports/BPL/missing-combined-ids.csv\", header=None, names=[\"isbn\", \"controlNo_ext\", \"overdriveNo\", \"sierraFormat_ext\"])"
   ]
  },
  {
   "cell_type": "code",
   "execution_count": 93,
   "metadata": {},
   "outputs": [
    {
     "data": {
      "text/plain": [
       "(29941, 4)"
      ]
     },
     "execution_count": 93,
     "metadata": {},
     "output_type": "execute_result"
    }
   ],
   "source": [
    "mvdf.shape"
   ]
  },
  {
   "cell_type": "code",
   "execution_count": 94,
   "metadata": {},
   "outputs": [],
   "source": [
    "# size is bigger than missing because of multi isbns on few records"
   ]
  },
  {
   "cell_type": "code",
   "execution_count": 95,
   "metadata": {},
   "outputs": [
    {
     "data": {
      "text/html": [
       "<div>\n",
       "<style scoped>\n",
       "    .dataframe tbody tr th:only-of-type {\n",
       "        vertical-align: middle;\n",
       "    }\n",
       "\n",
       "    .dataframe tbody tr th {\n",
       "        vertical-align: top;\n",
       "    }\n",
       "\n",
       "    .dataframe thead th {\n",
       "        text-align: right;\n",
       "    }\n",
       "</style>\n",
       "<table border=\"1\" class=\"dataframe\">\n",
       "  <thead>\n",
       "    <tr style=\"text-align: right;\">\n",
       "      <th></th>\n",
       "      <th>isbn</th>\n",
       "      <th>controlNo_ext</th>\n",
       "      <th>overdriveNo</th>\n",
       "      <th>sierraFormat_ext</th>\n",
       "    </tr>\n",
       "  </thead>\n",
       "  <tbody>\n",
       "    <tr>\n",
       "      <th>0</th>\n",
       "      <td>9781445867519</td>\n",
       "      <td>odn0000637972</td>\n",
       "      <td>D4B34CBB-80AC-4B53-9CE1-7019929155BA</td>\n",
       "      <td>z</td>\n",
       "    </tr>\n",
       "    <tr>\n",
       "      <th>1</th>\n",
       "      <td>9781408401910</td>\n",
       "      <td>odn0000213530</td>\n",
       "      <td>35B73FE2-F9D9-463D-A41E-1EBF6C85F834</td>\n",
       "      <td>z</td>\n",
       "    </tr>\n",
       "    <tr>\n",
       "      <th>2</th>\n",
       "      <td>9781445816388</td>\n",
       "      <td>odn0000644843</td>\n",
       "      <td>A4324F25-7F12-4488-8378-BD26C1B2CD34</td>\n",
       "      <td>z</td>\n",
       "    </tr>\n",
       "    <tr>\n",
       "      <th>3</th>\n",
       "      <td>9781445867496</td>\n",
       "      <td>odn0000637978</td>\n",
       "      <td>E236C55B-D2F5-4E7F-B832-1B6E58205DA0</td>\n",
       "      <td>z</td>\n",
       "    </tr>\n",
       "    <tr>\n",
       "      <th>4</th>\n",
       "      <td>9781445861555</td>\n",
       "      <td>odn0000644847</td>\n",
       "      <td>722370E6-1A28-444E-B58F-A21D5AD05C8B</td>\n",
       "      <td>z</td>\n",
       "    </tr>\n",
       "  </tbody>\n",
       "</table>\n",
       "</div>"
      ],
      "text/plain": [
       "            isbn  controlNo_ext                           overdriveNo  \\\n",
       "0  9781445867519  odn0000637972  D4B34CBB-80AC-4B53-9CE1-7019929155BA   \n",
       "1  9781408401910  odn0000213530  35B73FE2-F9D9-463D-A41E-1EBF6C85F834   \n",
       "2  9781445816388  odn0000644843  A4324F25-7F12-4488-8378-BD26C1B2CD34   \n",
       "3  9781445867496  odn0000637978  E236C55B-D2F5-4E7F-B832-1B6E58205DA0   \n",
       "4  9781445861555  odn0000644847  722370E6-1A28-444E-B58F-A21D5AD05C8B   \n",
       "\n",
       "  sierraFormat_ext  \n",
       "0                z  \n",
       "1                z  \n",
       "2                z  \n",
       "3                z  \n",
       "4                z  "
      ]
     },
     "execution_count": 95,
     "metadata": {},
     "output_type": "execute_result"
    }
   ],
   "source": [
    "mvdf.head()"
   ]
  },
  {
   "cell_type": "markdown",
   "metadata": {},
   "source": [
    "#### find inner join if exists on isbn"
   ]
  },
  {
   "cell_type": "code",
   "execution_count": 96,
   "metadata": {},
   "outputs": [],
   "source": [
    "inner_isbn_df = pd.merge(svdf, mvdf, how=\"inner\", on=\"isbn\")"
   ]
  },
  {
   "cell_type": "code",
   "execution_count": 97,
   "metadata": {},
   "outputs": [
    {
     "data": {
      "text/plain": [
       "(109, 8)"
      ]
     },
     "execution_count": 97,
     "metadata": {},
     "output_type": "execute_result"
    }
   ],
   "source": [
    "inner_isbn_df.shape"
   ]
  },
  {
   "cell_type": "code",
   "execution_count": 98,
   "metadata": {},
   "outputs": [
    {
     "data": {
      "text/html": [
       "<div>\n",
       "<style scoped>\n",
       "    .dataframe tbody tr th:only-of-type {\n",
       "        vertical-align: middle;\n",
       "    }\n",
       "\n",
       "    .dataframe tbody tr th {\n",
       "        vertical-align: top;\n",
       "    }\n",
       "\n",
       "    .dataframe thead th {\n",
       "        text-align: right;\n",
       "    }\n",
       "</style>\n",
       "<table border=\"1\" class=\"dataframe\">\n",
       "  <thead>\n",
       "    <tr style=\"text-align: right;\">\n",
       "      <th></th>\n",
       "      <th>isbn</th>\n",
       "      <th>controlNo_int</th>\n",
       "      <th>bibNo</th>\n",
       "      <th>sierraFormat_int</th>\n",
       "      <th>sierra_status</th>\n",
       "      <th>controlNo_ext</th>\n",
       "      <th>overdriveNo</th>\n",
       "      <th>sierraFormat_ext</th>\n",
       "    </tr>\n",
       "  </thead>\n",
       "  <tbody>\n",
       "    <tr>\n",
       "      <th>0</th>\n",
       "      <td>9781426800610</td>\n",
       "      <td>ocn124311732</td>\n",
       "      <td>b113771319</td>\n",
       "      <td>x</td>\n",
       "      <td>-</td>\n",
       "      <td>odn0000124723</td>\n",
       "      <td>E6B8CE5F-5DE7-4DB9-A069-4FCD20C5721E</td>\n",
       "      <td>x</td>\n",
       "    </tr>\n",
       "    <tr>\n",
       "      <th>1</th>\n",
       "      <td>9781426800610</td>\n",
       "      <td>ocn124311732</td>\n",
       "      <td>b113771319</td>\n",
       "      <td>x</td>\n",
       "      <td>-</td>\n",
       "      <td>odn0000124723</td>\n",
       "      <td>E6B8CE5F-5DE7-4DB9-A069-4FCD20C5721E</td>\n",
       "      <td>x</td>\n",
       "    </tr>\n",
       "    <tr>\n",
       "      <th>2</th>\n",
       "      <td>9781101098226</td>\n",
       "      <td>ocn458558405</td>\n",
       "      <td>b115056592</td>\n",
       "      <td>x</td>\n",
       "      <td>-</td>\n",
       "      <td>odn0000612090</td>\n",
       "      <td>7B8B4CAC-8C69-406E-90AE-A50E6B601288</td>\n",
       "      <td>x</td>\n",
       "    </tr>\n",
       "    <tr>\n",
       "      <th>3</th>\n",
       "      <td>9781101046340</td>\n",
       "      <td>ocn459783191</td>\n",
       "      <td>b115130718</td>\n",
       "      <td>x</td>\n",
       "      <td>-</td>\n",
       "      <td>odn0000675399</td>\n",
       "      <td>CD17127A-7A82-44D4-86B4-D09DD1769C90</td>\n",
       "      <td>x</td>\n",
       "    </tr>\n",
       "    <tr>\n",
       "      <th>4</th>\n",
       "      <td>9781101076156</td>\n",
       "      <td>ocn492100143</td>\n",
       "      <td>b11523620x</td>\n",
       "      <td>x</td>\n",
       "      <td>-</td>\n",
       "      <td>odn0000612042</td>\n",
       "      <td>96933AB2-AD0E-4667-9555-7F326CE6D334</td>\n",
       "      <td>x</td>\n",
       "    </tr>\n",
       "  </tbody>\n",
       "</table>\n",
       "</div>"
      ],
      "text/plain": [
       "            isbn controlNo_int       bibNo sierraFormat_int sierra_status  \\\n",
       "0  9781426800610  ocn124311732  b113771319                x             -   \n",
       "1  9781426800610  ocn124311732  b113771319                x             -   \n",
       "2  9781101098226  ocn458558405  b115056592                x             -   \n",
       "3  9781101046340  ocn459783191  b115130718                x             -   \n",
       "4  9781101076156  ocn492100143  b11523620x                x             -   \n",
       "\n",
       "   controlNo_ext                           overdriveNo sierraFormat_ext  \n",
       "0  odn0000124723  E6B8CE5F-5DE7-4DB9-A069-4FCD20C5721E                x  \n",
       "1  odn0000124723  E6B8CE5F-5DE7-4DB9-A069-4FCD20C5721E                x  \n",
       "2  odn0000612090  7B8B4CAC-8C69-406E-90AE-A50E6B601288                x  \n",
       "3  odn0000675399  CD17127A-7A82-44D4-86B4-D09DD1769C90                x  \n",
       "4  odn0000612042  96933AB2-AD0E-4667-9555-7F326CE6D334                x  "
      ]
     },
     "execution_count": 98,
     "metadata": {},
     "output_type": "execute_result"
    }
   ],
   "source": [
    "inner_isbn_df.head()"
   ]
  },
  {
   "cell_type": "code",
   "execution_count": 99,
   "metadata": {},
   "outputs": [],
   "source": [
    "inner_isbn_df.to_csv(\"./reports/BPL/found-in-catalog-isbn-match.csv\", index=False)"
   ]
  },
  {
   "cell_type": "markdown",
   "metadata": {},
   "source": [
    "#### find inner join on control number"
   ]
  },
  {
   "cell_type": "code",
   "execution_count": 101,
   "metadata": {},
   "outputs": [],
   "source": [
    "inner_control_df = pd.merge(svdf, mvdf, how=\"inner\", left_on=\"controlNo_int\", right_on=\"controlNo_ext\")"
   ]
  },
  {
   "cell_type": "code",
   "execution_count": 102,
   "metadata": {},
   "outputs": [
    {
     "data": {
      "text/plain": [
       "(0, 9)"
      ]
     },
     "execution_count": 102,
     "metadata": {},
     "output_type": "execute_result"
    }
   ],
   "source": [
    "inner_control_df.shape"
   ]
  },
  {
   "cell_type": "markdown",
   "metadata": {},
   "source": [
    "#### left anti join for true missing"
   ]
  },
  {
   "cell_type": "code",
   "execution_count": 103,
   "metadata": {},
   "outputs": [],
   "source": [
    "# since there is no overloap on controlNo, no need to worry about it on the left anti join "
   ]
  },
  {
   "cell_type": "code",
   "execution_count": 111,
   "metadata": {},
   "outputs": [],
   "source": [
    "mjoin_df = pd.merge(svdf, mvdf, how=\"outer\", on=\"isbn\", indicator=True)"
   ]
  },
  {
   "cell_type": "code",
   "execution_count": 112,
   "metadata": {},
   "outputs": [
    {
     "data": {
      "text/plain": [
       "(469090, 9)"
      ]
     },
     "execution_count": 112,
     "metadata": {},
     "output_type": "execute_result"
    }
   ],
   "source": [
    "mjoin_df.shape"
   ]
  },
  {
   "cell_type": "code",
   "execution_count": 113,
   "metadata": {},
   "outputs": [
    {
     "data": {
      "text/html": [
       "<div>\n",
       "<style scoped>\n",
       "    .dataframe tbody tr th:only-of-type {\n",
       "        vertical-align: middle;\n",
       "    }\n",
       "\n",
       "    .dataframe tbody tr th {\n",
       "        vertical-align: top;\n",
       "    }\n",
       "\n",
       "    .dataframe thead th {\n",
       "        text-align: right;\n",
       "    }\n",
       "</style>\n",
       "<table border=\"1\" class=\"dataframe\">\n",
       "  <thead>\n",
       "    <tr style=\"text-align: right;\">\n",
       "      <th></th>\n",
       "      <th>isbn</th>\n",
       "      <th>controlNo_int</th>\n",
       "      <th>bibNo</th>\n",
       "      <th>sierraFormat_int</th>\n",
       "      <th>sierra_status</th>\n",
       "      <th>controlNo_ext</th>\n",
       "      <th>overdriveNo</th>\n",
       "      <th>sierraFormat_ext</th>\n",
       "      <th>_merge</th>\n",
       "    </tr>\n",
       "  </thead>\n",
       "  <tbody>\n",
       "    <tr>\n",
       "      <th>0</th>\n",
       "      <td>079532782x</td>\n",
       "      <td>ocm54908102</td>\n",
       "      <td>b112402306</td>\n",
       "      <td>x</td>\n",
       "      <td>-</td>\n",
       "      <td>NaN</td>\n",
       "      <td>NaN</td>\n",
       "      <td>NaN</td>\n",
       "      <td>left_only</td>\n",
       "    </tr>\n",
       "    <tr>\n",
       "      <th>1</th>\n",
       "      <td>0795328524</td>\n",
       "      <td>ocm54908102</td>\n",
       "      <td>b112402306</td>\n",
       "      <td>x</td>\n",
       "      <td>-</td>\n",
       "      <td>NaN</td>\n",
       "      <td>NaN</td>\n",
       "      <td>NaN</td>\n",
       "      <td>left_only</td>\n",
       "    </tr>\n",
       "    <tr>\n",
       "      <th>2</th>\n",
       "      <td>1595472797</td>\n",
       "      <td>ocm55680353</td>\n",
       "      <td>b112402318</td>\n",
       "      <td>x</td>\n",
       "      <td>-</td>\n",
       "      <td>NaN</td>\n",
       "      <td>NaN</td>\n",
       "      <td>NaN</td>\n",
       "      <td>left_only</td>\n",
       "    </tr>\n",
       "    <tr>\n",
       "      <th>3</th>\n",
       "      <td>0759513740</td>\n",
       "      <td>ocm60397130</td>\n",
       "      <td>b112402343</td>\n",
       "      <td>x</td>\n",
       "      <td>-</td>\n",
       "      <td>NaN</td>\n",
       "      <td>NaN</td>\n",
       "      <td>NaN</td>\n",
       "      <td>left_only</td>\n",
       "    </tr>\n",
       "    <tr>\n",
       "      <th>4</th>\n",
       "      <td>0060569743</td>\n",
       "      <td>ocm52513883</td>\n",
       "      <td>b112412221</td>\n",
       "      <td>x</td>\n",
       "      <td>-</td>\n",
       "      <td>NaN</td>\n",
       "      <td>NaN</td>\n",
       "      <td>NaN</td>\n",
       "      <td>left_only</td>\n",
       "    </tr>\n",
       "  </tbody>\n",
       "</table>\n",
       "</div>"
      ],
      "text/plain": [
       "         isbn controlNo_int       bibNo sierraFormat_int sierra_status  \\\n",
       "0  079532782x   ocm54908102  b112402306                x             -   \n",
       "1  0795328524   ocm54908102  b112402306                x             -   \n",
       "2  1595472797   ocm55680353  b112402318                x             -   \n",
       "3  0759513740   ocm60397130  b112402343                x             -   \n",
       "4  0060569743   ocm52513883  b112412221                x             -   \n",
       "\n",
       "  controlNo_ext overdriveNo sierraFormat_ext     _merge  \n",
       "0           NaN         NaN              NaN  left_only  \n",
       "1           NaN         NaN              NaN  left_only  \n",
       "2           NaN         NaN              NaN  left_only  \n",
       "3           NaN         NaN              NaN  left_only  \n",
       "4           NaN         NaN              NaN  left_only  "
      ]
     },
     "execution_count": 113,
     "metadata": {},
     "output_type": "execute_result"
    }
   ],
   "source": [
    "mjoin_df.head()"
   ]
  },
  {
   "cell_type": "code",
   "execution_count": 114,
   "metadata": {},
   "outputs": [],
   "source": [
    "right_only_df = mjoin_df[mjoin_df[\"_merge\"] == \"right_only\"]"
   ]
  },
  {
   "cell_type": "code",
   "execution_count": 115,
   "metadata": {},
   "outputs": [
    {
     "data": {
      "text/plain": [
       "(29835, 9)"
      ]
     },
     "execution_count": 115,
     "metadata": {},
     "output_type": "execute_result"
    }
   ],
   "source": [
    "right_only_df.shape"
   ]
  },
  {
   "cell_type": "code",
   "execution_count": 116,
   "metadata": {},
   "outputs": [
    {
     "data": {
      "text/html": [
       "<div>\n",
       "<style scoped>\n",
       "    .dataframe tbody tr th:only-of-type {\n",
       "        vertical-align: middle;\n",
       "    }\n",
       "\n",
       "    .dataframe tbody tr th {\n",
       "        vertical-align: top;\n",
       "    }\n",
       "\n",
       "    .dataframe thead th {\n",
       "        text-align: right;\n",
       "    }\n",
       "</style>\n",
       "<table border=\"1\" class=\"dataframe\">\n",
       "  <thead>\n",
       "    <tr style=\"text-align: right;\">\n",
       "      <th></th>\n",
       "      <th>isbn</th>\n",
       "      <th>controlNo_int</th>\n",
       "      <th>bibNo</th>\n",
       "      <th>sierraFormat_int</th>\n",
       "      <th>sierra_status</th>\n",
       "      <th>controlNo_ext</th>\n",
       "      <th>overdriveNo</th>\n",
       "      <th>sierraFormat_ext</th>\n",
       "      <th>_merge</th>\n",
       "    </tr>\n",
       "  </thead>\n",
       "  <tbody>\n",
       "    <tr>\n",
       "      <th>439255</th>\n",
       "      <td>9781445867519</td>\n",
       "      <td>NaN</td>\n",
       "      <td>NaN</td>\n",
       "      <td>NaN</td>\n",
       "      <td>NaN</td>\n",
       "      <td>odn0000637972</td>\n",
       "      <td>D4B34CBB-80AC-4B53-9CE1-7019929155BA</td>\n",
       "      <td>z</td>\n",
       "      <td>right_only</td>\n",
       "    </tr>\n",
       "    <tr>\n",
       "      <th>439256</th>\n",
       "      <td>9781408401910</td>\n",
       "      <td>NaN</td>\n",
       "      <td>NaN</td>\n",
       "      <td>NaN</td>\n",
       "      <td>NaN</td>\n",
       "      <td>odn0000213530</td>\n",
       "      <td>35B73FE2-F9D9-463D-A41E-1EBF6C85F834</td>\n",
       "      <td>z</td>\n",
       "      <td>right_only</td>\n",
       "    </tr>\n",
       "    <tr>\n",
       "      <th>439257</th>\n",
       "      <td>9781445816388</td>\n",
       "      <td>NaN</td>\n",
       "      <td>NaN</td>\n",
       "      <td>NaN</td>\n",
       "      <td>NaN</td>\n",
       "      <td>odn0000644843</td>\n",
       "      <td>A4324F25-7F12-4488-8378-BD26C1B2CD34</td>\n",
       "      <td>z</td>\n",
       "      <td>right_only</td>\n",
       "    </tr>\n",
       "    <tr>\n",
       "      <th>439258</th>\n",
       "      <td>9781445867496</td>\n",
       "      <td>NaN</td>\n",
       "      <td>NaN</td>\n",
       "      <td>NaN</td>\n",
       "      <td>NaN</td>\n",
       "      <td>odn0000637978</td>\n",
       "      <td>E236C55B-D2F5-4E7F-B832-1B6E58205DA0</td>\n",
       "      <td>z</td>\n",
       "      <td>right_only</td>\n",
       "    </tr>\n",
       "    <tr>\n",
       "      <th>439259</th>\n",
       "      <td>9781445861555</td>\n",
       "      <td>NaN</td>\n",
       "      <td>NaN</td>\n",
       "      <td>NaN</td>\n",
       "      <td>NaN</td>\n",
       "      <td>odn0000644847</td>\n",
       "      <td>722370E6-1A28-444E-B58F-A21D5AD05C8B</td>\n",
       "      <td>z</td>\n",
       "      <td>right_only</td>\n",
       "    </tr>\n",
       "  </tbody>\n",
       "</table>\n",
       "</div>"
      ],
      "text/plain": [
       "                 isbn controlNo_int bibNo sierraFormat_int sierra_status  \\\n",
       "439255  9781445867519           NaN   NaN              NaN           NaN   \n",
       "439256  9781408401910           NaN   NaN              NaN           NaN   \n",
       "439257  9781445816388           NaN   NaN              NaN           NaN   \n",
       "439258  9781445867496           NaN   NaN              NaN           NaN   \n",
       "439259  9781445861555           NaN   NaN              NaN           NaN   \n",
       "\n",
       "        controlNo_ext                           overdriveNo sierraFormat_ext  \\\n",
       "439255  odn0000637972  D4B34CBB-80AC-4B53-9CE1-7019929155BA                z   \n",
       "439256  odn0000213530  35B73FE2-F9D9-463D-A41E-1EBF6C85F834                z   \n",
       "439257  odn0000644843  A4324F25-7F12-4488-8378-BD26C1B2CD34                z   \n",
       "439258  odn0000637978  E236C55B-D2F5-4E7F-B832-1B6E58205DA0                z   \n",
       "439259  odn0000644847  722370E6-1A28-444E-B58F-A21D5AD05C8B                z   \n",
       "\n",
       "            _merge  \n",
       "439255  right_only  \n",
       "439256  right_only  \n",
       "439257  right_only  \n",
       "439258  right_only  \n",
       "439259  right_only  "
      ]
     },
     "execution_count": 116,
     "metadata": {},
     "output_type": "execute_result"
    }
   ],
   "source": [
    "right_only_df.head()"
   ]
  },
  {
   "cell_type": "code",
   "execution_count": 110,
   "metadata": {},
   "outputs": [],
   "source": [
    "# dedup time"
   ]
  },
  {
   "cell_type": "code",
   "execution_count": 118,
   "metadata": {},
   "outputs": [],
   "source": [
    "missing_verified_df = right_only_df.drop_duplicates(subset=\"overdriveNo\", keep=\"first\")"
   ]
  },
  {
   "cell_type": "code",
   "execution_count": 119,
   "metadata": {},
   "outputs": [
    {
     "data": {
      "text/plain": [
       "(29491, 9)"
      ]
     },
     "execution_count": 119,
     "metadata": {},
     "output_type": "execute_result"
    }
   ],
   "source": [
    "missing_verified_df.shape"
   ]
  },
  {
   "cell_type": "code",
   "execution_count": 121,
   "metadata": {},
   "outputs": [],
   "source": [
    "missing_verified_df.to_csv(\"./reports/BPL/missing-verified.csv\", index=False)"
   ]
  },
  {
   "cell_type": "code",
   "execution_count": null,
   "metadata": {},
   "outputs": [],
   "source": []
  }
 ],
 "metadata": {
  "kernelspec": {
   "display_name": "Python 3",
   "language": "python",
   "name": "python3"
  },
  "language_info": {
   "codemirror_mode": {
    "name": "ipython",
    "version": 3
   },
   "file_extension": ".py",
   "mimetype": "text/x-python",
   "name": "python",
   "nbconvert_exporter": "python",
   "pygments_lexer": "ipython3",
   "version": "3.7.3"
  }
 },
 "nbformat": 4,
 "nbformat_minor": 4
}
