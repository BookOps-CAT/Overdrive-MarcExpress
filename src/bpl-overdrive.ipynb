{
 "cells": [
  {
   "cell_type": "code",
   "execution_count": 31,
   "metadata": {},
   "outputs": [],
   "source": [
    "import pandas as pd"
   ]
  },
  {
   "cell_type": "code",
   "execution_count": 32,
   "metadata": {},
   "outputs": [],
   "source": [
    "overdrive_fh  = \"./reports/BPL/od-bpl-all.csv\""
   ]
  },
  {
   "cell_type": "markdown",
   "metadata": {},
   "source": [
    "## Overdrive bulk MarcExpress dataframe"
   ]
  },
  {
   "cell_type": "code",
   "execution_count": 33,
   "metadata": {},
   "outputs": [],
   "source": [
    "odf_raw = pd.read_csv(overdrive_fh, header=None, names=[\"overdriveNo\", \"overdriveControlNo\", \"sierraFormat_ext\"])"
   ]
  },
  {
   "cell_type": "code",
   "execution_count": 34,
   "metadata": {},
   "outputs": [
    {
     "data": {
      "text/html": [
       "<div>\n",
       "<style scoped>\n",
       "    .dataframe tbody tr th:only-of-type {\n",
       "        vertical-align: middle;\n",
       "    }\n",
       "\n",
       "    .dataframe tbody tr th {\n",
       "        vertical-align: top;\n",
       "    }\n",
       "\n",
       "    .dataframe thead th {\n",
       "        text-align: right;\n",
       "    }\n",
       "</style>\n",
       "<table border=\"1\" class=\"dataframe\">\n",
       "  <thead>\n",
       "    <tr style=\"text-align: right;\">\n",
       "      <th></th>\n",
       "      <th>overdriveNo</th>\n",
       "      <th>overdriveControlNo</th>\n",
       "      <th>sierraFormat_ext</th>\n",
       "    </tr>\n",
       "  </thead>\n",
       "  <tbody>\n",
       "    <tr>\n",
       "      <th>0</th>\n",
       "      <td>0E90D7A5-30B8-4D07-9D13-DF0E02EA631E</td>\n",
       "      <td>ODN0000082587</td>\n",
       "      <td>z</td>\n",
       "    </tr>\n",
       "    <tr>\n",
       "      <th>1</th>\n",
       "      <td>C449DE3C-A683-412A-8997-F0551A5DC576</td>\n",
       "      <td>ODN0000082663</td>\n",
       "      <td>z</td>\n",
       "    </tr>\n",
       "    <tr>\n",
       "      <th>2</th>\n",
       "      <td>765A1B6A-E978-4777-8DD1-9647D611A58B</td>\n",
       "      <td>ODN0000082589</td>\n",
       "      <td>z</td>\n",
       "    </tr>\n",
       "    <tr>\n",
       "      <th>3</th>\n",
       "      <td>0957DA4E-DD2F-469E-BDFF-B9B1A9422C21</td>\n",
       "      <td>ODN0000082590</td>\n",
       "      <td>z</td>\n",
       "    </tr>\n",
       "    <tr>\n",
       "      <th>4</th>\n",
       "      <td>E572EC2C-09F7-462D-8153-7C8A7493586F</td>\n",
       "      <td>ODN0000082591</td>\n",
       "      <td>z</td>\n",
       "    </tr>\n",
       "  </tbody>\n",
       "</table>\n",
       "</div>"
      ],
      "text/plain": [
       "                            overdriveNo overdriveControlNo sierraFormat_ext\n",
       "0  0E90D7A5-30B8-4D07-9D13-DF0E02EA631E      ODN0000082587                z\n",
       "1  C449DE3C-A683-412A-8997-F0551A5DC576      ODN0000082663                z\n",
       "2  765A1B6A-E978-4777-8DD1-9647D611A58B      ODN0000082589                z\n",
       "3  0957DA4E-DD2F-469E-BDFF-B9B1A9422C21      ODN0000082590                z\n",
       "4  E572EC2C-09F7-462D-8153-7C8A7493586F      ODN0000082591                z"
      ]
     },
     "execution_count": 34,
     "metadata": {},
     "output_type": "execute_result"
    }
   ],
   "source": [
    "odf_raw.head()"
   ]
  },
  {
   "cell_type": "code",
   "execution_count": 35,
   "metadata": {},
   "outputs": [],
   "source": [
    "# find if any missing IDs\n",
    "odf_missing_ids = odf_raw[odf_raw[\"overdriveNo\"].isnull()]"
   ]
  },
  {
   "cell_type": "code",
   "execution_count": 36,
   "metadata": {},
   "outputs": [
    {
     "data": {
      "text/plain": [
       "(0, 3)"
      ]
     },
     "execution_count": 36,
     "metadata": {},
     "output_type": "execute_result"
    }
   ],
   "source": [
    "odf_missing_ids.shape"
   ]
  },
  {
   "cell_type": "code",
   "execution_count": 37,
   "metadata": {},
   "outputs": [
    {
     "data": {
      "text/plain": [
       "x    171343\n",
       "z     43806\n",
       "v      1985\n",
       "Name: sierraFormat_ext, dtype: int64"
      ]
     },
     "execution_count": 37,
     "metadata": {},
     "output_type": "execute_result"
    }
   ],
   "source": [
    "odf_raw[\"sierraFormat_ext\"].value_counts()"
   ]
  },
  {
   "cell_type": "markdown",
   "metadata": {},
   "source": [
    "## Sierra Overdrive bibs dataframe"
   ]
  },
  {
   "cell_type": "code",
   "execution_count": 38,
   "metadata": {},
   "outputs": [],
   "source": [
    "sierra_fh = \"./reports/BPL/sierra-bpl-all.csv\""
   ]
  },
  {
   "cell_type": "code",
   "execution_count": 39,
   "metadata": {},
   "outputs": [],
   "source": [
    "sdf_raw = pd.read_csv(\n",
    "    sierra_fh,\n",
    "    header=None,\n",
    "    names=[\"overdriveNo\", \"overdriveNoSrc\", \"bibNo\", \"sierraControlNo\", \"sierraControlNoSrc\", \"sierraFormat_int\", \"sierra_status\"],\n",
    "    low_memory=False\n",
    ")"
   ]
  },
  {
   "cell_type": "code",
   "execution_count": 40,
   "metadata": {},
   "outputs": [
    {
     "data": {
      "text/html": [
       "<div>\n",
       "<style scoped>\n",
       "    .dataframe tbody tr th:only-of-type {\n",
       "        vertical-align: middle;\n",
       "    }\n",
       "\n",
       "    .dataframe tbody tr th {\n",
       "        vertical-align: top;\n",
       "    }\n",
       "\n",
       "    .dataframe thead th {\n",
       "        text-align: right;\n",
       "    }\n",
       "</style>\n",
       "<table border=\"1\" class=\"dataframe\">\n",
       "  <thead>\n",
       "    <tr style=\"text-align: right;\">\n",
       "      <th></th>\n",
       "      <th>overdriveNo</th>\n",
       "      <th>overdriveNoSrc</th>\n",
       "      <th>bibNo</th>\n",
       "      <th>sierraControlNo</th>\n",
       "      <th>sierraControlNoSrc</th>\n",
       "      <th>sierraFormat_int</th>\n",
       "      <th>sierra_status</th>\n",
       "    </tr>\n",
       "  </thead>\n",
       "  <tbody>\n",
       "    <tr>\n",
       "      <th>0</th>\n",
       "      <td>27C3C666-343B-442B-A81C-2068E6D1A664</td>\n",
       "      <td>037</td>\n",
       "      <td>b112402306</td>\n",
       "      <td>ocm54908102</td>\n",
       "      <td>OCoLC</td>\n",
       "      <td>x</td>\n",
       "      <td>-</td>\n",
       "    </tr>\n",
       "    <tr>\n",
       "      <th>1</th>\n",
       "      <td>C1AC2A72-58D4-4611-9F80-00CFE226CF2C</td>\n",
       "      <td>037</td>\n",
       "      <td>b112402318</td>\n",
       "      <td>ocm55680353</td>\n",
       "      <td>OCoLC</td>\n",
       "      <td>x</td>\n",
       "      <td>-</td>\n",
       "    </tr>\n",
       "    <tr>\n",
       "      <th>2</th>\n",
       "      <td>8CD53ED9-CEBD-4F78-8BEF-20A58F6F3857</td>\n",
       "      <td>037</td>\n",
       "      <td>b11240232x</td>\n",
       "      <td>ocm56833247</td>\n",
       "      <td>OCoLC</td>\n",
       "      <td>x</td>\n",
       "      <td>-</td>\n",
       "    </tr>\n",
       "    <tr>\n",
       "      <th>3</th>\n",
       "      <td>CAC65044-3B9C-4B12-B80B-00D9A09ABAB8</td>\n",
       "      <td>037</td>\n",
       "      <td>b112402331</td>\n",
       "      <td>ocm57443259</td>\n",
       "      <td>OCoLC</td>\n",
       "      <td>x</td>\n",
       "      <td>-</td>\n",
       "    </tr>\n",
       "    <tr>\n",
       "      <th>4</th>\n",
       "      <td>3D783A28-2DA9-4798-A3C2-1F65D2208F38</td>\n",
       "      <td>037</td>\n",
       "      <td>b112402343</td>\n",
       "      <td>ocm60397130</td>\n",
       "      <td>OCoLC</td>\n",
       "      <td>x</td>\n",
       "      <td>-</td>\n",
       "    </tr>\n",
       "  </tbody>\n",
       "</table>\n",
       "</div>"
      ],
      "text/plain": [
       "                            overdriveNo overdriveNoSrc       bibNo  \\\n",
       "0  27C3C666-343B-442B-A81C-2068E6D1A664            037  b112402306   \n",
       "1  C1AC2A72-58D4-4611-9F80-00CFE226CF2C            037  b112402318   \n",
       "2  8CD53ED9-CEBD-4F78-8BEF-20A58F6F3857            037  b11240232x   \n",
       "3  CAC65044-3B9C-4B12-B80B-00D9A09ABAB8            037  b112402331   \n",
       "4  3D783A28-2DA9-4798-A3C2-1F65D2208F38            037  b112402343   \n",
       "\n",
       "  sierraControlNo sierraControlNoSrc sierraFormat_int sierra_status  \n",
       "0     ocm54908102              OCoLC                x             -  \n",
       "1     ocm55680353              OCoLC                x             -  \n",
       "2     ocm56833247              OCoLC                x             -  \n",
       "3     ocm57443259              OCoLC                x             -  \n",
       "4     ocm60397130              OCoLC                x             -  "
      ]
     },
     "execution_count": 40,
     "metadata": {},
     "output_type": "execute_result"
    }
   ],
   "source": [
    "sdf_raw.head()"
   ]
  },
  {
   "cell_type": "code",
   "execution_count": 41,
   "metadata": {},
   "outputs": [
    {
     "data": {
      "text/plain": [
       "x    161347\n",
       "z     41264\n",
       "v       935\n",
       "s        45\n",
       "Name: sierraFormat_int, dtype: int64"
      ]
     },
     "execution_count": 41,
     "metadata": {},
     "output_type": "execute_result"
    }
   ],
   "source": [
    "sdf_raw[\"sierraFormat_int\"].value_counts()"
   ]
  },
  {
   "cell_type": "code",
   "execution_count": 42,
   "metadata": {},
   "outputs": [],
   "source": [
    "# sierra fomat \"s\"?\n",
    "sdf_s_format = sdf_raw[sdf_raw[\"sierraFormat_int\"] == \"s\"]"
   ]
  },
  {
   "cell_type": "code",
   "execution_count": 43,
   "metadata": {},
   "outputs": [
    {
     "data": {
      "text/html": [
       "<div>\n",
       "<style scoped>\n",
       "    .dataframe tbody tr th:only-of-type {\n",
       "        vertical-align: middle;\n",
       "    }\n",
       "\n",
       "    .dataframe tbody tr th {\n",
       "        vertical-align: top;\n",
       "    }\n",
       "\n",
       "    .dataframe thead th {\n",
       "        text-align: right;\n",
       "    }\n",
       "</style>\n",
       "<table border=\"1\" class=\"dataframe\">\n",
       "  <thead>\n",
       "    <tr style=\"text-align: right;\">\n",
       "      <th></th>\n",
       "      <th>overdriveNo</th>\n",
       "      <th>overdriveNoSrc</th>\n",
       "      <th>bibNo</th>\n",
       "      <th>sierraControlNo</th>\n",
       "      <th>sierraControlNoSrc</th>\n",
       "      <th>sierraFormat_int</th>\n",
       "      <th>sierra_status</th>\n",
       "    </tr>\n",
       "  </thead>\n",
       "  <tbody>\n",
       "    <tr>\n",
       "      <th>713</th>\n",
       "      <td>15B32E52-357A-4D74-A43E-18C673B0B0FC</td>\n",
       "      <td>url</td>\n",
       "      <td>b112467854</td>\n",
       "      <td>ocm57507474</td>\n",
       "      <td>OCoLC</td>\n",
       "      <td>s</td>\n",
       "      <td>-</td>\n",
       "    </tr>\n",
       "    <tr>\n",
       "      <th>714</th>\n",
       "      <td>EBC278AA-D4EA-45FB-8B3B-DFDF2122ADA0</td>\n",
       "      <td>url</td>\n",
       "      <td>b112467866</td>\n",
       "      <td>ocm57507588</td>\n",
       "      <td>OCoLC</td>\n",
       "      <td>s</td>\n",
       "      <td>-</td>\n",
       "    </tr>\n",
       "    <tr>\n",
       "      <th>715</th>\n",
       "      <td>35AC0D13-E37C-47E0-8DC9-DEEFC69D10DF</td>\n",
       "      <td>url</td>\n",
       "      <td>b112467878</td>\n",
       "      <td>ocm57507915</td>\n",
       "      <td>OCoLC</td>\n",
       "      <td>s</td>\n",
       "      <td>-</td>\n",
       "    </tr>\n",
       "    <tr>\n",
       "      <th>717</th>\n",
       "      <td>7B5DF2A5-6C03-495A-B98B-4A6B49D7BF6A</td>\n",
       "      <td>url</td>\n",
       "      <td>b112467891</td>\n",
       "      <td>ocm57508902</td>\n",
       "      <td>OCoLC</td>\n",
       "      <td>s</td>\n",
       "      <td>-</td>\n",
       "    </tr>\n",
       "    <tr>\n",
       "      <th>718</th>\n",
       "      <td>679C31DB-8F49-4A59-B697-C0CE35CDD490</td>\n",
       "      <td>url</td>\n",
       "      <td>b112467908</td>\n",
       "      <td>ocm57509118</td>\n",
       "      <td>OCoLC</td>\n",
       "      <td>s</td>\n",
       "      <td>-</td>\n",
       "    </tr>\n",
       "  </tbody>\n",
       "</table>\n",
       "</div>"
      ],
      "text/plain": [
       "                              overdriveNo overdriveNoSrc       bibNo  \\\n",
       "713  15B32E52-357A-4D74-A43E-18C673B0B0FC            url  b112467854   \n",
       "714  EBC278AA-D4EA-45FB-8B3B-DFDF2122ADA0            url  b112467866   \n",
       "715  35AC0D13-E37C-47E0-8DC9-DEEFC69D10DF            url  b112467878   \n",
       "717  7B5DF2A5-6C03-495A-B98B-4A6B49D7BF6A            url  b112467891   \n",
       "718  679C31DB-8F49-4A59-B697-C0CE35CDD490            url  b112467908   \n",
       "\n",
       "    sierraControlNo sierraControlNoSrc sierraFormat_int sierra_status  \n",
       "713     ocm57507474              OCoLC                s             -  \n",
       "714     ocm57507588              OCoLC                s             -  \n",
       "715     ocm57507915              OCoLC                s             -  \n",
       "717     ocm57508902              OCoLC                s             -  \n",
       "718     ocm57509118              OCoLC                s             -  "
      ]
     },
     "execution_count": 43,
     "metadata": {},
     "output_type": "execute_result"
    }
   ],
   "source": [
    "sdf_s_format.head()"
   ]
  },
  {
   "cell_type": "markdown",
   "metadata": {},
   "source": [
    "#### Sierra bibs missing proper Overdrive ID"
   ]
  },
  {
   "cell_type": "code",
   "execution_count": 69,
   "metadata": {},
   "outputs": [],
   "source": [
    "sdf_no_overdriveNo = sdf_raw[(sdf_raw[\"overdriveNo\"].isnull())]"
   ]
  },
  {
   "cell_type": "code",
   "execution_count": 71,
   "metadata": {},
   "outputs": [
    {
     "data": {
      "text/plain": [
       "(52, 7)"
      ]
     },
     "execution_count": 71,
     "metadata": {},
     "output_type": "execute_result"
    }
   ],
   "source": [
    "sdf_no_overdriveNo.shape"
   ]
  },
  {
   "cell_type": "code",
   "execution_count": 74,
   "metadata": {},
   "outputs": [],
   "source": [
    "sdf_invalid_overdriveNo = sdf_raw[(sdf_raw[\"overdriveNo\"].isnull())|(sdf_raw[\"overdriveNo\"].str.match(\"(?!.*-.*-.*.*)\"))]"
   ]
  },
  {
   "cell_type": "code",
   "execution_count": 75,
   "metadata": {},
   "outputs": [
    {
     "data": {
      "text/plain": [
       "(63, 7)"
      ]
     },
     "execution_count": 75,
     "metadata": {},
     "output_type": "execute_result"
    }
   ],
   "source": [
    "sdf_invalid_overdriveNo.shape"
   ]
  },
  {
   "cell_type": "code",
   "execution_count": 77,
   "metadata": {},
   "outputs": [],
   "source": [
    "sdf_invalid_overdriveNo.to_csv(\"./reports/BPL/sierra-invalid-overdriveNo.csv\", index=False)"
   ]
  },
  {
   "cell_type": "markdown",
   "metadata": {},
   "source": [
    "## Inner join between Sierra and bulk MarcExpress - records already in the catalog"
   ]
  },
  {
   "cell_type": "code",
   "execution_count": 44,
   "metadata": {},
   "outputs": [],
   "source": [
    "# this looks like legitimate bibs that are marked differently in Sierra than on Overload platform"
   ]
  },
  {
   "cell_type": "code",
   "execution_count": 45,
   "metadata": {},
   "outputs": [],
   "source": [
    "df_available = pd.merge(odf_raw, sdf_raw, on=\"overdriveNo\", how=\"inner\")"
   ]
  },
  {
   "cell_type": "code",
   "execution_count": 46,
   "metadata": {},
   "outputs": [
    {
     "data": {
      "text/html": [
       "<div>\n",
       "<style scoped>\n",
       "    .dataframe tbody tr th:only-of-type {\n",
       "        vertical-align: middle;\n",
       "    }\n",
       "\n",
       "    .dataframe tbody tr th {\n",
       "        vertical-align: top;\n",
       "    }\n",
       "\n",
       "    .dataframe thead th {\n",
       "        text-align: right;\n",
       "    }\n",
       "</style>\n",
       "<table border=\"1\" class=\"dataframe\">\n",
       "  <thead>\n",
       "    <tr style=\"text-align: right;\">\n",
       "      <th></th>\n",
       "      <th>overdriveNo</th>\n",
       "      <th>overdriveControlNo</th>\n",
       "      <th>sierraFormat_ext</th>\n",
       "      <th>overdriveNoSrc</th>\n",
       "      <th>bibNo</th>\n",
       "      <th>sierraControlNo</th>\n",
       "      <th>sierraControlNoSrc</th>\n",
       "      <th>sierraFormat_int</th>\n",
       "      <th>sierra_status</th>\n",
       "    </tr>\n",
       "  </thead>\n",
       "  <tbody>\n",
       "    <tr>\n",
       "      <th>0</th>\n",
       "      <td>0E90D7A5-30B8-4D07-9D13-DF0E02EA631E</td>\n",
       "      <td>ODN0000082587</td>\n",
       "      <td>z</td>\n",
       "      <td>url</td>\n",
       "      <td>b113910861</td>\n",
       "      <td>ocm63791051</td>\n",
       "      <td>OCoLC</td>\n",
       "      <td>z</td>\n",
       "      <td>-</td>\n",
       "    </tr>\n",
       "    <tr>\n",
       "      <th>1</th>\n",
       "      <td>C449DE3C-A683-412A-8997-F0551A5DC576</td>\n",
       "      <td>ODN0000082663</td>\n",
       "      <td>z</td>\n",
       "      <td>037</td>\n",
       "      <td>b122634597</td>\n",
       "      <td>ocm63680586</td>\n",
       "      <td>NaN</td>\n",
       "      <td>z</td>\n",
       "      <td>-</td>\n",
       "    </tr>\n",
       "    <tr>\n",
       "      <th>2</th>\n",
       "      <td>765A1B6A-E978-4777-8DD1-9647D611A58B</td>\n",
       "      <td>ODN0000082589</td>\n",
       "      <td>z</td>\n",
       "      <td>url</td>\n",
       "      <td>b113851571</td>\n",
       "      <td>ocm63791673</td>\n",
       "      <td>OCoLC</td>\n",
       "      <td>z</td>\n",
       "      <td>-</td>\n",
       "    </tr>\n",
       "    <tr>\n",
       "      <th>3</th>\n",
       "      <td>0957DA4E-DD2F-469E-BDFF-B9B1A9422C21</td>\n",
       "      <td>ODN0000082590</td>\n",
       "      <td>z</td>\n",
       "      <td>037</td>\n",
       "      <td>b113026158</td>\n",
       "      <td>ocm66900955</td>\n",
       "      <td>OCoLC</td>\n",
       "      <td>z</td>\n",
       "      <td>-</td>\n",
       "    </tr>\n",
       "    <tr>\n",
       "      <th>4</th>\n",
       "      <td>E572EC2C-09F7-462D-8153-7C8A7493586F</td>\n",
       "      <td>ODN0000082591</td>\n",
       "      <td>z</td>\n",
       "      <td>037</td>\n",
       "      <td>b11302616x</td>\n",
       "      <td>ocm66900982</td>\n",
       "      <td>OCoLC</td>\n",
       "      <td>z</td>\n",
       "      <td>-</td>\n",
       "    </tr>\n",
       "  </tbody>\n",
       "</table>\n",
       "</div>"
      ],
      "text/plain": [
       "                            overdriveNo overdriveControlNo sierraFormat_ext  \\\n",
       "0  0E90D7A5-30B8-4D07-9D13-DF0E02EA631E      ODN0000082587                z   \n",
       "1  C449DE3C-A683-412A-8997-F0551A5DC576      ODN0000082663                z   \n",
       "2  765A1B6A-E978-4777-8DD1-9647D611A58B      ODN0000082589                z   \n",
       "3  0957DA4E-DD2F-469E-BDFF-B9B1A9422C21      ODN0000082590                z   \n",
       "4  E572EC2C-09F7-462D-8153-7C8A7493586F      ODN0000082591                z   \n",
       "\n",
       "  overdriveNoSrc       bibNo sierraControlNo sierraControlNoSrc  \\\n",
       "0            url  b113910861     ocm63791051              OCoLC   \n",
       "1            037  b122634597     ocm63680586                NaN   \n",
       "2            url  b113851571     ocm63791673              OCoLC   \n",
       "3            037  b113026158     ocm66900955              OCoLC   \n",
       "4            037  b11302616x     ocm66900982              OCoLC   \n",
       "\n",
       "  sierraFormat_int sierra_status  \n",
       "0                z             -  \n",
       "1                z             -  \n",
       "2                z             -  \n",
       "3                z             -  \n",
       "4                z             -  "
      ]
     },
     "execution_count": 46,
     "metadata": {},
     "output_type": "execute_result"
    }
   ],
   "source": [
    "df_available.head()"
   ]
  },
  {
   "cell_type": "code",
   "execution_count": 47,
   "metadata": {},
   "outputs": [
    {
     "data": {
      "text/plain": [
       "(189051, 9)"
      ]
     },
     "execution_count": 47,
     "metadata": {},
     "output_type": "execute_result"
    }
   ],
   "source": [
    "df_available.shape"
   ]
  },
  {
   "cell_type": "markdown",
   "metadata": {},
   "source": [
    "#### Suppressed/marked for deletion bibs in Sierra to be reinstated"
   ]
  },
  {
   "cell_type": "code",
   "execution_count": 48,
   "metadata": {},
   "outputs": [
    {
     "data": {
      "text/plain": [
       "-    188902\n",
       "n       127\n",
       "d        22\n",
       "Name: sierra_status, dtype: int64"
      ]
     },
     "execution_count": 48,
     "metadata": {},
     "output_type": "execute_result"
    }
   ],
   "source": [
    "# find records that are in the catalog, users have access to, but are suppressed\n",
    "df_available[\"sierra_status\"].value_counts()"
   ]
  },
  {
   "cell_type": "code",
   "execution_count": 49,
   "metadata": {},
   "outputs": [],
   "source": [
    "df_reinstate_access = df_available[(df_available[\"sierra_status\"]==\"n\")|(df_available[\"sierra_status\"]==\"d\")]"
   ]
  },
  {
   "cell_type": "code",
   "execution_count": 50,
   "metadata": {},
   "outputs": [
    {
     "data": {
      "text/plain": [
       "(149, 9)"
      ]
     },
     "execution_count": 50,
     "metadata": {},
     "output_type": "execute_result"
    }
   ],
   "source": [
    "df_reinstate_access.shape"
   ]
  },
  {
   "cell_type": "code",
   "execution_count": 51,
   "metadata": {},
   "outputs": [
    {
     "data": {
      "text/html": [
       "<div>\n",
       "<style scoped>\n",
       "    .dataframe tbody tr th:only-of-type {\n",
       "        vertical-align: middle;\n",
       "    }\n",
       "\n",
       "    .dataframe tbody tr th {\n",
       "        vertical-align: top;\n",
       "    }\n",
       "\n",
       "    .dataframe thead th {\n",
       "        text-align: right;\n",
       "    }\n",
       "</style>\n",
       "<table border=\"1\" class=\"dataframe\">\n",
       "  <thead>\n",
       "    <tr style=\"text-align: right;\">\n",
       "      <th></th>\n",
       "      <th>overdriveNo</th>\n",
       "      <th>overdriveControlNo</th>\n",
       "      <th>sierraFormat_ext</th>\n",
       "      <th>overdriveNoSrc</th>\n",
       "      <th>bibNo</th>\n",
       "      <th>sierraControlNo</th>\n",
       "      <th>sierraControlNoSrc</th>\n",
       "      <th>sierraFormat_int</th>\n",
       "      <th>sierra_status</th>\n",
       "    </tr>\n",
       "  </thead>\n",
       "  <tbody>\n",
       "    <tr>\n",
       "      <th>1660</th>\n",
       "      <td>31C31E3A-EE4F-499F-98F8-5987FBD715D1</td>\n",
       "      <td>ODN0003566156</td>\n",
       "      <td>z</td>\n",
       "      <td>037</td>\n",
       "      <td>b121446918</td>\n",
       "      <td>on1042160321</td>\n",
       "      <td>NaN</td>\n",
       "      <td>z</td>\n",
       "      <td>n</td>\n",
       "    </tr>\n",
       "    <tr>\n",
       "      <th>3519</th>\n",
       "      <td>4D21F8F0-100A-4C25-941D-B5D480091625</td>\n",
       "      <td>ODN0003566139</td>\n",
       "      <td>z</td>\n",
       "      <td>037</td>\n",
       "      <td>b121390846</td>\n",
       "      <td>on1033674500</td>\n",
       "      <td>NaN</td>\n",
       "      <td>z</td>\n",
       "      <td>n</td>\n",
       "    </tr>\n",
       "    <tr>\n",
       "      <th>6696</th>\n",
       "      <td>1C0B9DC4-653A-49F7-9187-2176F6BA859D</td>\n",
       "      <td>ODN0000060795</td>\n",
       "      <td>z</td>\n",
       "      <td>url</td>\n",
       "      <td>b112467064</td>\n",
       "      <td>ocm57398773</td>\n",
       "      <td>OCoLC</td>\n",
       "      <td>z</td>\n",
       "      <td>n</td>\n",
       "    </tr>\n",
       "    <tr>\n",
       "      <th>7209</th>\n",
       "      <td>A2D8D0EA-38D5-434E-994C-036393218ACD</td>\n",
       "      <td>ODN0000155769</td>\n",
       "      <td>z</td>\n",
       "      <td>037</td>\n",
       "      <td>b118440718</td>\n",
       "      <td>ocn455436062</td>\n",
       "      <td>OCoLC</td>\n",
       "      <td>z</td>\n",
       "      <td>d</td>\n",
       "    </tr>\n",
       "    <tr>\n",
       "      <th>8826</th>\n",
       "      <td>6F245F1F-05C7-4C5C-84C1-A57DE8E92A38</td>\n",
       "      <td>ODN0000063301</td>\n",
       "      <td>z</td>\n",
       "      <td>037</td>\n",
       "      <td>b117856587</td>\n",
       "      <td>ocm59755950</td>\n",
       "      <td>OCoLC</td>\n",
       "      <td>z</td>\n",
       "      <td>n</td>\n",
       "    </tr>\n",
       "  </tbody>\n",
       "</table>\n",
       "</div>"
      ],
      "text/plain": [
       "                               overdriveNo overdriveControlNo  \\\n",
       "1660  31C31E3A-EE4F-499F-98F8-5987FBD715D1      ODN0003566156   \n",
       "3519  4D21F8F0-100A-4C25-941D-B5D480091625      ODN0003566139   \n",
       "6696  1C0B9DC4-653A-49F7-9187-2176F6BA859D      ODN0000060795   \n",
       "7209  A2D8D0EA-38D5-434E-994C-036393218ACD      ODN0000155769   \n",
       "8826  6F245F1F-05C7-4C5C-84C1-A57DE8E92A38      ODN0000063301   \n",
       "\n",
       "     sierraFormat_ext overdriveNoSrc       bibNo sierraControlNo  \\\n",
       "1660                z            037  b121446918    on1042160321   \n",
       "3519                z            037  b121390846    on1033674500   \n",
       "6696                z            url  b112467064     ocm57398773   \n",
       "7209                z            037  b118440718    ocn455436062   \n",
       "8826                z            037  b117856587     ocm59755950   \n",
       "\n",
       "     sierraControlNoSrc sierraFormat_int sierra_status  \n",
       "1660                NaN                z             n  \n",
       "3519                NaN                z             n  \n",
       "6696              OCoLC                z             n  \n",
       "7209              OCoLC                z             d  \n",
       "8826              OCoLC                z             n  "
      ]
     },
     "execution_count": 51,
     "metadata": {},
     "output_type": "execute_result"
    }
   ],
   "source": [
    "df_reinstate_access.head()"
   ]
  },
  {
   "cell_type": "code",
   "execution_count": 52,
   "metadata": {},
   "outputs": [],
   "source": [
    "df_reinstate_access.to_csv(\"./reports/BPL/reinstate_access-alldata.csv\", index=False)"
   ]
  },
  {
   "cell_type": "code",
   "execution_count": 53,
   "metadata": {},
   "outputs": [],
   "source": [
    "df_reinstate_access[\"bibNo\"].to_csv(\"./reports/BPL/reinstate_access-bibNos\", index=False)"
   ]
  },
  {
   "cell_type": "markdown",
   "metadata": {},
   "source": [
    "## Missing from Sierra bibs / Sierra and MarcExpress right anti join"
   ]
  },
  {
   "cell_type": "code",
   "execution_count": 56,
   "metadata": {},
   "outputs": [],
   "source": [
    "df_right_join = pd.merge(sdf_raw, odf_raw, how=\"outer\", on=\"overdriveNo\", left_index=True, indicator=True)"
   ]
  },
  {
   "cell_type": "code",
   "execution_count": 57,
   "metadata": {},
   "outputs": [
    {
     "data": {
      "text/html": [
       "<div>\n",
       "<style scoped>\n",
       "    .dataframe tbody tr th:only-of-type {\n",
       "        vertical-align: middle;\n",
       "    }\n",
       "\n",
       "    .dataframe tbody tr th {\n",
       "        vertical-align: top;\n",
       "    }\n",
       "\n",
       "    .dataframe thead th {\n",
       "        text-align: right;\n",
       "    }\n",
       "</style>\n",
       "<table border=\"1\" class=\"dataframe\">\n",
       "  <thead>\n",
       "    <tr style=\"text-align: right;\">\n",
       "      <th></th>\n",
       "      <th>overdriveNo</th>\n",
       "      <th>overdriveNoSrc</th>\n",
       "      <th>bibNo</th>\n",
       "      <th>sierraControlNo</th>\n",
       "      <th>sierraControlNoSrc</th>\n",
       "      <th>sierraFormat_int</th>\n",
       "      <th>sierra_status</th>\n",
       "      <th>overdriveControlNo</th>\n",
       "      <th>sierraFormat_ext</th>\n",
       "      <th>_merge</th>\n",
       "    </tr>\n",
       "  </thead>\n",
       "  <tbody>\n",
       "    <tr>\n",
       "      <th>54022.0</th>\n",
       "      <td>27C3C666-343B-442B-A81C-2068E6D1A664</td>\n",
       "      <td>037</td>\n",
       "      <td>b112402306</td>\n",
       "      <td>ocm54908102</td>\n",
       "      <td>OCoLC</td>\n",
       "      <td>x</td>\n",
       "      <td>-</td>\n",
       "      <td>ODN0000052705</td>\n",
       "      <td>x</td>\n",
       "      <td>both</td>\n",
       "    </tr>\n",
       "    <tr>\n",
       "      <th>108202.0</th>\n",
       "      <td>C1AC2A72-58D4-4611-9F80-00CFE226CF2C</td>\n",
       "      <td>037</td>\n",
       "      <td>b112402318</td>\n",
       "      <td>ocm55680353</td>\n",
       "      <td>OCoLC</td>\n",
       "      <td>x</td>\n",
       "      <td>-</td>\n",
       "      <td>ODN0000055232</td>\n",
       "      <td>x</td>\n",
       "      <td>both</td>\n",
       "    </tr>\n",
       "    <tr>\n",
       "      <th>176453.0</th>\n",
       "      <td>8CD53ED9-CEBD-4F78-8BEF-20A58F6F3857</td>\n",
       "      <td>037</td>\n",
       "      <td>b11240232x</td>\n",
       "      <td>ocm56833247</td>\n",
       "      <td>OCoLC</td>\n",
       "      <td>x</td>\n",
       "      <td>-</td>\n",
       "      <td>ODN0000060618</td>\n",
       "      <td>x</td>\n",
       "      <td>both</td>\n",
       "    </tr>\n",
       "    <tr>\n",
       "      <th>102534.0</th>\n",
       "      <td>CAC65044-3B9C-4B12-B80B-00D9A09ABAB8</td>\n",
       "      <td>037</td>\n",
       "      <td>b112402331</td>\n",
       "      <td>ocm57443259</td>\n",
       "      <td>OCoLC</td>\n",
       "      <td>x</td>\n",
       "      <td>-</td>\n",
       "      <td>ODN0000062533</td>\n",
       "      <td>x</td>\n",
       "      <td>both</td>\n",
       "    </tr>\n",
       "    <tr>\n",
       "      <th>48693.0</th>\n",
       "      <td>3D783A28-2DA9-4798-A3C2-1F65D2208F38</td>\n",
       "      <td>037</td>\n",
       "      <td>b112402343</td>\n",
       "      <td>ocm60397130</td>\n",
       "      <td>OCoLC</td>\n",
       "      <td>x</td>\n",
       "      <td>-</td>\n",
       "      <td>ODN0000069862</td>\n",
       "      <td>x</td>\n",
       "      <td>both</td>\n",
       "    </tr>\n",
       "  </tbody>\n",
       "</table>\n",
       "</div>"
      ],
      "text/plain": [
       "                                   overdriveNo overdriveNoSrc       bibNo  \\\n",
       "54022.0   27C3C666-343B-442B-A81C-2068E6D1A664            037  b112402306   \n",
       "108202.0  C1AC2A72-58D4-4611-9F80-00CFE226CF2C            037  b112402318   \n",
       "176453.0  8CD53ED9-CEBD-4F78-8BEF-20A58F6F3857            037  b11240232x   \n",
       "102534.0  CAC65044-3B9C-4B12-B80B-00D9A09ABAB8            037  b112402331   \n",
       "48693.0   3D783A28-2DA9-4798-A3C2-1F65D2208F38            037  b112402343   \n",
       "\n",
       "         sierraControlNo sierraControlNoSrc sierraFormat_int sierra_status  \\\n",
       "54022.0      ocm54908102              OCoLC                x             -   \n",
       "108202.0     ocm55680353              OCoLC                x             -   \n",
       "176453.0     ocm56833247              OCoLC                x             -   \n",
       "102534.0     ocm57443259              OCoLC                x             -   \n",
       "48693.0      ocm60397130              OCoLC                x             -   \n",
       "\n",
       "         overdriveControlNo sierraFormat_ext _merge  \n",
       "54022.0       ODN0000052705                x   both  \n",
       "108202.0      ODN0000055232                x   both  \n",
       "176453.0      ODN0000060618                x   both  \n",
       "102534.0      ODN0000062533                x   both  \n",
       "48693.0       ODN0000069862                x   both  "
      ]
     },
     "execution_count": 57,
     "metadata": {},
     "output_type": "execute_result"
    }
   ],
   "source": [
    "df_right_join.head()"
   ]
  },
  {
   "cell_type": "code",
   "execution_count": 58,
   "metadata": {},
   "outputs": [],
   "source": [
    "df_missing = df_right_join[df_right_join[\"_merge\"] == \"right_only\"]"
   ]
  },
  {
   "cell_type": "code",
   "execution_count": 59,
   "metadata": {},
   "outputs": [
    {
     "data": {
      "text/html": [
       "<div>\n",
       "<style scoped>\n",
       "    .dataframe tbody tr th:only-of-type {\n",
       "        vertical-align: middle;\n",
       "    }\n",
       "\n",
       "    .dataframe tbody tr th {\n",
       "        vertical-align: top;\n",
       "    }\n",
       "\n",
       "    .dataframe thead th {\n",
       "        text-align: right;\n",
       "    }\n",
       "</style>\n",
       "<table border=\"1\" class=\"dataframe\">\n",
       "  <thead>\n",
       "    <tr style=\"text-align: right;\">\n",
       "      <th></th>\n",
       "      <th>overdriveNo</th>\n",
       "      <th>overdriveNoSrc</th>\n",
       "      <th>bibNo</th>\n",
       "      <th>sierraControlNo</th>\n",
       "      <th>sierraControlNoSrc</th>\n",
       "      <th>sierraFormat_int</th>\n",
       "      <th>sierra_status</th>\n",
       "      <th>overdriveControlNo</th>\n",
       "      <th>sierraFormat_ext</th>\n",
       "      <th>_merge</th>\n",
       "    </tr>\n",
       "  </thead>\n",
       "  <tbody>\n",
       "    <tr>\n",
       "      <th>25.0</th>\n",
       "      <td>D4B34CBB-80AC-4B53-9CE1-7019929155BA</td>\n",
       "      <td>NaN</td>\n",
       "      <td>NaN</td>\n",
       "      <td>NaN</td>\n",
       "      <td>NaN</td>\n",
       "      <td>NaN</td>\n",
       "      <td>NaN</td>\n",
       "      <td>ODN0000637972</td>\n",
       "      <td>z</td>\n",
       "      <td>right_only</td>\n",
       "    </tr>\n",
       "    <tr>\n",
       "      <th>30.0</th>\n",
       "      <td>35B73FE2-F9D9-463D-A41E-1EBF6C85F834</td>\n",
       "      <td>NaN</td>\n",
       "      <td>NaN</td>\n",
       "      <td>NaN</td>\n",
       "      <td>NaN</td>\n",
       "      <td>NaN</td>\n",
       "      <td>NaN</td>\n",
       "      <td>ODN0000213530</td>\n",
       "      <td>z</td>\n",
       "      <td>right_only</td>\n",
       "    </tr>\n",
       "    <tr>\n",
       "      <th>33.0</th>\n",
       "      <td>A4324F25-7F12-4488-8378-BD26C1B2CD34</td>\n",
       "      <td>NaN</td>\n",
       "      <td>NaN</td>\n",
       "      <td>NaN</td>\n",
       "      <td>NaN</td>\n",
       "      <td>NaN</td>\n",
       "      <td>NaN</td>\n",
       "      <td>ODN0000644843</td>\n",
       "      <td>z</td>\n",
       "      <td>right_only</td>\n",
       "    </tr>\n",
       "    <tr>\n",
       "      <th>37.0</th>\n",
       "      <td>E236C55B-D2F5-4E7F-B832-1B6E58205DA0</td>\n",
       "      <td>NaN</td>\n",
       "      <td>NaN</td>\n",
       "      <td>NaN</td>\n",
       "      <td>NaN</td>\n",
       "      <td>NaN</td>\n",
       "      <td>NaN</td>\n",
       "      <td>ODN0000637978</td>\n",
       "      <td>z</td>\n",
       "      <td>right_only</td>\n",
       "    </tr>\n",
       "    <tr>\n",
       "      <th>63.0</th>\n",
       "      <td>722370E6-1A28-444E-B58F-A21D5AD05C8B</td>\n",
       "      <td>NaN</td>\n",
       "      <td>NaN</td>\n",
       "      <td>NaN</td>\n",
       "      <td>NaN</td>\n",
       "      <td>NaN</td>\n",
       "      <td>NaN</td>\n",
       "      <td>ODN0000644847</td>\n",
       "      <td>z</td>\n",
       "      <td>right_only</td>\n",
       "    </tr>\n",
       "  </tbody>\n",
       "</table>\n",
       "</div>"
      ],
      "text/plain": [
       "                               overdriveNo overdriveNoSrc bibNo  \\\n",
       "25.0  D4B34CBB-80AC-4B53-9CE1-7019929155BA            NaN   NaN   \n",
       "30.0  35B73FE2-F9D9-463D-A41E-1EBF6C85F834            NaN   NaN   \n",
       "33.0  A4324F25-7F12-4488-8378-BD26C1B2CD34            NaN   NaN   \n",
       "37.0  E236C55B-D2F5-4E7F-B832-1B6E58205DA0            NaN   NaN   \n",
       "63.0  722370E6-1A28-444E-B58F-A21D5AD05C8B            NaN   NaN   \n",
       "\n",
       "     sierraControlNo sierraControlNoSrc sierraFormat_int sierra_status  \\\n",
       "25.0             NaN                NaN              NaN           NaN   \n",
       "30.0             NaN                NaN              NaN           NaN   \n",
       "33.0             NaN                NaN              NaN           NaN   \n",
       "37.0             NaN                NaN              NaN           NaN   \n",
       "63.0             NaN                NaN              NaN           NaN   \n",
       "\n",
       "     overdriveControlNo sierraFormat_ext      _merge  \n",
       "25.0      ODN0000637972                z  right_only  \n",
       "30.0      ODN0000213530                z  right_only  \n",
       "33.0      ODN0000644843                z  right_only  \n",
       "37.0      ODN0000637978                z  right_only  \n",
       "63.0      ODN0000644847                z  right_only  "
      ]
     },
     "execution_count": 59,
     "metadata": {},
     "output_type": "execute_result"
    }
   ],
   "source": [
    "df_missing.head()"
   ]
  },
  {
   "cell_type": "code",
   "execution_count": 60,
   "metadata": {},
   "outputs": [
    {
     "data": {
      "text/plain": [
       "(30549, 10)"
      ]
     },
     "execution_count": 60,
     "metadata": {},
     "output_type": "execute_result"
    }
   ],
   "source": [
    "df_missing.shape"
   ]
  },
  {
   "cell_type": "code",
   "execution_count": 63,
   "metadata": {},
   "outputs": [
    {
     "data": {
      "text/plain": [
       "x    26446\n",
       "z     3017\n",
       "v     1086\n",
       "Name: sierraFormat_ext, dtype: int64"
      ]
     },
     "execution_count": 63,
     "metadata": {},
     "output_type": "execute_result"
    }
   ],
   "source": [
    "df_missing[\"sierraFormat_ext\"].value_counts()"
   ]
  },
  {
   "cell_type": "code",
   "execution_count": 64,
   "metadata": {},
   "outputs": [],
   "source": [
    "df_missing.to_csv(\"./reports/BPL/missing.csv\", index=False)"
   ]
  },
  {
   "cell_type": "code",
   "execution_count": 65,
   "metadata": {},
   "outputs": [],
   "source": [
    "df_missing[\"overdriveNo\"].to_csv(\"./reports/BPL/missing-overdriveNos.csv\", index=False)"
   ]
  },
  {
   "cell_type": "markdown",
   "metadata": {},
   "source": [
    "## Expired e-content in Sierra / no access / left anti join"
   ]
  },
  {
   "cell_type": "code",
   "execution_count": 78,
   "metadata": {},
   "outputs": [],
   "source": [
    "# do not include bibs without proper overdrive #"
   ]
  },
  {
   "cell_type": "code",
   "execution_count": 81,
   "metadata": {},
   "outputs": [],
   "source": [
    "sdf_with_overdriveNo = sdf_raw[(sdf_raw[\"overdriveNo\"].notnull())|(sdf_raw[\"overdriveNo\"].str.match(\"(.*-.*-.*-.*)\"))]"
   ]
  },
  {
   "cell_type": "code",
   "execution_count": 82,
   "metadata": {},
   "outputs": [
    {
     "data": {
      "text/plain": [
       "(203539, 7)"
      ]
     },
     "execution_count": 82,
     "metadata": {},
     "output_type": "execute_result"
    }
   ],
   "source": [
    "sdf_with_overdriveNo.shape"
   ]
  },
  {
   "cell_type": "code",
   "execution_count": 83,
   "metadata": {},
   "outputs": [
    {
     "data": {
      "text/html": [
       "<div>\n",
       "<style scoped>\n",
       "    .dataframe tbody tr th:only-of-type {\n",
       "        vertical-align: middle;\n",
       "    }\n",
       "\n",
       "    .dataframe tbody tr th {\n",
       "        vertical-align: top;\n",
       "    }\n",
       "\n",
       "    .dataframe thead th {\n",
       "        text-align: right;\n",
       "    }\n",
       "</style>\n",
       "<table border=\"1\" class=\"dataframe\">\n",
       "  <thead>\n",
       "    <tr style=\"text-align: right;\">\n",
       "      <th></th>\n",
       "      <th>overdriveNo</th>\n",
       "      <th>overdriveNoSrc</th>\n",
       "      <th>bibNo</th>\n",
       "      <th>sierraControlNo</th>\n",
       "      <th>sierraControlNoSrc</th>\n",
       "      <th>sierraFormat_int</th>\n",
       "      <th>sierra_status</th>\n",
       "    </tr>\n",
       "  </thead>\n",
       "  <tbody>\n",
       "    <tr>\n",
       "      <th>0</th>\n",
       "      <td>27C3C666-343B-442B-A81C-2068E6D1A664</td>\n",
       "      <td>037</td>\n",
       "      <td>b112402306</td>\n",
       "      <td>ocm54908102</td>\n",
       "      <td>OCoLC</td>\n",
       "      <td>x</td>\n",
       "      <td>-</td>\n",
       "    </tr>\n",
       "    <tr>\n",
       "      <th>1</th>\n",
       "      <td>C1AC2A72-58D4-4611-9F80-00CFE226CF2C</td>\n",
       "      <td>037</td>\n",
       "      <td>b112402318</td>\n",
       "      <td>ocm55680353</td>\n",
       "      <td>OCoLC</td>\n",
       "      <td>x</td>\n",
       "      <td>-</td>\n",
       "    </tr>\n",
       "    <tr>\n",
       "      <th>2</th>\n",
       "      <td>8CD53ED9-CEBD-4F78-8BEF-20A58F6F3857</td>\n",
       "      <td>037</td>\n",
       "      <td>b11240232x</td>\n",
       "      <td>ocm56833247</td>\n",
       "      <td>OCoLC</td>\n",
       "      <td>x</td>\n",
       "      <td>-</td>\n",
       "    </tr>\n",
       "    <tr>\n",
       "      <th>3</th>\n",
       "      <td>CAC65044-3B9C-4B12-B80B-00D9A09ABAB8</td>\n",
       "      <td>037</td>\n",
       "      <td>b112402331</td>\n",
       "      <td>ocm57443259</td>\n",
       "      <td>OCoLC</td>\n",
       "      <td>x</td>\n",
       "      <td>-</td>\n",
       "    </tr>\n",
       "    <tr>\n",
       "      <th>4</th>\n",
       "      <td>3D783A28-2DA9-4798-A3C2-1F65D2208F38</td>\n",
       "      <td>037</td>\n",
       "      <td>b112402343</td>\n",
       "      <td>ocm60397130</td>\n",
       "      <td>OCoLC</td>\n",
       "      <td>x</td>\n",
       "      <td>-</td>\n",
       "    </tr>\n",
       "  </tbody>\n",
       "</table>\n",
       "</div>"
      ],
      "text/plain": [
       "                            overdriveNo overdriveNoSrc       bibNo  \\\n",
       "0  27C3C666-343B-442B-A81C-2068E6D1A664            037  b112402306   \n",
       "1  C1AC2A72-58D4-4611-9F80-00CFE226CF2C            037  b112402318   \n",
       "2  8CD53ED9-CEBD-4F78-8BEF-20A58F6F3857            037  b11240232x   \n",
       "3  CAC65044-3B9C-4B12-B80B-00D9A09ABAB8            037  b112402331   \n",
       "4  3D783A28-2DA9-4798-A3C2-1F65D2208F38            037  b112402343   \n",
       "\n",
       "  sierraControlNo sierraControlNoSrc sierraFormat_int sierra_status  \n",
       "0     ocm54908102              OCoLC                x             -  \n",
       "1     ocm55680353              OCoLC                x             -  \n",
       "2     ocm56833247              OCoLC                x             -  \n",
       "3     ocm57443259              OCoLC                x             -  \n",
       "4     ocm60397130              OCoLC                x             -  "
      ]
     },
     "execution_count": 83,
     "metadata": {},
     "output_type": "execute_result"
    }
   ],
   "source": [
    "sdf_with_overdriveNo.head()"
   ]
  },
  {
   "cell_type": "code",
   "execution_count": 86,
   "metadata": {},
   "outputs": [],
   "source": [
    "df_left_join = pd.merge(sdf_with_overdriveNo, odf_raw, how=\"outer\", on=\"overdriveNo\", indicator=True)"
   ]
  },
  {
   "cell_type": "code",
   "execution_count": 87,
   "metadata": {},
   "outputs": [
    {
     "data": {
      "text/html": [
       "<div>\n",
       "<style scoped>\n",
       "    .dataframe tbody tr th:only-of-type {\n",
       "        vertical-align: middle;\n",
       "    }\n",
       "\n",
       "    .dataframe tbody tr th {\n",
       "        vertical-align: top;\n",
       "    }\n",
       "\n",
       "    .dataframe thead th {\n",
       "        text-align: right;\n",
       "    }\n",
       "</style>\n",
       "<table border=\"1\" class=\"dataframe\">\n",
       "  <thead>\n",
       "    <tr style=\"text-align: right;\">\n",
       "      <th></th>\n",
       "      <th>overdriveNo</th>\n",
       "      <th>overdriveNoSrc</th>\n",
       "      <th>bibNo</th>\n",
       "      <th>sierraControlNo</th>\n",
       "      <th>sierraControlNoSrc</th>\n",
       "      <th>sierraFormat_int</th>\n",
       "      <th>sierra_status</th>\n",
       "      <th>overdriveControlNo</th>\n",
       "      <th>sierraFormat_ext</th>\n",
       "      <th>_merge</th>\n",
       "    </tr>\n",
       "  </thead>\n",
       "  <tbody>\n",
       "    <tr>\n",
       "      <th>0</th>\n",
       "      <td>27C3C666-343B-442B-A81C-2068E6D1A664</td>\n",
       "      <td>037</td>\n",
       "      <td>b112402306</td>\n",
       "      <td>ocm54908102</td>\n",
       "      <td>OCoLC</td>\n",
       "      <td>x</td>\n",
       "      <td>-</td>\n",
       "      <td>ODN0000052705</td>\n",
       "      <td>x</td>\n",
       "      <td>both</td>\n",
       "    </tr>\n",
       "    <tr>\n",
       "      <th>1</th>\n",
       "      <td>C1AC2A72-58D4-4611-9F80-00CFE226CF2C</td>\n",
       "      <td>037</td>\n",
       "      <td>b112402318</td>\n",
       "      <td>ocm55680353</td>\n",
       "      <td>OCoLC</td>\n",
       "      <td>x</td>\n",
       "      <td>-</td>\n",
       "      <td>ODN0000055232</td>\n",
       "      <td>x</td>\n",
       "      <td>both</td>\n",
       "    </tr>\n",
       "    <tr>\n",
       "      <th>2</th>\n",
       "      <td>8CD53ED9-CEBD-4F78-8BEF-20A58F6F3857</td>\n",
       "      <td>037</td>\n",
       "      <td>b11240232x</td>\n",
       "      <td>ocm56833247</td>\n",
       "      <td>OCoLC</td>\n",
       "      <td>x</td>\n",
       "      <td>-</td>\n",
       "      <td>ODN0000060618</td>\n",
       "      <td>x</td>\n",
       "      <td>both</td>\n",
       "    </tr>\n",
       "    <tr>\n",
       "      <th>3</th>\n",
       "      <td>CAC65044-3B9C-4B12-B80B-00D9A09ABAB8</td>\n",
       "      <td>037</td>\n",
       "      <td>b112402331</td>\n",
       "      <td>ocm57443259</td>\n",
       "      <td>OCoLC</td>\n",
       "      <td>x</td>\n",
       "      <td>-</td>\n",
       "      <td>ODN0000062533</td>\n",
       "      <td>x</td>\n",
       "      <td>both</td>\n",
       "    </tr>\n",
       "    <tr>\n",
       "      <th>4</th>\n",
       "      <td>3D783A28-2DA9-4798-A3C2-1F65D2208F38</td>\n",
       "      <td>037</td>\n",
       "      <td>b112402343</td>\n",
       "      <td>ocm60397130</td>\n",
       "      <td>OCoLC</td>\n",
       "      <td>x</td>\n",
       "      <td>-</td>\n",
       "      <td>ODN0000069862</td>\n",
       "      <td>x</td>\n",
       "      <td>both</td>\n",
       "    </tr>\n",
       "  </tbody>\n",
       "</table>\n",
       "</div>"
      ],
      "text/plain": [
       "                            overdriveNo overdriveNoSrc       bibNo  \\\n",
       "0  27C3C666-343B-442B-A81C-2068E6D1A664            037  b112402306   \n",
       "1  C1AC2A72-58D4-4611-9F80-00CFE226CF2C            037  b112402318   \n",
       "2  8CD53ED9-CEBD-4F78-8BEF-20A58F6F3857            037  b11240232x   \n",
       "3  CAC65044-3B9C-4B12-B80B-00D9A09ABAB8            037  b112402331   \n",
       "4  3D783A28-2DA9-4798-A3C2-1F65D2208F38            037  b112402343   \n",
       "\n",
       "  sierraControlNo sierraControlNoSrc sierraFormat_int sierra_status  \\\n",
       "0     ocm54908102              OCoLC                x             -   \n",
       "1     ocm55680353              OCoLC                x             -   \n",
       "2     ocm56833247              OCoLC                x             -   \n",
       "3     ocm57443259              OCoLC                x             -   \n",
       "4     ocm60397130              OCoLC                x             -   \n",
       "\n",
       "  overdriveControlNo sierraFormat_ext _merge  \n",
       "0      ODN0000052705                x   both  \n",
       "1      ODN0000055232                x   both  \n",
       "2      ODN0000060618                x   both  \n",
       "3      ODN0000062533                x   both  \n",
       "4      ODN0000069862                x   both  "
      ]
     },
     "execution_count": 87,
     "metadata": {},
     "output_type": "execute_result"
    }
   ],
   "source": [
    "df_left_join.head()"
   ]
  },
  {
   "cell_type": "code",
   "execution_count": 88,
   "metadata": {},
   "outputs": [],
   "source": [
    "df_expired = df_left_join[df_left_join[\"_merge\"] == \"left_only\"]"
   ]
  },
  {
   "cell_type": "code",
   "execution_count": 89,
   "metadata": {},
   "outputs": [
    {
     "data": {
      "text/html": [
       "<div>\n",
       "<style scoped>\n",
       "    .dataframe tbody tr th:only-of-type {\n",
       "        vertical-align: middle;\n",
       "    }\n",
       "\n",
       "    .dataframe tbody tr th {\n",
       "        vertical-align: top;\n",
       "    }\n",
       "\n",
       "    .dataframe thead th {\n",
       "        text-align: right;\n",
       "    }\n",
       "</style>\n",
       "<table border=\"1\" class=\"dataframe\">\n",
       "  <thead>\n",
       "    <tr style=\"text-align: right;\">\n",
       "      <th></th>\n",
       "      <th>overdriveNo</th>\n",
       "      <th>overdriveNoSrc</th>\n",
       "      <th>bibNo</th>\n",
       "      <th>sierraControlNo</th>\n",
       "      <th>sierraControlNoSrc</th>\n",
       "      <th>sierraFormat_int</th>\n",
       "      <th>sierra_status</th>\n",
       "      <th>overdriveControlNo</th>\n",
       "      <th>sierraFormat_ext</th>\n",
       "      <th>_merge</th>\n",
       "    </tr>\n",
       "  </thead>\n",
       "  <tbody>\n",
       "    <tr>\n",
       "      <th>29</th>\n",
       "      <td>07F268B6-EF5B-4953-BBB7-773FEE0C8176</td>\n",
       "      <td>url</td>\n",
       "      <td>b112411277</td>\n",
       "      <td>ocm57506094</td>\n",
       "      <td>OCoLC</td>\n",
       "      <td>z</td>\n",
       "      <td>-</td>\n",
       "      <td>NaN</td>\n",
       "      <td>NaN</td>\n",
       "      <td>left_only</td>\n",
       "    </tr>\n",
       "    <tr>\n",
       "      <th>33</th>\n",
       "      <td>AC7F7BAB-FB41-4C1B-8342-852CA2D05309</td>\n",
       "      <td>037</td>\n",
       "      <td>b112411307</td>\n",
       "      <td>ocm57675482</td>\n",
       "      <td>OCoLC</td>\n",
       "      <td>z</td>\n",
       "      <td>-</td>\n",
       "      <td>NaN</td>\n",
       "      <td>NaN</td>\n",
       "      <td>left_only</td>\n",
       "    </tr>\n",
       "    <tr>\n",
       "      <th>37</th>\n",
       "      <td>72023498-8893-464A-B55A-F7CBF0917F22</td>\n",
       "      <td>url</td>\n",
       "      <td>b112411332</td>\n",
       "      <td>ocm57687593</td>\n",
       "      <td>OCoLC</td>\n",
       "      <td>z</td>\n",
       "      <td>-</td>\n",
       "      <td>NaN</td>\n",
       "      <td>NaN</td>\n",
       "      <td>left_only</td>\n",
       "    </tr>\n",
       "    <tr>\n",
       "      <th>39</th>\n",
       "      <td>D80763AA-CA4F-42BD-85DA-EB0E65552533</td>\n",
       "      <td>url</td>\n",
       "      <td>b112411356</td>\n",
       "      <td>ocm57696112</td>\n",
       "      <td>OCoLC</td>\n",
       "      <td>z</td>\n",
       "      <td>-</td>\n",
       "      <td>NaN</td>\n",
       "      <td>NaN</td>\n",
       "      <td>left_only</td>\n",
       "    </tr>\n",
       "    <tr>\n",
       "      <th>42</th>\n",
       "      <td>1A5B49B9-AFF3-4832-B0DD-82D3235971A8</td>\n",
       "      <td>url</td>\n",
       "      <td>b11241137x</td>\n",
       "      <td>ocm57696438</td>\n",
       "      <td>OCoLC</td>\n",
       "      <td>z</td>\n",
       "      <td>-</td>\n",
       "      <td>NaN</td>\n",
       "      <td>NaN</td>\n",
       "      <td>left_only</td>\n",
       "    </tr>\n",
       "  </tbody>\n",
       "</table>\n",
       "</div>"
      ],
      "text/plain": [
       "                             overdriveNo overdriveNoSrc       bibNo  \\\n",
       "29  07F268B6-EF5B-4953-BBB7-773FEE0C8176            url  b112411277   \n",
       "33  AC7F7BAB-FB41-4C1B-8342-852CA2D05309            037  b112411307   \n",
       "37  72023498-8893-464A-B55A-F7CBF0917F22            url  b112411332   \n",
       "39  D80763AA-CA4F-42BD-85DA-EB0E65552533            url  b112411356   \n",
       "42  1A5B49B9-AFF3-4832-B0DD-82D3235971A8            url  b11241137x   \n",
       "\n",
       "   sierraControlNo sierraControlNoSrc sierraFormat_int sierra_status  \\\n",
       "29     ocm57506094              OCoLC                z             -   \n",
       "33     ocm57675482              OCoLC                z             -   \n",
       "37     ocm57687593              OCoLC                z             -   \n",
       "39     ocm57696112              OCoLC                z             -   \n",
       "42     ocm57696438              OCoLC                z             -   \n",
       "\n",
       "   overdriveControlNo sierraFormat_ext     _merge  \n",
       "29                NaN              NaN  left_only  \n",
       "33                NaN              NaN  left_only  \n",
       "37                NaN              NaN  left_only  \n",
       "39                NaN              NaN  left_only  \n",
       "42                NaN              NaN  left_only  "
      ]
     },
     "execution_count": 89,
     "metadata": {},
     "output_type": "execute_result"
    }
   ],
   "source": [
    "df_expired.head()"
   ]
  },
  {
   "cell_type": "code",
   "execution_count": 90,
   "metadata": {},
   "outputs": [
    {
     "data": {
      "text/plain": [
       "(14488, 10)"
      ]
     },
     "execution_count": 90,
     "metadata": {},
     "output_type": "execute_result"
    }
   ],
   "source": [
    "df_expired.shape"
   ]
  },
  {
   "cell_type": "code",
   "execution_count": 91,
   "metadata": {},
   "outputs": [],
   "source": [
    "df_expired.to_csv(\"./reports/BPL/expired-alldata.csv\", index=False)"
   ]
  },
  {
   "cell_type": "code",
   "execution_count": null,
   "metadata": {},
   "outputs": [],
   "source": [
    "df_expired[[\"ovedriveNo\", \"bibNo\"]].to_csv(\"./reports/BPL/expired-\")"
   ]
  }
 ],
 "metadata": {
  "kernelspec": {
   "display_name": "Python 3",
   "language": "python",
   "name": "python3"
  },
  "language_info": {
   "codemirror_mode": {
    "name": "ipython",
    "version": 3
   },
   "file_extension": ".py",
   "mimetype": "text/x-python",
   "name": "python",
   "nbconvert_exporter": "python",
   "pygments_lexer": "ipython3",
   "version": "3.7.3"
  }
 },
 "nbformat": 4,
 "nbformat_minor": 4
}
