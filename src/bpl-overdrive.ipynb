{
 "cells": [
  {
   "cell_type": "code",
   "execution_count": 36,
   "metadata": {},
   "outputs": [],
   "source": [
    "import pandas as pd"
   ]
  },
  {
   "cell_type": "code",
   "execution_count": 37,
   "metadata": {},
   "outputs": [],
   "source": [
    "overdrive_fh  = \"./reports/BPL/od-bpl-all.csv\""
   ]
  },
  {
   "cell_type": "code",
   "execution_count": 38,
   "metadata": {},
   "outputs": [],
   "source": [
    "odf_raw = pd.read_csv(overdrive_fh, header=None, names=[\"overdriveNo\", \"overdriveControlNo\", \"sierraFormat_ext\"])"
   ]
  },
  {
   "cell_type": "code",
   "execution_count": 39,
   "metadata": {},
   "outputs": [
    {
     "data": {
      "text/html": [
       "<div>\n",
       "<style scoped>\n",
       "    .dataframe tbody tr th:only-of-type {\n",
       "        vertical-align: middle;\n",
       "    }\n",
       "\n",
       "    .dataframe tbody tr th {\n",
       "        vertical-align: top;\n",
       "    }\n",
       "\n",
       "    .dataframe thead th {\n",
       "        text-align: right;\n",
       "    }\n",
       "</style>\n",
       "<table border=\"1\" class=\"dataframe\">\n",
       "  <thead>\n",
       "    <tr style=\"text-align: right;\">\n",
       "      <th></th>\n",
       "      <th>overdriveNo</th>\n",
       "      <th>overdriveControlNo</th>\n",
       "      <th>sierraFormat_ext</th>\n",
       "    </tr>\n",
       "  </thead>\n",
       "  <tbody>\n",
       "    <tr>\n",
       "      <th>0</th>\n",
       "      <td>0E90D7A5-30B8-4D07-9D13-DF0E02EA631E</td>\n",
       "      <td>ODN0000082587</td>\n",
       "      <td>z</td>\n",
       "    </tr>\n",
       "    <tr>\n",
       "      <th>1</th>\n",
       "      <td>C449DE3C-A683-412A-8997-F0551A5DC576</td>\n",
       "      <td>ODN0000082663</td>\n",
       "      <td>z</td>\n",
       "    </tr>\n",
       "    <tr>\n",
       "      <th>2</th>\n",
       "      <td>765A1B6A-E978-4777-8DD1-9647D611A58B</td>\n",
       "      <td>ODN0000082589</td>\n",
       "      <td>z</td>\n",
       "    </tr>\n",
       "    <tr>\n",
       "      <th>3</th>\n",
       "      <td>0957DA4E-DD2F-469E-BDFF-B9B1A9422C21</td>\n",
       "      <td>ODN0000082590</td>\n",
       "      <td>z</td>\n",
       "    </tr>\n",
       "    <tr>\n",
       "      <th>4</th>\n",
       "      <td>E572EC2C-09F7-462D-8153-7C8A7493586F</td>\n",
       "      <td>ODN0000082591</td>\n",
       "      <td>z</td>\n",
       "    </tr>\n",
       "  </tbody>\n",
       "</table>\n",
       "</div>"
      ],
      "text/plain": [
       "                            overdriveNo overdriveControlNo sierraFormat_ext\n",
       "0  0E90D7A5-30B8-4D07-9D13-DF0E02EA631E      ODN0000082587                z\n",
       "1  C449DE3C-A683-412A-8997-F0551A5DC576      ODN0000082663                z\n",
       "2  765A1B6A-E978-4777-8DD1-9647D611A58B      ODN0000082589                z\n",
       "3  0957DA4E-DD2F-469E-BDFF-B9B1A9422C21      ODN0000082590                z\n",
       "4  E572EC2C-09F7-462D-8153-7C8A7493586F      ODN0000082591                z"
      ]
     },
     "execution_count": 39,
     "metadata": {},
     "output_type": "execute_result"
    }
   ],
   "source": [
    "odf_raw.head()"
   ]
  },
  {
   "cell_type": "code",
   "execution_count": 40,
   "metadata": {},
   "outputs": [],
   "source": [
    "# find if any missing IDs\n",
    "odf_missing_ids = odf_raw[odf_raw[\"overdriveNo\"].isnull()]"
   ]
  },
  {
   "cell_type": "code",
   "execution_count": 41,
   "metadata": {},
   "outputs": [
    {
     "data": {
      "text/plain": [
       "(0, 3)"
      ]
     },
     "execution_count": 41,
     "metadata": {},
     "output_type": "execute_result"
    }
   ],
   "source": [
    "odf_missing_ids.shape"
   ]
  },
  {
   "cell_type": "code",
   "execution_count": 42,
   "metadata": {},
   "outputs": [
    {
     "data": {
      "text/plain": [
       "x    171343\n",
       "z     43806\n",
       "v      1985\n",
       "Name: sierraFormat_ext, dtype: int64"
      ]
     },
     "execution_count": 42,
     "metadata": {},
     "output_type": "execute_result"
    }
   ],
   "source": [
    "odf_raw[\"sierraFormat_ext\"].value_counts()"
   ]
  },
  {
   "cell_type": "code",
   "execution_count": 43,
   "metadata": {},
   "outputs": [],
   "source": [
    "sierra_fh = \"./reports/BPL/sierra-bpl-all.csv\""
   ]
  },
  {
   "cell_type": "code",
   "execution_count": 44,
   "metadata": {},
   "outputs": [],
   "source": [
    "sdf_raw = pd.read_csv(\n",
    "    sierra_fh,\n",
    "    header=None,\n",
    "    names=[\"overdriveNo\", \"overdriveNoSrc\", \"bibNo\", \"sierraControlNo\", \"sierraControlNoSrc\", \"sierraFormat_int\", \"sierra_status\"],\n",
    "    low_memory=False\n",
    ")"
   ]
  },
  {
   "cell_type": "code",
   "execution_count": 45,
   "metadata": {},
   "outputs": [
    {
     "data": {
      "text/html": [
       "<div>\n",
       "<style scoped>\n",
       "    .dataframe tbody tr th:only-of-type {\n",
       "        vertical-align: middle;\n",
       "    }\n",
       "\n",
       "    .dataframe tbody tr th {\n",
       "        vertical-align: top;\n",
       "    }\n",
       "\n",
       "    .dataframe thead th {\n",
       "        text-align: right;\n",
       "    }\n",
       "</style>\n",
       "<table border=\"1\" class=\"dataframe\">\n",
       "  <thead>\n",
       "    <tr style=\"text-align: right;\">\n",
       "      <th></th>\n",
       "      <th>overdriveNo</th>\n",
       "      <th>overdriveNoSrc</th>\n",
       "      <th>bibNo</th>\n",
       "      <th>sierraControlNo</th>\n",
       "      <th>sierraControlNoSrc</th>\n",
       "      <th>sierraFormat_int</th>\n",
       "      <th>sierra_status</th>\n",
       "    </tr>\n",
       "  </thead>\n",
       "  <tbody>\n",
       "    <tr>\n",
       "      <th>0</th>\n",
       "      <td>27C3C666-343B-442B-A81C-2068E6D1A664</td>\n",
       "      <td>037</td>\n",
       "      <td>b112402306</td>\n",
       "      <td>ocm54908102</td>\n",
       "      <td>OCoLC</td>\n",
       "      <td>x</td>\n",
       "      <td>-</td>\n",
       "    </tr>\n",
       "    <tr>\n",
       "      <th>1</th>\n",
       "      <td>C1AC2A72-58D4-4611-9F80-00CFE226CF2C</td>\n",
       "      <td>037</td>\n",
       "      <td>b112402318</td>\n",
       "      <td>ocm55680353</td>\n",
       "      <td>OCoLC</td>\n",
       "      <td>x</td>\n",
       "      <td>-</td>\n",
       "    </tr>\n",
       "    <tr>\n",
       "      <th>2</th>\n",
       "      <td>8CD53ED9-CEBD-4F78-8BEF-20A58F6F3857</td>\n",
       "      <td>037</td>\n",
       "      <td>b11240232x</td>\n",
       "      <td>ocm56833247</td>\n",
       "      <td>OCoLC</td>\n",
       "      <td>x</td>\n",
       "      <td>-</td>\n",
       "    </tr>\n",
       "    <tr>\n",
       "      <th>3</th>\n",
       "      <td>CAC65044-3B9C-4B12-B80B-00D9A09ABAB8</td>\n",
       "      <td>037</td>\n",
       "      <td>b112402331</td>\n",
       "      <td>ocm57443259</td>\n",
       "      <td>OCoLC</td>\n",
       "      <td>x</td>\n",
       "      <td>-</td>\n",
       "    </tr>\n",
       "    <tr>\n",
       "      <th>4</th>\n",
       "      <td>3D783A28-2DA9-4798-A3C2-1F65D2208F38</td>\n",
       "      <td>037</td>\n",
       "      <td>b112402343</td>\n",
       "      <td>ocm60397130</td>\n",
       "      <td>OCoLC</td>\n",
       "      <td>x</td>\n",
       "      <td>-</td>\n",
       "    </tr>\n",
       "  </tbody>\n",
       "</table>\n",
       "</div>"
      ],
      "text/plain": [
       "                            overdriveNo overdriveNoSrc       bibNo  \\\n",
       "0  27C3C666-343B-442B-A81C-2068E6D1A664            037  b112402306   \n",
       "1  C1AC2A72-58D4-4611-9F80-00CFE226CF2C            037  b112402318   \n",
       "2  8CD53ED9-CEBD-4F78-8BEF-20A58F6F3857            037  b11240232x   \n",
       "3  CAC65044-3B9C-4B12-B80B-00D9A09ABAB8            037  b112402331   \n",
       "4  3D783A28-2DA9-4798-A3C2-1F65D2208F38            037  b112402343   \n",
       "\n",
       "  sierraControlNo sierraControlNoSrc sierraFormat_int sierra_status  \n",
       "0     ocm54908102              OCoLC                x             -  \n",
       "1     ocm55680353              OCoLC                x             -  \n",
       "2     ocm56833247              OCoLC                x             -  \n",
       "3     ocm57443259              OCoLC                x             -  \n",
       "4     ocm60397130              OCoLC                x             -  "
      ]
     },
     "execution_count": 45,
     "metadata": {},
     "output_type": "execute_result"
    }
   ],
   "source": [
    "sdf_raw.head()"
   ]
  },
  {
   "cell_type": "code",
   "execution_count": 46,
   "metadata": {},
   "outputs": [
    {
     "data": {
      "text/plain": [
       "x    161347\n",
       "z     41264\n",
       "v       935\n",
       "s        45\n",
       "Name: sierraFormat_int, dtype: int64"
      ]
     },
     "execution_count": 46,
     "metadata": {},
     "output_type": "execute_result"
    }
   ],
   "source": [
    "sdf_raw[\"sierraFormat_int\"].value_counts()"
   ]
  },
  {
   "cell_type": "code",
   "execution_count": 47,
   "metadata": {},
   "outputs": [],
   "source": [
    "# sierra fomat \"s\"?\n",
    "sdf_s_format = sdf_raw[sdf_raw[\"sierraFormat_int\"] == \"s\"]"
   ]
  },
  {
   "cell_type": "code",
   "execution_count": 48,
   "metadata": {},
   "outputs": [
    {
     "data": {
      "text/html": [
       "<div>\n",
       "<style scoped>\n",
       "    .dataframe tbody tr th:only-of-type {\n",
       "        vertical-align: middle;\n",
       "    }\n",
       "\n",
       "    .dataframe tbody tr th {\n",
       "        vertical-align: top;\n",
       "    }\n",
       "\n",
       "    .dataframe thead th {\n",
       "        text-align: right;\n",
       "    }\n",
       "</style>\n",
       "<table border=\"1\" class=\"dataframe\">\n",
       "  <thead>\n",
       "    <tr style=\"text-align: right;\">\n",
       "      <th></th>\n",
       "      <th>overdriveNo</th>\n",
       "      <th>overdriveNoSrc</th>\n",
       "      <th>bibNo</th>\n",
       "      <th>sierraControlNo</th>\n",
       "      <th>sierraControlNoSrc</th>\n",
       "      <th>sierraFormat_int</th>\n",
       "      <th>sierra_status</th>\n",
       "    </tr>\n",
       "  </thead>\n",
       "  <tbody>\n",
       "    <tr>\n",
       "      <th>713</th>\n",
       "      <td>15B32E52-357A-4D74-A43E-18C673B0B0FC</td>\n",
       "      <td>url</td>\n",
       "      <td>b112467854</td>\n",
       "      <td>ocm57507474</td>\n",
       "      <td>OCoLC</td>\n",
       "      <td>s</td>\n",
       "      <td>-</td>\n",
       "    </tr>\n",
       "    <tr>\n",
       "      <th>714</th>\n",
       "      <td>EBC278AA-D4EA-45FB-8B3B-DFDF2122ADA0</td>\n",
       "      <td>url</td>\n",
       "      <td>b112467866</td>\n",
       "      <td>ocm57507588</td>\n",
       "      <td>OCoLC</td>\n",
       "      <td>s</td>\n",
       "      <td>-</td>\n",
       "    </tr>\n",
       "    <tr>\n",
       "      <th>715</th>\n",
       "      <td>35AC0D13-E37C-47E0-8DC9-DEEFC69D10DF</td>\n",
       "      <td>url</td>\n",
       "      <td>b112467878</td>\n",
       "      <td>ocm57507915</td>\n",
       "      <td>OCoLC</td>\n",
       "      <td>s</td>\n",
       "      <td>-</td>\n",
       "    </tr>\n",
       "    <tr>\n",
       "      <th>717</th>\n",
       "      <td>7B5DF2A5-6C03-495A-B98B-4A6B49D7BF6A</td>\n",
       "      <td>url</td>\n",
       "      <td>b112467891</td>\n",
       "      <td>ocm57508902</td>\n",
       "      <td>OCoLC</td>\n",
       "      <td>s</td>\n",
       "      <td>-</td>\n",
       "    </tr>\n",
       "    <tr>\n",
       "      <th>718</th>\n",
       "      <td>679C31DB-8F49-4A59-B697-C0CE35CDD490</td>\n",
       "      <td>url</td>\n",
       "      <td>b112467908</td>\n",
       "      <td>ocm57509118</td>\n",
       "      <td>OCoLC</td>\n",
       "      <td>s</td>\n",
       "      <td>-</td>\n",
       "    </tr>\n",
       "  </tbody>\n",
       "</table>\n",
       "</div>"
      ],
      "text/plain": [
       "                              overdriveNo overdriveNoSrc       bibNo  \\\n",
       "713  15B32E52-357A-4D74-A43E-18C673B0B0FC            url  b112467854   \n",
       "714  EBC278AA-D4EA-45FB-8B3B-DFDF2122ADA0            url  b112467866   \n",
       "715  35AC0D13-E37C-47E0-8DC9-DEEFC69D10DF            url  b112467878   \n",
       "717  7B5DF2A5-6C03-495A-B98B-4A6B49D7BF6A            url  b112467891   \n",
       "718  679C31DB-8F49-4A59-B697-C0CE35CDD490            url  b112467908   \n",
       "\n",
       "    sierraControlNo sierraControlNoSrc sierraFormat_int sierra_status  \n",
       "713     ocm57507474              OCoLC                s             -  \n",
       "714     ocm57507588              OCoLC                s             -  \n",
       "715     ocm57507915              OCoLC                s             -  \n",
       "717     ocm57508902              OCoLC                s             -  \n",
       "718     ocm57509118              OCoLC                s             -  "
      ]
     },
     "execution_count": 48,
     "metadata": {},
     "output_type": "execute_result"
    }
   ],
   "source": [
    "sdf_s_format.head()"
   ]
  },
  {
   "cell_type": "code",
   "execution_count": 49,
   "metadata": {},
   "outputs": [],
   "source": [
    "# this looks like legitimate bibs that are marked differently in Sierra than on Overload platform\n"
   ]
  },
  {
   "cell_type": "code",
   "execution_count": 51,
   "metadata": {},
   "outputs": [],
   "source": [
    "df_available = pd.merge(odf_raw, sdf_raw, on=\"overdriveNo\", how=\"inner\")"
   ]
  },
  {
   "cell_type": "code",
   "execution_count": 52,
   "metadata": {},
   "outputs": [
    {
     "data": {
      "text/html": [
       "<div>\n",
       "<style scoped>\n",
       "    .dataframe tbody tr th:only-of-type {\n",
       "        vertical-align: middle;\n",
       "    }\n",
       "\n",
       "    .dataframe tbody tr th {\n",
       "        vertical-align: top;\n",
       "    }\n",
       "\n",
       "    .dataframe thead th {\n",
       "        text-align: right;\n",
       "    }\n",
       "</style>\n",
       "<table border=\"1\" class=\"dataframe\">\n",
       "  <thead>\n",
       "    <tr style=\"text-align: right;\">\n",
       "      <th></th>\n",
       "      <th>overdriveNo</th>\n",
       "      <th>overdriveControlNo</th>\n",
       "      <th>sierraFormat_ext</th>\n",
       "      <th>overdriveNoSrc</th>\n",
       "      <th>bibNo</th>\n",
       "      <th>sierraControlNo</th>\n",
       "      <th>sierraControlNoSrc</th>\n",
       "      <th>sierraFormat_int</th>\n",
       "      <th>sierra_status</th>\n",
       "    </tr>\n",
       "  </thead>\n",
       "  <tbody>\n",
       "    <tr>\n",
       "      <th>0</th>\n",
       "      <td>0E90D7A5-30B8-4D07-9D13-DF0E02EA631E</td>\n",
       "      <td>ODN0000082587</td>\n",
       "      <td>z</td>\n",
       "      <td>url</td>\n",
       "      <td>b113910861</td>\n",
       "      <td>ocm63791051</td>\n",
       "      <td>OCoLC</td>\n",
       "      <td>z</td>\n",
       "      <td>-</td>\n",
       "    </tr>\n",
       "    <tr>\n",
       "      <th>1</th>\n",
       "      <td>C449DE3C-A683-412A-8997-F0551A5DC576</td>\n",
       "      <td>ODN0000082663</td>\n",
       "      <td>z</td>\n",
       "      <td>037</td>\n",
       "      <td>b122634597</td>\n",
       "      <td>ocm63680586</td>\n",
       "      <td>NaN</td>\n",
       "      <td>z</td>\n",
       "      <td>-</td>\n",
       "    </tr>\n",
       "    <tr>\n",
       "      <th>2</th>\n",
       "      <td>765A1B6A-E978-4777-8DD1-9647D611A58B</td>\n",
       "      <td>ODN0000082589</td>\n",
       "      <td>z</td>\n",
       "      <td>url</td>\n",
       "      <td>b113851571</td>\n",
       "      <td>ocm63791673</td>\n",
       "      <td>OCoLC</td>\n",
       "      <td>z</td>\n",
       "      <td>-</td>\n",
       "    </tr>\n",
       "    <tr>\n",
       "      <th>3</th>\n",
       "      <td>0957DA4E-DD2F-469E-BDFF-B9B1A9422C21</td>\n",
       "      <td>ODN0000082590</td>\n",
       "      <td>z</td>\n",
       "      <td>037</td>\n",
       "      <td>b113026158</td>\n",
       "      <td>ocm66900955</td>\n",
       "      <td>OCoLC</td>\n",
       "      <td>z</td>\n",
       "      <td>-</td>\n",
       "    </tr>\n",
       "    <tr>\n",
       "      <th>4</th>\n",
       "      <td>E572EC2C-09F7-462D-8153-7C8A7493586F</td>\n",
       "      <td>ODN0000082591</td>\n",
       "      <td>z</td>\n",
       "      <td>037</td>\n",
       "      <td>b11302616x</td>\n",
       "      <td>ocm66900982</td>\n",
       "      <td>OCoLC</td>\n",
       "      <td>z</td>\n",
       "      <td>-</td>\n",
       "    </tr>\n",
       "  </tbody>\n",
       "</table>\n",
       "</div>"
      ],
      "text/plain": [
       "                            overdriveNo overdriveControlNo sierraFormat_ext  \\\n",
       "0  0E90D7A5-30B8-4D07-9D13-DF0E02EA631E      ODN0000082587                z   \n",
       "1  C449DE3C-A683-412A-8997-F0551A5DC576      ODN0000082663                z   \n",
       "2  765A1B6A-E978-4777-8DD1-9647D611A58B      ODN0000082589                z   \n",
       "3  0957DA4E-DD2F-469E-BDFF-B9B1A9422C21      ODN0000082590                z   \n",
       "4  E572EC2C-09F7-462D-8153-7C8A7493586F      ODN0000082591                z   \n",
       "\n",
       "  overdriveNoSrc       bibNo sierraControlNo sierraControlNoSrc  \\\n",
       "0            url  b113910861     ocm63791051              OCoLC   \n",
       "1            037  b122634597     ocm63680586                NaN   \n",
       "2            url  b113851571     ocm63791673              OCoLC   \n",
       "3            037  b113026158     ocm66900955              OCoLC   \n",
       "4            037  b11302616x     ocm66900982              OCoLC   \n",
       "\n",
       "  sierraFormat_int sierra_status  \n",
       "0                z             -  \n",
       "1                z             -  \n",
       "2                z             -  \n",
       "3                z             -  \n",
       "4                z             -  "
      ]
     },
     "execution_count": 52,
     "metadata": {},
     "output_type": "execute_result"
    }
   ],
   "source": [
    "df_available.head()"
   ]
  },
  {
   "cell_type": "code",
   "execution_count": 53,
   "metadata": {},
   "outputs": [
    {
     "data": {
      "text/plain": [
       "(189051, 9)"
      ]
     },
     "execution_count": 53,
     "metadata": {},
     "output_type": "execute_result"
    }
   ],
   "source": [
    "df_available.shape"
   ]
  },
  {
   "cell_type": "code",
   "execution_count": 65,
   "metadata": {},
   "outputs": [],
   "source": [
    "df_missing = odf_raw.merge(sdf_raw, on=\"overdriveNo\", how=\"left\", validate=\"one_to_many\")"
   ]
  },
  {
   "cell_type": "code",
   "execution_count": 66,
   "metadata": {},
   "outputs": [
    {
     "data": {
      "text/plain": [
       "(219600, 9)"
      ]
     },
     "execution_count": 66,
     "metadata": {},
     "output_type": "execute_result"
    }
   ],
   "source": [
    "df_missing.shape"
   ]
  },
  {
   "cell_type": "code",
   "execution_count": 67,
   "metadata": {},
   "outputs": [
    {
     "data": {
      "text/html": [
       "<div>\n",
       "<style scoped>\n",
       "    .dataframe tbody tr th:only-of-type {\n",
       "        vertical-align: middle;\n",
       "    }\n",
       "\n",
       "    .dataframe tbody tr th {\n",
       "        vertical-align: top;\n",
       "    }\n",
       "\n",
       "    .dataframe thead th {\n",
       "        text-align: right;\n",
       "    }\n",
       "</style>\n",
       "<table border=\"1\" class=\"dataframe\">\n",
       "  <thead>\n",
       "    <tr style=\"text-align: right;\">\n",
       "      <th></th>\n",
       "      <th>overdriveNo</th>\n",
       "      <th>overdriveControlNo</th>\n",
       "      <th>sierraFormat_ext</th>\n",
       "      <th>overdriveNoSrc</th>\n",
       "      <th>bibNo</th>\n",
       "      <th>sierraControlNo</th>\n",
       "      <th>sierraControlNoSrc</th>\n",
       "      <th>sierraFormat_int</th>\n",
       "      <th>sierra_status</th>\n",
       "    </tr>\n",
       "  </thead>\n",
       "  <tbody>\n",
       "    <tr>\n",
       "      <th>0</th>\n",
       "      <td>0E90D7A5-30B8-4D07-9D13-DF0E02EA631E</td>\n",
       "      <td>ODN0000082587</td>\n",
       "      <td>z</td>\n",
       "      <td>url</td>\n",
       "      <td>b113910861</td>\n",
       "      <td>ocm63791051</td>\n",
       "      <td>OCoLC</td>\n",
       "      <td>z</td>\n",
       "      <td>-</td>\n",
       "    </tr>\n",
       "    <tr>\n",
       "      <th>1</th>\n",
       "      <td>C449DE3C-A683-412A-8997-F0551A5DC576</td>\n",
       "      <td>ODN0000082663</td>\n",
       "      <td>z</td>\n",
       "      <td>037</td>\n",
       "      <td>b122634597</td>\n",
       "      <td>ocm63680586</td>\n",
       "      <td>NaN</td>\n",
       "      <td>z</td>\n",
       "      <td>-</td>\n",
       "    </tr>\n",
       "    <tr>\n",
       "      <th>2</th>\n",
       "      <td>765A1B6A-E978-4777-8DD1-9647D611A58B</td>\n",
       "      <td>ODN0000082589</td>\n",
       "      <td>z</td>\n",
       "      <td>url</td>\n",
       "      <td>b113851571</td>\n",
       "      <td>ocm63791673</td>\n",
       "      <td>OCoLC</td>\n",
       "      <td>z</td>\n",
       "      <td>-</td>\n",
       "    </tr>\n",
       "    <tr>\n",
       "      <th>3</th>\n",
       "      <td>0957DA4E-DD2F-469E-BDFF-B9B1A9422C21</td>\n",
       "      <td>ODN0000082590</td>\n",
       "      <td>z</td>\n",
       "      <td>037</td>\n",
       "      <td>b113026158</td>\n",
       "      <td>ocm66900955</td>\n",
       "      <td>OCoLC</td>\n",
       "      <td>z</td>\n",
       "      <td>-</td>\n",
       "    </tr>\n",
       "    <tr>\n",
       "      <th>4</th>\n",
       "      <td>E572EC2C-09F7-462D-8153-7C8A7493586F</td>\n",
       "      <td>ODN0000082591</td>\n",
       "      <td>z</td>\n",
       "      <td>037</td>\n",
       "      <td>b11302616x</td>\n",
       "      <td>ocm66900982</td>\n",
       "      <td>OCoLC</td>\n",
       "      <td>z</td>\n",
       "      <td>-</td>\n",
       "    </tr>\n",
       "  </tbody>\n",
       "</table>\n",
       "</div>"
      ],
      "text/plain": [
       "                            overdriveNo overdriveControlNo sierraFormat_ext  \\\n",
       "0  0E90D7A5-30B8-4D07-9D13-DF0E02EA631E      ODN0000082587                z   \n",
       "1  C449DE3C-A683-412A-8997-F0551A5DC576      ODN0000082663                z   \n",
       "2  765A1B6A-E978-4777-8DD1-9647D611A58B      ODN0000082589                z   \n",
       "3  0957DA4E-DD2F-469E-BDFF-B9B1A9422C21      ODN0000082590                z   \n",
       "4  E572EC2C-09F7-462D-8153-7C8A7493586F      ODN0000082591                z   \n",
       "\n",
       "  overdriveNoSrc       bibNo sierraControlNo sierraControlNoSrc  \\\n",
       "0            url  b113910861     ocm63791051              OCoLC   \n",
       "1            037  b122634597     ocm63680586                NaN   \n",
       "2            url  b113851571     ocm63791673              OCoLC   \n",
       "3            037  b113026158     ocm66900955              OCoLC   \n",
       "4            037  b11302616x     ocm66900982              OCoLC   \n",
       "\n",
       "  sierraFormat_int sierra_status  \n",
       "0                z             -  \n",
       "1                z             -  \n",
       "2                z             -  \n",
       "3                z             -  \n",
       "4                z             -  "
      ]
     },
     "execution_count": 67,
     "metadata": {},
     "output_type": "execute_result"
    }
   ],
   "source": [
    "df_missing.head()"
   ]
  },
  {
   "cell_type": "code",
   "execution_count": null,
   "metadata": {},
   "outputs": [],
   "source": []
  }
 ],
 "metadata": {
  "kernelspec": {
   "display_name": "Python 3",
   "language": "python",
   "name": "python3"
  },
  "language_info": {
   "codemirror_mode": {
    "name": "ipython",
    "version": 3
   },
   "file_extension": ".py",
   "mimetype": "text/x-python",
   "name": "python",
   "nbconvert_exporter": "python",
   "pygments_lexer": "ipython3",
   "version": "3.7.2"
  }
 },
 "nbformat": 4,
 "nbformat_minor": 4
}
